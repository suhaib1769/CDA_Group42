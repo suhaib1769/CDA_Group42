{
 "cells": [
  {
   "cell_type": "code",
   "execution_count": 2,
   "metadata": {},
   "outputs": [],
   "source": [
    "import numpy as np\n",
    "import pandas as pd\n",
    "import seaborn as sns\n",
    "import matplotlib.pyplot as plt\n",
    "from sklearn.preprocessing import LabelEncoder\n",
    "from sklearn.preprocessing import StandardScaler\n",
    "from sklearn.decomposition import PCA\n",
    "import re\n",
    "import csv\n",
    "from tqdm import tqdm\n"
   ]
  },
  {
   "cell_type": "markdown",
   "metadata": {},
   "source": [
    "## Read the Data"
   ]
  },
  {
   "cell_type": "code",
   "execution_count": 3,
   "metadata": {},
   "outputs": [],
   "source": [
    "data = \"train_data.csv\"\n",
    "df1 = pd.read_csv(data)"
   ]
  },
  {
   "cell_type": "markdown",
   "metadata": {},
   "source": [
    "## Data Preprocessing"
   ]
  },
  {
   "cell_type": "code",
   "execution_count": 4,
   "metadata": {},
   "outputs": [],
   "source": [
    "#Prepare card id and ip id for plotting\n",
    "\n",
    "# 1.Card ID\n",
    "card_enc = LabelEncoder()\n",
    "card_enc.fit(df1['card_id'])\n",
    "df1['card_id'] = card_enc.transform(df1.card_id)\n",
    "\n",
    "# 2.IP ID\n",
    "ip_enc = LabelEncoder()\n",
    "ip_enc.fit(df1['ip_id'])\n",
    "df1['ip_id'] = ip_enc.transform(df1.ip_id)\n"
   ]
  },
  {
   "cell_type": "markdown",
   "metadata": {},
   "source": [
    "## Data Preprocessing"
   ]
  },
  {
   "cell_type": "code",
   "execution_count": 5,
   "metadata": {},
   "outputs": [],
   "source": [
    "data = \"train_data.csv\"\n",
    "df1 = pd.read_csv(data)\n",
    "\n",
    "#Prepare card id and ip id for plotting\n",
    "\n",
    "# 1.Card ID\n",
    "card_enc = LabelEncoder()\n",
    "card_enc.fit(df1['card_id'])\n",
    "df1['card_id'] = card_enc.transform(df1.card_id)\n",
    "\n",
    "# 2.IP ID\n",
    "ip_enc = LabelEncoder()\n",
    "ip_enc.fit(df1['ip_id'])\n",
    "df1['ip_id'] = ip_enc.transform(df1.ip_id)\n",
    "\n",
    "#Encoding, Cleaning the data\n",
    "df1.loc[df1['cardverificationcodesupplied'].isna(),'cardverificationcodesupplied'] = False\n",
    "df1.loc[df1['issuercountrycode'].isna(),'issuercountrycode'] = 'ZZ'\n",
    "df1.loc[df1['shoppercountrycode'].isna(),'shoppercountrycode'] = 'ZZ'\n",
    "\n",
    "unique_issuer_cc = df1['issuercountrycode'].unique()\n",
    "unique_shopper_cc = df1['shoppercountrycode'].unique()\n",
    "both = np.append(unique_issuer_cc, unique_shopper_cc)\n",
    "df_countrycodes = pd.DataFrame(both)\n",
    "unique_codes = df_countrycodes[0].unique()\n",
    "enc = LabelEncoder()\n",
    "enc.fit(unique_codes)\n",
    "df1['issuercountrycode'] = enc.transform(df1.issuercountrycode)\n",
    "df1['shoppercountrycode'] = enc.transform(df1.shoppercountrycode)\n",
    "def conv(row):\n",
    "    currency_dict = {\"BGN\": 1.9558, \"NZD\": 1.6805, \"ILS\": 4.0448, \"RUB\": 72.2099, \"CAD\": 1.5075, \"USD\": 1.1218,\n",
    "                     \"PHP\": 58.125, \"CHF\": 1.1437, \"ZAR\": 16.0224, \"AUD\": 1.5911, \"JPY\": 124.93, \"TRY\": 6.6913,\n",
    "                     \"HKD\": 8.8007, \"MYR\": 4.6314, \"THB\": 35.802, \"HRK\": 7.413, \"NOK\": 9.6678, \"IDR\": 15953.68,\n",
    "                     \"DKK\": 7.4646, \"CZK\": 25.659, \"HUF\": 322.97, \"GBP\": 0.86248, \"MXN\": 21.2829, \"KRW\": 1308.01,\n",
    "                     \"ISK\": 136.2, \"SGD\": 1.5263, \"BRL\": 4.405, \"PLN\": 4.2868, \"INR\": 78.0615, \"RON\": 4.7596,\n",
    "                     \"CNY\": 7.5541, \"SEK\": 10.635}\n",
    "    return row['amount'] / (currency_dict[row['currencycode']]*100)\n",
    "\n",
    "df1['amount_eur'] = df1.apply(lambda x: conv(x), axis=1)\n",
    "\n",
    "\n",
    "enc1 = LabelEncoder()\n",
    "enc1.fit(df1['txvariantcode'])\n",
    "df1['txvariantcode'] = enc1.transform(df1.txvariantcode)\n",
    "\n",
    "enc2 = LabelEncoder()\n",
    "enc2.fit(df1['currencycode'])\n",
    "df1['currencycode'] = enc2.transform(df1.currencycode)\n",
    "\n",
    "enc3 = LabelEncoder()\n",
    "enc3.fit(df1['shopperinteraction'])\n",
    "df1['shopperinteraction'] = enc3.transform(df1.shopperinteraction)\n",
    "\n",
    "df1['accountcode'] = df1['accountcode'].apply(lambda x: re.sub('Account','',x))\n",
    "df1['accountcode_cc'] = 0\n",
    "df1.loc[(df1['accountcode'] == 'UK'),'accountcode_cc'] = 'GB'\n",
    "df1.loc[(df1['accountcode'] == 'Mexico'),'accountcode_cc'] = 'MX'\n",
    "df1.loc[(df1['accountcode'] == 'Sweden'),'accountcode_cc'] = 'SE'\n",
    "df1.loc[(df1['accountcode'] == 'APAC'),'accountcode_cc'] = 'APAC'\n",
    "\n",
    "enc4 = LabelEncoder()\n",
    "enc4.fit(df1['accountcode'])\n",
    "df1['accountcode'] = enc4.transform(df1.accountcode)\n",
    "\n",
    "enc5 = LabelEncoder()\n",
    "enc5.fit(df1['cardverificationcodesupplied'])\n",
    "df1['cardverificationcodesupplied'] = enc5.transform(df1.cardverificationcodesupplied)\n",
    "\n",
    "df1.loc[df1['mail_id'].str.contains('na',case=False),'mail_id'] = 'email99999'\n",
    "\n",
    "enc6 = LabelEncoder()\n",
    "enc6.fit(df1['mail_id'])\n",
    "df1['mail_id'] = enc6.transform(df1.mail_id)\n",
    "\n",
    "df1.loc[df1['cvcresponsecode'] > 2,'cvcresponsecode'] = 3\n",
    "\n",
    "#Feature Engineering\n",
    "df1['countries_equal'] = (df1['shoppercountrycode'] == df1['issuercountrycode'])\n",
    "df1.loc[df1['countries_equal'] == False,'countries_equal'] = 0\n",
    "df1.loc[df1['countries_equal'] == True,'countries_equal'] = 1\n",
    "\n",
    "\n",
    "X = df1[['issuercountrycode','txvariantcode','bin','amount','currencycode','shoppercountrycode','shopperinteraction','cardverificationcodesupplied','cvcresponsecode','accountcode','mail_id','ip_id','card_id','amount_eur','countries_equal']]\n"
   ]
  },
  {
   "cell_type": "code",
   "execution_count": 6,
   "outputs": [
    {
     "name": "stdout",
     "output_type": "stream",
     "text": [
      "   Id  issuercountrycode  txvariantcode       bin   amount  currencycode  \\\n",
      "0   1                 49              2  546097.0   4500.0             1   \n",
      "1   2                 49              3  557349.0   3395.0             1   \n",
      "2   3                 49              2  542011.0   3895.0             1   \n",
      "3   4                 49              8  465943.0  15345.0             1   \n",
      "4   6                 49              8  475127.0   5095.0             1   \n",
      "\n",
      "   shoppercountrycode  shopperinteraction  cardverificationcodesupplied  \\\n",
      "0                  49                   1                             1   \n",
      "1                  49                   1                             1   \n",
      "2                  49                   1                             1   \n",
      "3                  49                   0                             0   \n",
      "4                  49                   1                             1   \n",
      "\n",
      "   cvcresponsecode  accountcode  mail_id   ip_id  card_id  label  amount_eur  \\\n",
      "0                1            3    17805   12538   105460      0   52.175123   \n",
      "1                1            3   115620  107432    29882      0   39.363232   \n",
      "2                1            3    84651   87293   123743      0   45.160467   \n",
      "3                0            3    99845  147089    14712      0  177.917169   \n",
      "4                1            3   122624   56390    75841      0   59.073834   \n",
      "\n",
      "  accountcode_cc countries_equal  \n",
      "0             GB               1  \n",
      "1             GB               1  \n",
      "2             GB               1  \n",
      "3             GB               1  \n",
      "4             GB               1  \n"
     ]
    }
   ],
   "source": [
    "print(df1.head())"
   ],
   "metadata": {
    "collapsed": false
   }
  },
  {
   "cell_type": "code",
   "execution_count": 11,
   "outputs": [
    {
     "name": "stdout",
     "output_type": "stream",
     "text": [
      "            Id  issuercountrycode  txvariantcode       bin   amount  \\\n",
      "0            1                 49              2  546097.0   4500.0   \n",
      "1            2                 49              3  557349.0   3395.0   \n",
      "2            3                 49              2  542011.0   3895.0   \n",
      "3            4                 49              8  465943.0  15345.0   \n",
      "4            6                 49              8  475127.0   5095.0   \n",
      "...        ...                ...            ...       ...      ...   \n",
      "189623  237030                 49              2  522948.0  10900.0   \n",
      "189624  237031                 49              8  475128.0   1895.0   \n",
      "189625  237032                 49              8  475130.0   3195.0   \n",
      "189626  237034                 49              8  475130.0   7895.0   \n",
      "189627  237035                  9              2  521729.0  11050.0   \n",
      "\n",
      "        currencycode  shoppercountrycode  shopperinteraction  \\\n",
      "0                  1                  49                   1   \n",
      "1                  1                  49                   1   \n",
      "2                  1                  49                   1   \n",
      "3                  1                  49                   0   \n",
      "4                  1                  49                   1   \n",
      "...              ...                 ...                 ...   \n",
      "189623             1                  49                   1   \n",
      "189624             1                  49                   1   \n",
      "189625             1                  49                   1   \n",
      "189626             1                  49                   1   \n",
      "189627             0                   9                   1   \n",
      "\n",
      "        cardverificationcodesupplied  cvcresponsecode  accountcode  mail_id  \\\n",
      "0                                  1                1            3    17805   \n",
      "1                                  1                1            3   115620   \n",
      "2                                  1                1            3    84651   \n",
      "3                                  0                0            3    99845   \n",
      "4                                  1                1            3   122624   \n",
      "...                              ...              ...          ...      ...   \n",
      "189623                             1                1            3    98176   \n",
      "189624                             1                1            3   154237   \n",
      "189625                             1                1            3    71272   \n",
      "189626                             1                1            3    46630   \n",
      "189627                             1                0            0   113323   \n",
      "\n",
      "         ip_id  card_id  label  amount_eur accountcode_cc countries_equal  \n",
      "0        12538   105460      0   52.175123             GB               1  \n",
      "1       107432    29882      0   39.363232             GB               1  \n",
      "2        87293   123743      0   45.160467             GB               1  \n",
      "3       147089    14712      0  177.917169             GB               1  \n",
      "4        56390    75841      0   59.073834             GB               1  \n",
      "...        ...      ...    ...         ...            ...             ...  \n",
      "189623  111864   159778      0  126.379742             GB               1  \n",
      "189624  163508    83649      0   21.971524             GB               1  \n",
      "189625  144408     4558      0   37.044337             GB               1  \n",
      "189626  110102    62402      0   91.538355             GB               1  \n",
      "189627   17695    30757      0   69.448809           APAC               1  \n",
      "\n",
      "[189628 rows x 18 columns]\n",
      "data:  [[17663 0 4 ... 108.9300621463686 'GB' 1]\n",
      " [116328 0 2 ... 89.85715610796771 'GB' 1]\n",
      " [212048 0 4 ... 133.10453575735087 'GB' 1]\n",
      " ...\n",
      " [123671 146 6 ... 88.06001298580836 'GB' 0]\n",
      " [122020 146 1 ... 56.35510198328235 'MX' 0]\n",
      " [176226 146 6 ... 42.21908791725435 'SE' 0]]\n"
     ]
    },
    {
     "name": "stderr",
     "output_type": "stream",
     "text": [
      "100%|██████████| 10000000/10000000 [01:03<00:00, 158388.14it/s]\n"
     ]
    },
    {
     "name": "stdout",
     "output_type": "stream",
     "text": [
      "data:  [[213174 9 8 ... 0.3142480045251713 'APAC' 1]\n",
      " [11678 9 4 ... 0.6284960090503426 'APAC' 1]\n",
      " [212769 49 4 ... 1.1594471755866802 'GB' 1]\n",
      " ...\n",
      " [148555 125 2 ... 1045.6041372825575 'SE' 1]\n",
      " [79742 100 8 ... 624.8208655775294 'MX' 1]\n",
      " [50318 100 2 ... 918.9372688872287 'MX' 1]]\n"
     ]
    },
    {
     "name": "stderr",
     "output_type": "stream",
     "text": [
      "100%|██████████| 10000000/10000000 [01:04<00:00, 155810.72it/s]\n"
     ]
    },
    {
     "name": "stdout",
     "output_type": "stream",
     "text": [
      "data:  [[213174 9 8 ... 0.3142480045251713 'APAC' 1]\n",
      " [93103 9 8 ... 74.79102507699076 'APAC' 1]\n",
      " [220948 9 2 ... 74.79102507699076 'APAC' 1]\n",
      " ...\n",
      " [49784 125 8 ... 35.166901739539256 'SE' 1]\n",
      " [48417 125 8 ... 80.77103902209684 'SE' 1]\n",
      " [60668 125 8 ... 29.99529854254819 'SE' 1]]\n"
     ]
    },
    {
     "name": "stderr",
     "output_type": "stream",
     "text": [
      "100%|██████████| 10000000/10000000 [01:03<00:00, 158677.32it/s]\n"
     ]
    },
    {
     "name": "stdout",
     "output_type": "stream",
     "text": [
      "data:  [[168361 9 2 ... 66.03051664966144 'GB' 1]\n",
      " [147 49 10 ... 158.61237362025784 'GB' 0]\n",
      " [206245 9 10 ... 520.4758371208608 'GB' 1]\n",
      " ...\n",
      " [34746 49 8 ... 75.53798348947221 'GB' 0]\n",
      " [142558 107 8 ... 142.81463850044628 'APAC' 0]\n",
      " [112424 49 8 ... 70.61033299322882 'GB' 0]]\n"
     ]
    },
    {
     "name": "stderr",
     "output_type": "stream",
     "text": [
      "100%|██████████| 10000000/10000000 [01:02<00:00, 160071.15it/s]\n"
     ]
    },
    {
     "name": "stdout",
     "output_type": "stream",
     "text": [
      "data:  [[213174 9 8 ... 0.3142480045251713 'APAC' 1]\n",
      " [221904 9 8 ... 0.6284960090503426 'APAC' 1]\n",
      " [118282 9 2 ... 0.6284960090503426 'APAC' 1]\n",
      " ...\n",
      " [230503 49 3 ... 2822.0364530192005 'GB' 1]\n",
      " [115236 49 3 ... 2884.7045728596604 'GB' 1]\n",
      " [234240 49 3 ... 3465.5876078285874 'GB' 1]]\n"
     ]
    },
    {
     "name": "stderr",
     "output_type": "stream",
     "text": [
      "100%|██████████| 10000000/10000000 [01:05<00:00, 152415.17it/s]\n"
     ]
    },
    {
     "name": "stdout",
     "output_type": "stream",
     "text": [
      "            Id issuercountrycode txvariantcode       bin   amount  \\\n",
      "67271        1                49             2  546097.0   4400.0   \n",
      "43357        2                49             3  557349.0   3400.0   \n",
      "54139        3                49             2  542011.0   3600.0   \n",
      "181203       4                49             8  465943.0  17395.0   \n",
      "80154        6                49             8  475127.0   5000.0   \n",
      "...        ...               ...           ...       ...      ...   \n",
      "167255  237030                49             2  522948.0  11000.0   \n",
      "10890   237031                49             8  475128.0   1800.0   \n",
      "38491   237032                49             8  475130.0   3395.0   \n",
      "142594  237034                49             8  475130.0   8075.0   \n",
      "101571  237035                 9             2  521729.0  11200.0   \n",
      "\n",
      "       currencycode shoppercountrycode shopperinteraction  \\\n",
      "67271             1                 49                  1   \n",
      "43357             1                 49                  1   \n",
      "54139             1                 49                  1   \n",
      "181203            1                 49                  0   \n",
      "80154             1                 49                  1   \n",
      "...             ...                ...                ...   \n",
      "167255            1                 49                  1   \n",
      "10890             1                 49                  1   \n",
      "38491             1                 49                  1   \n",
      "142594            1                 49                  1   \n",
      "101571            0                  9                  1   \n",
      "\n",
      "       cardverificationcodesupplied cvcresponsecode accountcode mail_id  \\\n",
      "67271                             1               1           3   17805   \n",
      "43357                             1               1           3  115620   \n",
      "54139                             1               1           3   84651   \n",
      "181203                            0               0           3   99845   \n",
      "80154                             1               1           3  122624   \n",
      "...                             ...             ...         ...     ...   \n",
      "167255                            1               1           3   98176   \n",
      "10890                             1               1           3  154237   \n",
      "38491                             1               1           3   71272   \n",
      "142594                            1               1           3   46630   \n",
      "101571                            1               0           0  113323   \n",
      "\n",
      "         ip_id card_id label  amount_eur accountcode_cc countries_equal  \n",
      "67271    12538  105460     0   51.305538             GB               1  \n",
      "43357   107432   29882     0   40.522679             GB               1  \n",
      "54139    87293  123743     0   46.377887             GB               1  \n",
      "181203  147089   14712     0  160.266482             GB               1  \n",
      "80154    56390   75841     0   57.972359             GB               1  \n",
      "...        ...     ...   ...         ...            ...             ...  \n",
      "167255  111864  159778     0  134.495872             GB               1  \n",
      "10890   163508   83649     0   20.870049             GB               1  \n",
      "38491   144408    4558     0    35.88489             GB               1  \n",
      "142594  110102   62402     0   94.817905             GB               1  \n",
      "101571   17695   30757     0   69.276969           APAC               1  \n",
      "\n",
      "[189628 rows x 18 columns]\n",
      "Id                               True\n",
      "issuercountrycode               False\n",
      "txvariantcode                    True\n",
      "bin                              True\n",
      "amount                          False\n",
      "currencycode                    False\n",
      "shoppercountrycode              False\n",
      "shopperinteraction               True\n",
      "cardverificationcodesupplied     True\n",
      "cvcresponsecode                  True\n",
      "accountcode                      True\n",
      "mail_id                          True\n",
      "ip_id                            True\n",
      "card_id                          True\n",
      "label                            True\n",
      "amount_eur                      False\n",
      "accountcode_cc                   True\n",
      "countries_equal                  True\n",
      "dtype: bool\n"
     ]
    }
   ],
   "source": [
    "def rank_swapping(data_original, p, num_swaps, columns):\n",
    "    data = data_original.copy()\n",
    "    for i, column in enumerate(columns):\n",
    "        data = data.sort_values(data.columns[column])\n",
    "        data = data.to_numpy()\n",
    "        print('data: ', data)\n",
    "        for _ in tqdm(range(num_swaps)):\n",
    "            swap_index1 = np.random.randint(0, len(data))\n",
    "            max_index = min(len(data), swap_index1 + p)\n",
    "            min_index = max(0, swap_index1 - p)\n",
    "            swap_index2 = np.random.randint(min_index, max_index)\n",
    "            temp = data[swap_index1][column]\n",
    "            data[swap_index1][column] = data[swap_index2][column]\n",
    "            data[swap_index2][column] = temp\n",
    "        data = pd.DataFrame(data, columns=data_original.columns)\n",
    "\n",
    "    data = data.sort_values(data.columns[0])\n",
    "    return data\n",
    "\n",
    "print(df1)\n",
    "ranked_frame = rank_swapping(df1, 300, 10000000, [1, 4, 5, 6, 15])\n",
    "print(ranked_frame)\n",
    "print(np.equal(ranked_frame, df1.to_numpy()).all())"
   ],
   "metadata": {
    "collapsed": false
   }
  },
  {
   "cell_type": "code",
   "execution_count": 12,
   "outputs": [
    {
     "name": "stdout",
     "output_type": "stream",
     "text": [
      "[4400.0 3400.0 3600.0 ... 3395.0 8075.0 11200.0]\n",
      "[4500.0 3395.0 3895.0 ... 3195.0 7895.0 11050.0]\n"
     ]
    }
   ],
   "source": [
    "print(ranked_frame.to_numpy()[:, 4])\n",
    "print(df1.to_numpy()[:, 4])"
   ],
   "metadata": {
    "collapsed": false
   }
  },
  {
   "cell_type": "code",
   "execution_count": null,
   "outputs": [],
   "source": [],
   "metadata": {
    "collapsed": false
   }
  }
 ],
 "metadata": {
  "kernelspec": {
   "display_name": "Python 3",
   "language": "python",
   "name": "python3"
  },
  "language_info": {
   "codemirror_mode": {
    "name": "ipython",
    "version": 3
   },
   "file_extension": ".py",
   "mimetype": "text/x-python",
   "name": "python",
   "nbconvert_exporter": "python",
   "pygments_lexer": "ipython3",
   "version": "3.7.0"
  }
 },
 "nbformat": 4,
 "nbformat_minor": 2
}
