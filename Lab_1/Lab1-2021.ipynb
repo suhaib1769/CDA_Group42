{
 "cells": [
  {
   "attachments": {},
   "cell_type": "markdown",
   "metadata": {},
   "source": [
    "# CS4035 - Cyber Data Analytics\n",
    "## Lab 1 - Fraud data"
   ]
  },
  {
   "attachments": {},
   "cell_type": "markdown",
   "metadata": {},
   "source": [
    "### Submit on brightspace (zip file with the name Group_xx.zip)\n",
    "(i) This jupyter file completed with code, plots, figures and report for each question. Additional plots and figures can be created for explanation before the end of each main question. Lab 1 contains 5 main questions, including the bonus. Write the code or explanation below each sub question. For the explanations, include what you would normally include in the report for this lab assignment, for example data pre-processing, hypothesis tested, approach, results, etc.\n",
    "(ii) The libraries needed to run this file. Except for numpy, scikit-learn, pandas, matplotlib\n",
    "\n",
    "Your peers should be able to use the readme section for instructions and be able to run this file. \n",
    "\n",
    "Make sure to keep your answers concise. Maximum number of words is 1000, which you can count with the code below. (You can add around 600 words since we start at around 400)."
   ]
  },
  {
   "cell_type": "code",
   "execution_count": 11,
   "metadata": {},
   "outputs": [
    {
     "name": "stdout",
     "output_type": "stream",
     "text": [
      "Word count: 759\n"
     ]
    }
   ],
   "source": [
    "# If this cell does not work try running `pip install nbformat`\n",
    "\n",
    "import io\n",
    "import nbformat\n",
    "import numpy as np\n",
    "import pandas as pd\n",
    "import seaborn as sns\n",
    "import matplotlib.pyplot as plt\n",
    "from sklearn.preprocessing import LabelEncoder\n",
    "from sklearn.preprocessing import StandardScaler\n",
    "from sklearn.decomposition import PCA\n",
    "\n",
    "from sklearn.tree import DecisionTreeClassifier\n",
    "from sklearn.metrics import classification_report, accuracy_score\n",
    "from sklearn.neural_network import MLPClassifier\n",
    "from sklearn.preprocessing import LabelEncoder, OneHotEncoder, LabelBinarizer\n",
    "from sklearn.model_selection import StratifiedKFold\n",
    "from sklearn.linear_model import LogisticRegression\n",
    "from sklearn.metrics import roc_curve, auc\n",
    "from sklearn.metrics import confusion_matrix\n",
    "\n",
    "\n",
    "\n",
    "import re\n",
    "import csv\n",
    "from tqdm import tqdm\n",
    "\n",
    "nb = nbformat.read(\"Lab1-2021.ipynb\", nbformat.NO_CONVERT)\n",
    "word_count = 0\n",
    "for cell in nb.cells:\n",
    "    if cell.cell_type == \"markdown\":\n",
    "        word_count += len(cell['source'].replace('#', '').lstrip().split(' '))\n",
    "\n",
    "print(\"Word count:\", word_count)"
   ]
  },
  {
   "attachments": {},
   "cell_type": "markdown",
   "metadata": {},
   "source": [
    "## Group Number :"
   ]
  },
  {
   "attachments": {},
   "cell_type": "markdown",
   "metadata": {},
   "source": [
    "## Student 1 \n",
    "### Name : Suhaib Basir\n",
    "### ID : 5059151"
   ]
  },
  {
   "attachments": {},
   "cell_type": "markdown",
   "metadata": {},
   "source": [
    "## Student 2\n",
    "### Name : Otte van Dam\n",
    "### ID : 5096790"
   ]
  },
  {
   "attachments": {},
   "cell_type": "markdown",
   "metadata": {},
   "source": [
    "## Readme - Provide instructions - libraries used, location of the data file, etc. Keep it short. Remember your peers will not debug your code and should be able to reproduce the exact output you provide."
   ]
  },
  {
   "cell_type": "code",
   "execution_count": 11,
   "metadata": {},
   "outputs": [],
   "source": []
  },
  {
   "attachments": {},
   "cell_type": "markdown",
   "metadata": {},
   "source": [
    "## Pre-processing"
   ]
  },
  {
   "cell_type": "code",
   "execution_count": 12,
   "metadata": {
    "collapsed": false
   },
   "outputs": [],
   "source": [
    "data = \"train_data.csv\"\n",
    "df1 = pd.read_csv(data)\n",
    "\n",
    "#Encoding, Cleaning the data\n",
    "df1.loc[df1['cardverificationcodesupplied'].isna(),'cardverificationcodesupplied'] = False\n",
    "df1.loc[df1['issuercountrycode'].isna(),'issuercountrycode'] = 'ZZ'\n",
    "df1.loc[df1['shoppercountrycode'].isna(),'shoppercountrycode'] = 'ZZ'\n",
    "\n",
    "#Feature Engineering\n",
    "df1['countries_equal'] = (df1['shoppercountrycode'] == df1['issuercountrycode'])\n",
    "df1.loc[df1['countries_equal'] == False,'countries_equal'] = 0\n",
    "df1.loc[df1['countries_equal'] == True,'countries_equal'] = 1\n",
    "\n",
    "def conv(row):\n",
    "    currency_dict = {\"BGN\": 1.9558, \"NZD\": 1.6805, \"ILS\": 4.0448, \"RUB\": 72.2099, \"CAD\": 1.5075, \"USD\": 1.1218,\n",
    "                     \"PHP\": 58.125, \"CHF\": 1.1437, \"ZAR\": 16.0224, \"AUD\": 1.5911, \"JPY\": 124.93, \"TRY\": 6.6913,\n",
    "                     \"HKD\": 8.8007, \"MYR\": 4.6314, \"THB\": 35.802, \"HRK\": 7.413, \"NOK\": 9.6678, \"IDR\": 15953.68,\n",
    "                     \"DKK\": 7.4646, \"CZK\": 25.659, \"HUF\": 322.97, \"GBP\": 0.86248, \"MXN\": 21.2829, \"KRW\": 1308.01,\n",
    "                     \"ISK\": 136.2, \"SGD\": 1.5263, \"BRL\": 4.405, \"PLN\": 4.2868, \"INR\": 78.0615, \"RON\": 4.7596,\n",
    "                     \"CNY\": 7.5541, \"SEK\": 10.635}\n",
    "    return row['amount'] / (currency_dict[row['currencycode']]*100)\n",
    "\n",
    "df1['amount_eur'] = df1.apply(lambda x: conv(x), axis=1)\n",
    "\n",
    "df1['accountcode'] = df1['accountcode'].apply(lambda x: re.sub('Account','',x))\n",
    "df1['accountcode_cc'] = 0\n",
    "df1.loc[(df1['accountcode'] == 'UK'),'accountcode_cc'] = 'GB'\n",
    "df1.loc[(df1['accountcode'] == 'Mexico'),'accountcode_cc'] = 'MX'\n",
    "df1.loc[(df1['accountcode'] == 'Sweden'),'accountcode_cc'] = 'SE'\n",
    "df1.loc[(df1['accountcode'] == 'APAC'),'accountcode_cc'] = 'APAC'\n",
    "\n",
    "df1.loc[df1['mail_id'].str.contains('na',case=False),'mail_id'] = 'email99999'\n",
    "\n",
    "df1.loc[df1['cvcresponsecode'] > 2,'cvcresponsecode'] = 3\n",
    "\n",
    "simple_preprocessing_data = df1"
   ]
  },
  {
   "attachments": {},
   "cell_type": "markdown",
   "metadata": {
    "collapsed": false
   },
   "source": [
    "## 1. Visualization task – 1 A4"
   ]
  },
  {
   "attachments": {},
   "cell_type": "markdown",
   "metadata": {},
   "source": [
    "### 1a. Plot visulations "
   ]
  },
  {
   "cell_type": "code",
   "execution_count": 13,
   "metadata": {},
   "outputs": [
    {
     "name": "stdout",
     "output_type": "stream",
     "text": [
      "Normal - cvc response code:  0 . Percentage: 18.521061303815117\n",
      "Fraud - cvc response code:  0 . Percentage: 89.13043478260869\n",
      "Normal - cvc response code:  1 . Percentage: 81.39813680341375\n",
      "Fraud - cvc response code:  1 . Percentage: 10.869565217391305\n",
      "Normal - cvc response code:  2 . Percentage: 0.003696818623515991\n",
      "Fraud - cvc response code:  2 . Percentage: 0.0\n",
      "Normal - cvc response code:  3 . Percentage: 0.07710507414761925\n",
      "Fraud - cvc response code:  3 . Percentage: 0.0\n"
     ]
    },
    {
     "name": "stderr",
     "output_type": "stream",
     "text": [
      "c:\\python39\\lib\\site-packages\\numpy\\core\\fromnumeric.py:3464: RuntimeWarning: Mean of empty slice.\n",
      "  return _methods._mean(a, axis=axis, dtype=dtype,\n",
      "c:\\python39\\lib\\site-packages\\numpy\\core\\_methods.py:192: RuntimeWarning: invalid value encountered in scalar divide\n",
      "  ret = ret.dtype.type(ret / rcount)\n"
     ]
    },
    {
     "data": {
      "text/plain": "<matplotlib.legend.Legend at 0x277290591f0>"
     },
     "execution_count": 13,
     "metadata": {},
     "output_type": "execute_result"
    },
    {
     "data": {
      "text/plain": "<Figure size 640x480 with 1 Axes>",
      "image/png": "[encoded data removed]"
     },
     "metadata": {},
     "output_type": "display_data"
    }
   ],
   "source": [
    "# Make lists of lists to group the normal transactions and the fraud transaction per CVC response code\n",
    "# Count the amount of transactions per response code\n",
    "# Lists for normal transactions\n",
    "cvc_response_codes = []\n",
    "transactions = []\n",
    "\n",
    "# Lists for fraud transactions\n",
    "cvc_response_codes_fraud = []\n",
    "transactions_fraud = []\n",
    "\n",
    "# For every cvc response code append a list to the lists and start the counter at 0\n",
    "for i in range(4):\n",
    "    cvc_response_codes.append([])\n",
    "    transactions.append(0)\n",
    "\n",
    "    cvc_response_codes_fraud.append([])\n",
    "    transactions_fraud.append(0)\n",
    "\n",
    "#Add the values to the lists\n",
    "for row in df1.values:\n",
    "    # row[9] returns the cvc response code\n",
    "    cvc_code = row[9]\n",
    "    # row[14] == 1 means a fraud transaction\n",
    "    if row[14] == 1:\n",
    "        #-0.2 so the barplots are next to each other\n",
    "        cvc_response_codes_fraud[cvc_code].append(cvc_code - 0.2)\n",
    "        transactions_fraud[cvc_code] += 1\n",
    "    else:\n",
    "        #+0.2 so the barplots are next to each other\n",
    "        cvc_response_codes[cvc_code].append(cvc_code + 0.2)\n",
    "        transactions[cvc_code] += 1\n",
    "\n",
    "# Get the number of normal transactions and fraud transactions\n",
    "number_of_normal_transactions = np.sum(transactions)\n",
    "number_of_fraud_transactions = np.sum(transactions_fraud)\n",
    "\n",
    "for i in range(len(cvc_response_codes)):\n",
    "    # Get the response code by taking the mean of all the response codes\n",
    "    cvc_response_codes[i] = np.mean(cvc_response_codes[i])\n",
    "    # Set transactions to the fraction of total transactions\n",
    "    transactions[i] = transactions[i] / number_of_normal_transactions\n",
    "    print('Normal - cvc response code: ', i, '. Percentage:', transactions[i] * 100)\n",
    "\n",
    "    cvc_response_codes_fraud[i] = np.mean(cvc_response_codes_fraud[i])\n",
    "    # Set transactions to the fraction of total transactions\n",
    "    transactions_fraud[i] = transactions_fraud[i] / number_of_fraud_transactions\n",
    "\n",
    "    print('Fraud - cvc response code: ', i, '. Percentage:', transactions_fraud[i] * 100)\n",
    "\n",
    "plt.bar(cvc_response_codes, transactions, color = 'b', width = 0.4, label = 'Normal')\n",
    "plt.bar(cvc_response_codes_fraud, transactions_fraud, color = 'g', width = 0.4, label = 'Fraud')\n",
    "\n",
    "plt.xticks([0, 1, 2, 3], [0, 1, 2, 3])\n",
    "# Add axis labels and a title\n",
    "plt.xlabel('CVC Response Code')\n",
    "plt.ylabel('Fraction of transactions')\n",
    "plt.title('CVC Response Code vs Average Amount in Euros')\n",
    "\n",
    "# Add a legend\n",
    "plt.legend()"
   ]
  },
  {
   "cell_type": "code",
   "execution_count": 14,
   "metadata": {
    "collapsed": false
   },
   "outputs": [
    {
     "data": {
      "text/plain": "<Figure size 800x600 with 1 Axes>",
      "image/png": "[encoded data removed]"
     },
     "metadata": {},
     "output_type": "display_data"
    },
    {
     "name": "stdout",
     "output_type": "stream",
     "text": [
      "label\n",
      "0     77.474370\n",
      "1    146.040479\n",
      "Name: amount_eur, dtype: float64\n"
     ]
    }
   ],
   "source": [
    "# Get a list of all the normal transactions and all the fraud transactions\n",
    "benign_samples = df1[df1['label'] == 0]\n",
    "fraudulent_samples = df1[df1['label'] == 1]\n",
    "\n",
    "# Create a figure with a single subplot\n",
    "fig, ax = plt.subplots(figsize=(8, 6))\n",
    "\n",
    "# Combine the benign and fraudulent samples data into a single list\n",
    "data = [benign_samples['amount_eur'], fraudulent_samples['amount_eur']]\n",
    "\n",
    "# Plot side-by-side boxplots\n",
    "ax.boxplot(data, labels=['Benign', 'Fraudulent'])\n",
    "\n",
    "# Set labels and title\n",
    "ax.set_xlabel('Label')\n",
    "ax.set_ylabel('Amount (EUR)')\n",
    "ax.set_title('Distribution of Transaction Amounts')\n",
    "\n",
    "# Display the plot\n",
    "plt.show()\n",
    "\n",
    "# mean for amount_eur for fraud and non-fraud transactions\n",
    "print(df1.groupby('label')['amount_eur'].mean())"
   ]
  },
  {
   "cell_type": "code",
   "execution_count": 15,
   "metadata": {
    "collapsed": false
   },
   "outputs": [
    {
     "data": {
      "text/plain": "<Figure size 640x480 with 1 Axes>",
      "image/png": "[encoded data removed]"
     },
     "metadata": {},
     "output_type": "display_data"
    }
   ],
   "source": [
    "# Count the number of unique countries for benign and malicious samples\n",
    "benign = df1[df1['label'] == 0]['issuercountrycode'].nunique()\n",
    "malicious = df1[df1['label'] == 1]['issuercountrycode'].nunique()\n",
    "\n",
    "# Create a bar plot\n",
    "sns.barplot(x=['Benign', 'Malicious'], y=[benign, malicious])\n",
    "\n",
    "# Add labels and title\n",
    "plt.xlabel('Sample Type')\n",
    "plt.ylabel('Number of Unique Countries')\n",
    "plt.title('Number of Unique Countries for Benign and Malicious Samples')\n",
    "\n",
    "# Display the plot\n",
    "plt.show()"
   ]
  },
  {
   "attachments": {},
   "cell_type": "markdown",
   "metadata": {},
   "source": [
    "### 1b. Describe the visualizations and provide relavant explanations of features and relations."
   ]
  },
  {
   "attachments": {},
   "cell_type": "markdown",
   "metadata": {
    "collapsed": false
   },
   "source": [
    "The first graph shows that most (90%) of the malicious transactions have a CVC response code of 0, which is unknown. Around 10% has a CVC response code of 1, which is a match. None of the malicious transactions have no match or not checked. For the normal transactions, most of the CVC response codes are a match with 80%. A bit less than 20% is unkown and there are some 'no match' and 'not checked' responses but those are so few that they are not visible in the graph."
   ]
  },
  {
   "attachments": {},
   "cell_type": "markdown",
   "metadata": {},
   "source": [
    "in the second graph we see the distribution of transaction amounts between the fraudulent and benign cases visualised in a boxplot. We can see that there are clearly a lot more data points for the benign cases and far fewer for the fraudulent cases. It is also interesting to see that the benign cases have much higher outliers as this indicates that there are occasional instances of very large transaction amounts in the benign cases. On the other hand, the fraudulent cases generally exhibit smaller transaction amounts with very few or no outliers. This suggests that fraudulent transactions tend to be smaller in magnitude compared to benign transactions. However, the mean of the fraudulent cases (146.04) is higher than that of the benign cases (77.47). "
   ]
  },
  {
   "attachments": {},
   "cell_type": "markdown",
   "metadata": {},
   "source": [
    "In the final graph we have visualised the number of unique countries where benign and malicious samples have been collected from. We have plotted this as a bar chart. From the visual, we can see that only a handful of countries (approximately 10) have had cases of fraudulent transaction, which indicates that fraudulent transactions are localised to a few specific countries. On the other hand, the number of countries associated with benign transactions is much larger, indicating a wider distribution of normal transactions across various regions. Additionally, the significant disparity in the number of countries between benign and malicious samples highlights the imbalanced nature of the dataset, with the majority of samples being benign transactions. It's important to consider this class imbalance when developing and evaluating machine learning models to ensure fair and accurate performance assessment.\n"
   ]
  },
  {
   "cell_type": "markdown",
   "source": [
    "## More preprocessing"
   ],
   "metadata": {
    "collapsed": false
   }
  },
  {
   "cell_type": "code",
   "execution_count": 16,
   "outputs": [],
   "source": [
    "unique_issuer_cc = df1['issuercountrycode'].unique()\n",
    "unique_shopper_cc = df1['shoppercountrycode'].unique()\n",
    "both = np.append(unique_issuer_cc, unique_shopper_cc)\n",
    "df_countrycodes = pd.DataFrame(both)\n",
    "unique_codes = df_countrycodes[0].unique()\n",
    "lb = LabelBinarizer()\n",
    "y = lb.fit_transform(df1['issuercountrycode'])\n",
    "\n",
    "# Create a new DataFrame with the transformed 'issuercountrycode' column\n",
    "df2 = pd.DataFrame(y, columns=['issuercountrycode_'+str(i) for i in range(y.shape[1])])\n",
    "\n",
    "# Replace the 'issuercountrycode' column in the original DataFrame with the transformed column\n",
    "df1 = pd.concat([df1.drop('issuercountrycode', axis=1), df2], axis=1)\n",
    "\n",
    "y = lb.fit_transform(df1['shoppercountrycode'])\n",
    "\n",
    "# Create a new DataFrame with the transformed 'issuercountrycode' column\n",
    "df2 = pd.DataFrame(y, columns=['shoppercountrycode_'+str(i) for i in range(y.shape[1])])\n",
    "\n",
    "# Replace the 'issuercountrycode' column in the original DataFrame with the transformed column\n",
    "df1 = pd.concat([df1.drop('shoppercountrycode', axis=1), df2], axis=1)\n",
    "\n",
    "lb2 = LabelBinarizer()\n",
    "y = lb2.fit_transform(df1['txvariantcode'])\n",
    "\n",
    "# Create a new DataFrame with the transformed 'txvariantcode' column\n",
    "df2 = pd.DataFrame(y, columns=['txvariantcode_'+str(i) for i in range(y.shape[1])])\n",
    "\n",
    "# Replace the 'txvariantcode' column in the original DataFrame with the transformed column\n",
    "df1 = pd.concat([df1.drop('txvariantcode', axis=1), df2], axis=1)\n",
    "\n",
    "lb3 = LabelBinarizer()\n",
    "y = lb3.fit_transform(df1['currencycode'])\n",
    "\n",
    "# Create a new DataFrame with the transformed 'currencycode' column\n",
    "df2 = pd.DataFrame(y, columns=['currencycode_'+str(i) for i in range(y.shape[1])])\n",
    "\n",
    "# Replace the 'currencycode' column in the original DataFrame with the transformed column\n",
    "df1 = pd.concat([df1.drop('currencycode', axis=1), df2], axis=1)\n",
    "\n",
    "lb4 = LabelBinarizer()\n",
    "y = lb4.fit_transform(df1['shopperinteraction'])\n",
    "\n",
    "# Create a new DataFrame with the transformed 'shopperinteraction' column\n",
    "df2 = pd.DataFrame(y, columns=['shopperinteraction_'+str(i) for i in range(y.shape[1])])\n",
    "\n",
    "# Replace the 'shopperinteraction' column in the original DataFrame with the transformed column\n",
    "df1 = pd.concat([df1.drop('shopperinteraction', axis=1), df2], axis=1)\n",
    "\n",
    "lb5 = LabelBinarizer()\n",
    "y = lb5.fit_transform(df1['accountcode_cc'])\n",
    "\n",
    "# Create a new DataFrame with the transformed 'accountcode_cc' column\n",
    "df2 = pd.DataFrame(y, columns=['accountcode_cc_'+str(i) for i in range(y.shape[1])])\n",
    "\n",
    "# Replace the 'accountcode_cc' column in the original DataFrame with the transformed column\n",
    "df1 = pd.concat([df1.drop('accountcode_cc', axis=1), df2], axis=1)\n",
    "\n",
    "# drop id, mail_id, ip_id, card_id\n",
    "df1 = df1.drop(['Id','mail_id','ip_id','card_id', 'amount', 'accountcode'], axis=1)\n",
    "\n",
    "processed_df1 = df1"
   ],
   "metadata": {
    "collapsed": false
   }
  },
  {
   "attachments": {},
   "cell_type": "markdown",
   "metadata": {},
   "source": [
    "## 2. Imbalance task – 1 A4 – Individual"
   ]
  },
  {
   "attachments": {},
   "cell_type": "markdown",
   "metadata": {},
   "source": [
    "### 2x. Implement Smote"
   ]
  },
  {
   "cell_type": "code",
   "execution_count": 16,
   "metadata": {},
   "outputs": [],
   "source": []
  },
  {
   "attachments": {},
   "cell_type": "markdown",
   "metadata": {},
   "source": [
    "### 2a. Print ROC curves"
   ]
  },
  {
   "cell_type": "code",
   "execution_count": 16,
   "metadata": {},
   "outputs": [],
   "source": []
  },
  {
   "attachments": {},
   "cell_type": "markdown",
   "metadata": {},
   "source": [
    "### 2b. Analyse the performance of the classifiers. Explain which method performs best."
   ]
  },
  {
   "cell_type": "code",
   "execution_count": 16,
   "metadata": {},
   "outputs": [],
   "source": []
  },
  {
   "attachments": {},
   "cell_type": "markdown",
   "metadata": {},
   "source": [
    "### 2c. Is using SMOTE a good idea? Why (not)?"
   ]
  },
  {
   "cell_type": "code",
   "execution_count": 16,
   "metadata": {},
   "outputs": [],
   "source": []
  },
  {
   "attachments": {},
   "cell_type": "markdown",
   "metadata": {},
   "source": [
    "## 3. Privacy task – 1 A4 – Individual"
   ]
  },
  {
   "cell_type": "markdown",
   "source": [
    "### Rank Swapping"
   ],
   "metadata": {
    "collapsed": false
   }
  },
  {
   "cell_type": "code",
   "execution_count": 17,
   "outputs": [
    {
     "name": "stderr",
     "output_type": "stream",
     "text": [
      "100%|██████████| 5000000/5000000 [00:31<00:00, 160621.48it/s]\n",
      "100%|██████████| 5000000/5000000 [00:32<00:00, 152310.71it/s]\n",
      "100%|██████████| 5000000/5000000 [00:31<00:00, 156878.42it/s]\n",
      "100%|██████████| 5000000/5000000 [00:31<00:00, 156920.49it/s]\n",
      "100%|██████████| 5000000/5000000 [00:33<00:00, 151431.81it/s]\n"
     ]
    },
    {
     "name": "stdout",
     "output_type": "stream",
     "text": [
      "Id                               True\n",
      "issuercountrycode               False\n",
      "txvariantcode                    True\n",
      "bin                              True\n",
      "amount                          False\n",
      "currencycode                    False\n",
      "shoppercountrycode              False\n",
      "shopperinteraction               True\n",
      "cardverificationcodesupplied     True\n",
      "cvcresponsecode                  True\n",
      "accountcode                      True\n",
      "mail_id                          True\n",
      "ip_id                            True\n",
      "card_id                          True\n",
      "label                            True\n",
      "countries_equal                  True\n",
      "amount_eur                      False\n",
      "accountcode_cc                   True\n",
      "dtype: bool\n",
      "number of rows still the same:  8998\n"
     ]
    }
   ],
   "source": [
    "# Get the data before the encoding since swapping the one hot encoding can create examples that are not true.\n",
    "df1 = simple_preprocessing_data\n",
    "def rank_swapping(data_original, p, num_swaps, columns):\n",
    "    data = data_original.copy()\n",
    "    for i, column in enumerate(columns):\n",
    "        # Sort the data by a column\n",
    "        data = data.sort_values(data.columns[column])\n",
    "        data = data.to_numpy()\n",
    "        # Perform swaps on the selected column and within p rows of the randomly selected row\n",
    "        for _ in tqdm(range(num_swaps)):\n",
    "            # Get a random index to swap\n",
    "            swap_index1 = np.random.randint(0, len(data))\n",
    "            # Set a minimum and maximum index for the swapping\n",
    "            max_index = min(len(data), swap_index1 + p)\n",
    "            min_index = max(0, swap_index1 - p)\n",
    "\n",
    "            # Get a random index to swap within the min and max index\n",
    "            swap_index2 = np.random.randint(min_index, max_index)\n",
    "\n",
    "            #Swap the rows\n",
    "            temp = data[swap_index1][column]\n",
    "            data[swap_index1][column] = data[swap_index2][column]\n",
    "            data[swap_index2][column] = temp\n",
    "        # Turn the np array back into a pd data frame\n",
    "        data = pd.DataFrame(data, columns=data_original.columns)\n",
    "\n",
    "    # Return the order of rows to its original\n",
    "    data = data.sort_values(data.columns[0])\n",
    "    return data\n",
    "\n",
    "ranked_frame = rank_swapping(df1, 300, 5000000, [1, 4, 5, 6, 16])\n",
    "original_values = df1.to_numpy()\n",
    "print(np.equal(ranked_frame, original_values).all())\n",
    "same_rows = 0\n",
    "for i in range(len(ranked_frame)):\n",
    "    if np.equal(ranked_frame.to_numpy()[i], original_values[i]).all():\n",
    "        same_rows += 1\n",
    "print('number of rows still the same: ', same_rows)\n",
    "df1 = ranked_frame"
   ],
   "metadata": {
    "collapsed": false
   }
  },
  {
   "cell_type": "markdown",
   "source": [
    "### Encoding data"
   ],
   "metadata": {
    "collapsed": false
   }
  },
  {
   "cell_type": "code",
   "execution_count": 18,
   "outputs": [],
   "source": [
    "unique_issuer_cc = df1['issuercountrycode'].unique()\n",
    "unique_shopper_cc = df1['shoppercountrycode'].unique()\n",
    "both = np.append(unique_issuer_cc, unique_shopper_cc)\n",
    "df_countrycodes = pd.DataFrame(both)\n",
    "unique_codes = df_countrycodes[0].unique()\n",
    "lb = LabelBinarizer()\n",
    "y = lb.fit_transform(df1['issuercountrycode'])\n",
    "\n",
    "# Create a new DataFrame with the transformed 'issuercountrycode' column\n",
    "df2 = pd.DataFrame(y, columns=['issuercountrycode_'+str(i) for i in range(y.shape[1])])\n",
    "\n",
    "# Replace the 'issuercountrycode' column in the original DataFrame with the transformed column\n",
    "df1 = pd.concat([df1.drop('issuercountrycode', axis=1), df2], axis=1)\n",
    "\n",
    "y = lb.fit_transform(df1['shoppercountrycode'])\n",
    "\n",
    "# Create a new DataFrame with the transformed 'issuercountrycode' column\n",
    "df2 = pd.DataFrame(y, columns=['shoppercountrycode_'+str(i) for i in range(y.shape[1])])\n",
    "\n",
    "# Replace the 'issuercountrycode' column in the original DataFrame with the transformed column\n",
    "df1 = pd.concat([df1.drop('shoppercountrycode', axis=1), df2], axis=1)\n",
    "\n",
    "lb2 = LabelBinarizer()\n",
    "y = lb2.fit_transform(df1['txvariantcode'])\n",
    "\n",
    "# Create a new DataFrame with the transformed 'txvariantcode' column\n",
    "df2 = pd.DataFrame(y, columns=['txvariantcode_'+str(i) for i in range(y.shape[1])])\n",
    "\n",
    "# Replace the 'txvariantcode' column in the original DataFrame with the transformed column\n",
    "df1 = pd.concat([df1.drop('txvariantcode', axis=1), df2], axis=1)\n",
    "\n",
    "lb3 = LabelBinarizer()\n",
    "y = lb3.fit_transform(df1['currencycode'])\n",
    "\n",
    "# Create a new DataFrame with the transformed 'currencycode' column\n",
    "df2 = pd.DataFrame(y, columns=['currencycode_'+str(i) for i in range(y.shape[1])])\n",
    "\n",
    "# Replace the 'currencycode' column in the original DataFrame with the transformed column\n",
    "df1 = pd.concat([df1.drop('currencycode', axis=1), df2], axis=1)\n",
    "\n",
    "lb4 = LabelBinarizer()\n",
    "y = lb4.fit_transform(df1['shopperinteraction'])\n",
    "\n",
    "# Create a new DataFrame with the transformed 'shopperinteraction' column\n",
    "df2 = pd.DataFrame(y, columns=['shopperinteraction_'+str(i) for i in range(y.shape[1])])\n",
    "\n",
    "# Replace the 'shopperinteraction' column in the original DataFrame with the transformed column\n",
    "df1 = pd.concat([df1.drop('shopperinteraction', axis=1), df2], axis=1)\n",
    "\n",
    "lb5 = LabelBinarizer()\n",
    "y = lb5.fit_transform(df1['accountcode_cc'])\n",
    "\n",
    "# Create a new DataFrame with the transformed 'accountcode_cc' column\n",
    "df2 = pd.DataFrame(y, columns=['accountcode_cc_'+str(i) for i in range(y.shape[1])])\n",
    "\n",
    "# Replace the 'accountcode_cc' column in the original DataFrame with the transformed column\n",
    "df1 = pd.concat([df1.drop('accountcode_cc', axis=1), df2], axis=1)\n",
    "\n",
    "# drop id, mail_id, ip_id, card_id\n",
    "df1 = df1.drop(['Id','mail_id','ip_id','card_id', 'amount', 'accountcode'], axis=1)"
   ],
   "metadata": {
    "collapsed": false
   }
  },
  {
   "cell_type": "markdown",
   "source": [
    "### Training models"
   ],
   "metadata": {
    "collapsed": false
   }
  },
  {
   "cell_type": "code",
   "execution_count": null,
   "outputs": [
    {
     "name": "stdout",
     "output_type": "stream",
     "text": [
      "round  1  of  10\n",
      "round  2  of  10\n",
      "round  3  of  10\n",
      "round  4  of  10\n",
      "round  5  of  10\n",
      "round  6  of  10\n"
     ]
    }
   ],
   "source": [
    "# Separate features and labels\n",
    "X = df1.drop('label', axis=1)\n",
    "y = df1['label']\n",
    "\n",
    "y = y.astype('int')\n",
    "\n",
    "# Define the number of folds\n",
    "n_splits = 10\n",
    "\n",
    "# Create a StratifiedKFold object\n",
    "skf = StratifiedKFold(n_splits=n_splits, shuffle=True, random_state=42)\n",
    "\n",
    "# Initialize lists to store the predictions, probability and truth\n",
    "y_proba_all_dec_tree = []\n",
    "y_predicts_all_dec_tree = []\n",
    "y_truth_all_dec_tree = []\n",
    "\n",
    "y_proba_all_mlp = []\n",
    "y_predicts_all_mlp = []\n",
    "y_truth_all_mlp = []\n",
    "\n",
    "y_proba_all_log = []\n",
    "y_predicts_all_log = []\n",
    "y_truth_all_log = []\n",
    "\n",
    "round_counter = 0\n",
    "# Iterate through the folds\n",
    "for train_index, test_index in skf.split(X, y):\n",
    "    round_counter += 1\n",
    "    print('round ', round_counter, ' of ', n_splits)\n",
    "    # Split the data into training and test sets for the current fold\n",
    "    X_train, X_test = X.iloc[train_index], X.iloc[test_index]\n",
    "    y_train, y_test = y.iloc[train_index], y.iloc[test_index]\n",
    "\n",
    "    # Create and train the Decision Tree Classifier\n",
    "    clf = DecisionTreeClassifier(random_state=42)\n",
    "    clf.fit(X_train, y_train)\n",
    "\n",
    "    # Make predictions on the test set\n",
    "    y_proba = clf.predict_proba(X_test)\n",
    "    y_pred = clf.predict(X_test)\n",
    "    y_proba_all_dec_tree.extend(y_proba)\n",
    "    y_predicts_all_dec_tree.extend(y_pred)\n",
    "    y_truth_all_dec_tree.extend(y_test)\n",
    "\n",
    "    # use a neural network for classification\n",
    "    # Create and train the Multi-Layer Perceptron Classifier\n",
    "    clf = MLPClassifier(random_state=42)\n",
    "    clf.fit(X_train, y_train)\n",
    "\n",
    "    # Make predictions on the test set\n",
    "    y_proba = clf.predict_proba(X_test)\n",
    "    y_pred = clf.predict(X_test)\n",
    "    y_proba_all_mlp.extend(y_proba)\n",
    "    y_predicts_all_mlp.extend(y_pred)\n",
    "    y_truth_all_mlp.extend(y_test)\n",
    "\n",
    "    # Create a logistic regression object\n",
    "    clf = LogisticRegression()\n",
    "\n",
    "    # Fit the model using the training data\n",
    "    clf.fit(X_train, y_train)\n",
    "\n",
    "    # Make predictions on the test set\n",
    "    y_proba = clf.predict_proba(X_test)\n",
    "    y_pred = clf.predict(X_test)\n",
    "    y_proba_all_log.extend(y_proba)\n",
    "    y_predicts_all_log.extend(y_pred)\n",
    "    y_truth_all_log.extend(y_test)"
   ],
   "metadata": {
    "collapsed": false,
    "pycharm": {
     "is_executing": true
    }
   }
  },
  {
   "cell_type": "code",
   "execution_count": null,
   "outputs": [],
   "source": [
    "# Calculate confusion_mat score\n",
    "confusion_mat_dec_tree = confusion_matrix(y_truth_all_dec_tree, y_predicts_all_dec_tree)\n",
    "\n",
    "# Print the confusion_mat score\n",
    "print(\"confusion_mat score decision tree:\")\n",
    "print(confusion_mat_dec_tree)\n",
    "\n",
    "# Calculate confusion_mat score\n",
    "confusion_mat_mlp = confusion_matrix(y_truth_all_mlp, y_predicts_all_mlp)\n",
    "\n",
    "# Print the confusion_mat score\n",
    "print(\"confusion_mat score mlp:\")\n",
    "print(confusion_mat_mlp)\n",
    "\n",
    "# Calculate confusion_mat score\n",
    "confusion_mat_log = confusion_matrix(y_truth_all_log, y_predicts_all_log)\n",
    "\n",
    "# Print the confusion_mat score\n",
    "print(\"confusion_mat score logistic regression:\")\n",
    "print(confusion_mat_log)"
   ],
   "metadata": {
    "collapsed": false,
    "pycharm": {
     "is_executing": true
    }
   }
  },
  {
   "attachments": {},
   "cell_type": "markdown",
   "metadata": {},
   "source": [
    "### 3a. Print ROC curves"
   ]
  },
  {
   "cell_type": "code",
   "execution_count": null,
   "metadata": {
    "pycharm": {
     "is_executing": true
    }
   },
   "outputs": [],
   "source": [
    "# Get the probability of being a fraud transaction for every sample\n",
    "one_prob_dec_tree = [lst[1] for lst in y_proba_all_dec_tree]\n",
    "fpr, tpr, thresholds = roc_curve(y_truth_all_dec_tree, one_prob_dec_tree)\n",
    "roc_auc = auc(fpr, tpr)\n",
    "\n",
    "plt.plot(fpr, tpr, label='ROC curve (area = %0.2f)' % roc_auc)\n",
    "plt.plot([0, 1], [0, 1], linestyle='--', label='Random Guess')\n",
    "plt.xlim([0.0, 1.0])\n",
    "plt.ylim([0.0, 1.0])\n",
    "plt.xlabel('False Positive Rate')\n",
    "plt.ylabel('True Positive Rate')\n",
    "plt.title('Receiver Operating Characteristic Decision Tree')\n",
    "plt.legend(loc=\"lower right\")\n",
    "plt.show()\n",
    "\n",
    "# Get the probability of being a fraud transaction for every sample\n",
    "one_prob_mlp = [lst[1] for lst in y_proba_all_mlp]\n",
    "fpr, tpr, thresholds = roc_curve(y_truth_all_mlp, one_prob_mlp)\n",
    "roc_auc = auc(fpr, tpr)\n",
    "\n",
    "plt.plot(fpr, tpr, label='ROC curve (area = %0.2f)' % roc_auc)\n",
    "plt.plot([0, 1], [0, 1], linestyle='--', label='Random Guess')\n",
    "plt.xlim([0.0, 1.0])\n",
    "plt.ylim([0.0, 1.0])\n",
    "plt.xlabel('False Positive Rate')\n",
    "plt.ylabel('True Positive Rate')\n",
    "plt.title('Receiver Operating Characteristic MLP')\n",
    "plt.legend(loc=\"lower right\")\n",
    "plt.show()\n",
    "\n",
    "# Get the probability of being a fraud transaction for every sample\n",
    "one_prob_log = [lst[1] for lst in y_proba_all_log]\n",
    "fpr, tpr, thresholds = roc_curve(y_truth_all_log, one_prob_log)\n",
    "roc_auc = auc(fpr, tpr)\n",
    "\n",
    "plt.plot(fpr, tpr, label='ROC curve (area = %0.2f)' % roc_auc)\n",
    "plt.plot([0, 1], [0, 1], linestyle='--', label='Random Guess')\n",
    "plt.xlim([0.0, 1.0])\n",
    "plt.ylim([0.0, 1.0])\n",
    "plt.xlabel('False Positive Rate')\n",
    "plt.ylabel('True Positive Rate')\n",
    "plt.title('Receiver Operating Characteristic Logistic Regression')\n",
    "plt.legend(loc=\"lower right\")\n",
    "plt.show()"
   ]
  },
  {
   "attachments": {},
   "cell_type": "markdown",
   "metadata": {},
   "source": [
    "### 3b. Analyse the performance of the classifiers. Explain which method performs best."
   ]
  },
  {
   "cell_type": "markdown",
   "source": [
    "The classifiers perform almost exactly the same on the data before and after rank swapping. Logistic regression performs the best"
   ],
   "metadata": {
    "collapsed": false
   }
  },
  {
   "attachments": {},
   "cell_type": "markdown",
   "metadata": {},
   "source": [
    "### 3c. Can you explain the performance difference for the different classifiers? Is it advisable to protect people’s privacy using rank-swapping? Why (not)?"
   ]
  },
  {
   "cell_type": "code",
   "execution_count": null,
   "metadata": {
    "pycharm": {
     "is_executing": true
    }
   },
   "outputs": [],
   "source": []
  },
  {
   "attachments": {},
   "cell_type": "markdown",
   "metadata": {},
   "source": [
    "## 4. Classification task – 2 A4"
   ]
  },
  {
   "attachments": {},
   "cell_type": "markdown",
   "metadata": {},
   "source": [
    "### 4a. Print relevant plots and metrics with clear headings."
   ]
  },
  {
   "cell_type": "code",
   "execution_count": null,
   "metadata": {
    "pycharm": {
     "is_executing": true
    }
   },
   "outputs": [],
   "source": [
    "# Get the data right after processing it. Without rank swapping and smothing.\n",
    "df1 = processed_df1\n",
    "\n",
    "# Separate features and labels\n",
    "X = df1.drop('label', axis=1)\n",
    "y = df1['label']\n",
    "\n",
    "y = y.astype('int')\n",
    "\n",
    "# Define the number of folds\n",
    "n_splits = 10\n",
    "\n",
    "# Create a StratifiedKFold object\n",
    "skf = StratifiedKFold(n_splits=n_splits, shuffle=True, random_state=42)\n",
    "\n",
    "# Initialize listst for every classifier for the prediction, probability and truth.\n",
    "y_proba_all_dec_tree = []\n",
    "y_predicts_all_dec_tree = []\n",
    "y_truth_all_dec_tree = []\n",
    "\n",
    "y_proba_all_mlp = []\n",
    "y_predicts_all_mlp = []\n",
    "y_truth_all_mlp = []\n",
    "\n",
    "y_proba_all_log = []\n",
    "y_predicts_all_log = []\n",
    "y_truth_all_log = []\n",
    "\n",
    "round_counter = 0\n",
    "# Iterate through the folds\n",
    "for train_index, test_index in skf.split(X, y):\n",
    "    round_counter += 1\n",
    "    print('round ', round_counter, ' of ', n_splits)\n",
    "\n",
    "    # Split the data into training and test sets for the current fold\n",
    "    X_train, X_test = X.iloc[train_index], X.iloc[test_index]\n",
    "    y_train, y_test = y.iloc[train_index], y.iloc[test_index]\n",
    "\n",
    "    # Create and train the Decision Tree Classifier\n",
    "    clf = DecisionTreeClassifier(random_state=42)\n",
    "    clf.fit(X_train, y_train)\n",
    "\n",
    "    # Make predictions on the test set\n",
    "    y_proba = clf.predict_proba(X_test)\n",
    "    y_pred = clf.predict(X_test)\n",
    "    y_proba_all_dec_tree.extend(y_proba)\n",
    "    y_predicts_all_dec_tree.extend(y_pred)\n",
    "    y_truth_all_dec_tree.extend(y_test)\n",
    "\n",
    "    # use a neural network for classification\n",
    "    # Create and train the Multi-Layer Perceptron Classifier\n",
    "    clf = MLPClassifier(random_state=42)\n",
    "    clf.fit(X_train, y_train)\n",
    "\n",
    "    # Make predictions on the test set\n",
    "    y_proba = clf.predict_proba(X_test)\n",
    "    y_pred = clf.predict(X_test)\n",
    "    y_proba_all_mlp.extend(y_proba)\n",
    "    y_predicts_all_mlp.extend(y_pred)\n",
    "    y_truth_all_mlp.extend(y_test)\n",
    "\n",
    "    # Create a logistic regression object\n",
    "    clf = LogisticRegression()\n",
    "\n",
    "    # Fit the model using the training data\n",
    "    clf.fit(X_train, y_train)\n",
    "\n",
    "    # Make predictions on the test set\n",
    "    y_proba = clf.predict_proba(X_test)\n",
    "    y_pred = clf.predict(X_test)\n",
    "    y_proba_all_log.extend(y_proba)\n",
    "    y_predicts_all_log.extend(y_pred)\n",
    "    y_truth_all_log.extend(y_test)"
   ]
  },
  {
   "cell_type": "code",
   "execution_count": null,
   "outputs": [],
   "source": [
    "# Calculate confusion_mat score\n",
    "confusion_mat_dec_tree = confusion_matrix(y_truth_all_dec_tree, y_predicts_all_dec_tree)\n",
    "\n",
    "# Print the confusion_mat score\n",
    "print(\"confusion_mat score decision tree:\")\n",
    "print(confusion_mat_dec_tree)\n",
    "\n",
    "# Calculate confusion_mat score\n",
    "confusion_mat_mlp = confusion_matrix(y_truth_all_mlp, y_predicts_all_mlp)\n",
    "\n",
    "# Print the confusion_mat score\n",
    "print(\"confusion_mat score mlp:\")\n",
    "print(confusion_mat_mlp)\n",
    "\n",
    "# Calculate confusion_mat score\n",
    "confusion_mat_log = confusion_matrix(y_truth_all_log, y_predicts_all_log)\n",
    "\n",
    "# Print the confusion_mat score\n",
    "print(\"confusion_mat score logistic regression:\")\n",
    "print(confusion_mat_log)"
   ],
   "metadata": {
    "collapsed": false,
    "pycharm": {
     "is_executing": true
    }
   }
  },
  {
   "cell_type": "code",
   "execution_count": null,
   "outputs": [],
   "source": [
    "# Get the probability of being a fraud transaction for every sample\n",
    "one_prob_dec_tree = [lst[1] for lst in y_proba_all_dec_tree]\n",
    "fpr, tpr, thresholds = roc_curve(y_truth_all_dec_tree, one_prob_dec_tree)\n",
    "roc_auc = auc(fpr, tpr)\n",
    "\n",
    "plt.plot(fpr, tpr, label='ROC curve (area = %0.2f)' % roc_auc)\n",
    "plt.plot([0, 1], [0, 1], linestyle='--', label='Random Guess')\n",
    "plt.xlim([0.0, 1.0])\n",
    "plt.ylim([0.0, 1.0])\n",
    "plt.xlabel('False Positive Rate')\n",
    "plt.ylabel('True Positive Rate')\n",
    "plt.title('Receiver Operating Characteristic Decision Tree')\n",
    "plt.legend(loc=\"lower right\")\n",
    "plt.show()\n",
    "\n",
    "# Get the probability of being a fraud transaction for every sample\n",
    "one_prob_mlp = [lst[1] for lst in y_proba_all_mlp]\n",
    "fpr, tpr, thresholds = roc_curve(y_truth_all_mlp, one_prob_mlp)\n",
    "roc_auc = auc(fpr, tpr)\n",
    "\n",
    "plt.plot(fpr, tpr, label='ROC curve (area = %0.2f)' % roc_auc)\n",
    "plt.plot([0, 1], [0, 1], linestyle='--', label='Random Guess')\n",
    "plt.xlim([0.0, 1.0])\n",
    "plt.ylim([0.0, 1.0])\n",
    "plt.xlabel('False Positive Rate')\n",
    "plt.ylabel('True Positive Rate')\n",
    "plt.title('Receiver Operating Characteristic MLP')\n",
    "plt.legend(loc=\"lower right\")\n",
    "plt.show()\n",
    "\n",
    "# Get the probability of being a fraud transaction for every sample\n",
    "one_prob_log = [lst[1] for lst in y_proba_all_log]\n",
    "fpr, tpr, thresholds = roc_curve(y_truth_all_log, one_prob_log)\n",
    "roc_auc = auc(fpr, tpr)\n",
    "\n",
    "plt.plot(fpr, tpr, label='ROC curve (area = %0.2f)' % roc_auc)\n",
    "plt.plot([0, 1], [0, 1], linestyle='--', label='Random Guess')\n",
    "plt.xlim([0.0, 1.0])\n",
    "plt.ylim([0.0, 1.0])\n",
    "plt.xlabel('False Positive Rate')\n",
    "plt.ylabel('True Positive Rate')\n",
    "plt.title('Receiver Operating Characteristic Logistic Regression')\n",
    "plt.legend(loc=\"lower right\")"
   ],
   "metadata": {
    "collapsed": false,
    "pycharm": {
     "is_executing": true
    }
   }
  },
  {
   "attachments": {},
   "cell_type": "markdown",
   "metadata": {},
   "source": [
    "### 4b. Explain the applied data pre-processing steps, learning algorithms, and post-processing steps or ensemble methods. Compare the performance of the two algorithms, focusing on performance criteria that are relevant in practice, use 10-fold cross-validation."
   ]
  },
  {
   "cell_type": "markdown",
   "source": [
    "All categorical data is encoded with one hot encoding (don't be fooled by labelBinerizer() this actually encodes the data like onehot and not binary encoding). This is done so there is no relationship between categories. For instance if we give countries a random number than the smallest and the biggest number are most apart and would be very different while this might not be the case. This is also good for the explainability of for instance a decision tree. It is hard to explain what country_number > 23 would mean in real life. Now a decision tree would say country_number_23 > 0.5 which gives true if the transaction is done from country 23 and false otherwise. We also dropped the accountcode and every identifier such as an email or ip-address since these belong to one single transactions and are different for every transaction. It gives no information on the actual transaction itself. Next to that we dropped the amount since we already have amount in euros which is more generalisable.\n",
    "\n",
    "For the black box classifier, we chose a multilayer perceptron.\n",
    "\n",
    "For the white box classifier, we chose a decision tree. This is because for every single sample you can follow the three which gives a great insight on why a sample is labeled fraud or not. It can also give a general direction of what values are seen as fraudulent and which are not."
   ],
   "metadata": {
    "collapsed": false
   }
  },
  {
   "attachments": {},
   "cell_type": "markdown",
   "metadata": {},
   "source": [
    "## 5. Bonus task – 1 A4"
   ]
  },
  {
   "attachments": {},
   "cell_type": "markdown",
   "metadata": {},
   "source": [
    "### 5a. Provide code and report below"
   ]
  },
  {
   "cell_type": "code",
   "execution_count": null,
   "metadata": {},
   "outputs": [],
   "source": []
  }
 ],
 "metadata": {
  "kernelspec": {
   "display_name": "Python 3.9.1 64-bit ('venv')",
   "metadata": {
    "interpreter": {
     "hash": "bf9aa738b81349e875513c622ef6663fb616407fdaeae46f7692b5fc3bd3bcc6"
    }
   },
   "name": "python3"
  },
  "language_info": {
   "codemirror_mode": {
    "name": "ipython",
    "version": 3
   },
   "file_extension": ".py",
   "mimetype": "text/x-python",
   "name": "python",
   "nbconvert_exporter": "python",
   "pygments_lexer": "ipython3",
   "version": "3.11.3"
  }
 },
 "nbformat": 4,
 "nbformat_minor": 2
}
