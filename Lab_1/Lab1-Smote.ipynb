{
 "cells": [
  {
   "cell_type": "code",
   "execution_count": 16,
   "metadata": {},
   "outputs": [],
   "source": [
    "import io\n",
    "import nbformat\n",
    "import numpy as np\n",
    "import pandas as pd\n",
    "import seaborn as sns\n",
    "import matplotlib.pyplot as plt\n",
    "from sklearn.preprocessing import LabelEncoder\n",
    "from sklearn.preprocessing import StandardScaler\n",
    "from sklearn.decomposition import PCA\n",
    "from sklearn.datasets import make_classification\n",
    "from sklearn.neighbors import NearestNeighbors\n",
    "from sklearn.utils import shuffle\n",
    "import re\n",
    "import csv"
   ]
  },
  {
   "cell_type": "code",
   "execution_count": 17,
   "metadata": {},
   "outputs": [],
   "source": [
    "data = \"train_data.csv\"\n",
    "df1 = pd.read_csv(data)"
   ]
  },
  {
   "cell_type": "code",
   "execution_count": 18,
   "metadata": {},
   "outputs": [],
   "source": [
    "# classify majority and minority class\n",
    "minority_class = df1[df1['label'] == 1]\n",
    "majority_class = df1[df1['label'] == 0]"
   ]
  },
  {
   "cell_type": "code",
   "execution_count": 22,
   "metadata": {},
   "outputs": [
    {
     "name": "stdout",
     "output_type": "stream",
     "text": [
      "189076\n",
      "            Id issuercountrycode   txvariantcode       bin    amount  \\\n",
      "101287  126643                MX        mccredit  528843.0   45400.0   \n",
      "95993   120000                MX     visaclassic  493161.0  169915.0   \n",
      "144037  180157                SE       visadebit  453903.0  110000.0   \n",
      "87980   109908                MX     visaclassic  493172.0  279700.0   \n",
      "112623  140759                GB       visadebit  476367.0   12700.0   \n",
      "...        ...               ...             ...       ...       ...   \n",
      "173270  216635                MX       visadebit  421316.0  129900.0   \n",
      "7245      9086                GB       visadebit  475130.0    4000.0   \n",
      "18004    22425                AU  visapurchasing  471514.0    8850.0   \n",
      "11408    14226                AU     visaclassic  456471.0   90000.0   \n",
      "22902    28558                MX    visaplatinum  410181.0  329900.0   \n",
      "\n",
      "       currencycode shoppercountrycode shopperinteraction  \\\n",
      "101287          MXN                 MX          Ecommerce   \n",
      "95993           MXN                 MX          Ecommerce   \n",
      "144037          SEK                 SE          Ecommerce   \n",
      "87980           MXN                 MX          Ecommerce   \n",
      "112623          GBP                 GB           ContAuth   \n",
      "...             ...                ...                ...   \n",
      "173270          MXN                 MX          Ecommerce   \n",
      "7245            GBP                 GB           ContAuth   \n",
      "18004           AUD                 AU          Ecommerce   \n",
      "11408           AUD                 AU          Ecommerce   \n",
      "22902           MXN                 MX          Ecommerce   \n",
      "\n",
      "       cardverificationcodesupplied  cvcresponsecode    accountcode  \\\n",
      "101287                         True                0  MexicoAccount   \n",
      "95993                          True                0  MexicoAccount   \n",
      "144037                         True                1  SwedenAccount   \n",
      "87980                          True                0  MexicoAccount   \n",
      "112623                        False                0      UKAccount   \n",
      "...                             ...              ...            ...   \n",
      "173270                         True                0  MexicoAccount   \n",
      "7245                          False                0      UKAccount   \n",
      "18004                          True                0    APACAccount   \n",
      "11408                          True                0    APACAccount   \n",
      "22902                          True                0  MexicoAccount   \n",
      "\n",
      "            mail_id     ip_id     card_id  label  \n",
      "101287  email143141   ip78380  card243564      1  \n",
      "95993   email251083   ip84162   card48227      1  \n",
      "144037  email103619  ip199662  card135254      1  \n",
      "87980   email288922   ip71405  card154659      1  \n",
      "112623  email288894    ip7113   card38698      1  \n",
      "...             ...       ...         ...    ...  \n",
      "173270   email74363   ip61645  card223620      1  \n",
      "7245    email210351  ip148854  card241682      1  \n",
      "18004   email236905     ip476  card176079      1  \n",
      "11408    email50433  ip116491  card243246      1  \n",
      "22902   email136002  ip111250   card45886      1  \n",
      "\n",
      "[189076 rows x 15 columns]\n"
     ]
    }
   ],
   "source": [
    "# calculate the difference between the two classes\n",
    "nsamples = len(majority_class) - len(minority_class)\n",
    "\n",
    "# get samples from the minority class\n",
    "samples = minority_class.sample(n=nsamples, replace=True)\n",
    "\n",
    "print(nsamples)\n",
    "print(samples)"
   ]
  },
  {
   "cell_type": "code",
   "execution_count": 20,
   "metadata": {},
   "outputs": [
    {
     "ename": "ValueError",
     "evalue": "could not convert string to float: 'AU'",
     "output_type": "error",
     "traceback": [
      "\u001b[0;31m---------------------------------------------------------------------------\u001b[0m",
      "\u001b[0;31mValueError\u001b[0m                                Traceback (most recent call last)",
      "Cell \u001b[0;32mIn[20], line 4\u001b[0m\n\u001b[1;32m      2\u001b[0m \u001b[39mfrom\u001b[39;00m \u001b[39msklearn\u001b[39;00m\u001b[39m.\u001b[39;00m\u001b[39mneighbors\u001b[39;00m \u001b[39mimport\u001b[39;00m NearestNeighbors\n\u001b[1;32m      3\u001b[0m neigh \u001b[39m=\u001b[39m NearestNeighbors(n_neighbors\u001b[39m=\u001b[39m\u001b[39m5\u001b[39m)\n\u001b[0;32m----> 4\u001b[0m nbrs \u001b[39m=\u001b[39m neigh\u001b[39m.\u001b[39;49mfit(minority_class)\n\u001b[1;32m      5\u001b[0m distances, indices \u001b[39m=\u001b[39m nbrs\u001b[39m.\u001b[39mkneighbors(samples)\n\u001b[1;32m      7\u001b[0m \u001b[39m# create synthetic samples\u001b[39;00m\n",
      "File \u001b[0;32m/opt/homebrew/lib/python3.11/site-packages/sklearn/neighbors/_unsupervised.py:176\u001b[0m, in \u001b[0;36mNearestNeighbors.fit\u001b[0;34m(self, X, y)\u001b[0m\n\u001b[1;32m    159\u001b[0m \u001b[39m\u001b[39m\u001b[39m\"\"\"Fit the nearest neighbors estimator from the training dataset.\u001b[39;00m\n\u001b[1;32m    160\u001b[0m \n\u001b[1;32m    161\u001b[0m \u001b[39mParameters\u001b[39;00m\n\u001b[0;32m   (...)\u001b[0m\n\u001b[1;32m    173\u001b[0m \u001b[39m    The fitted nearest neighbors estimator.\u001b[39;00m\n\u001b[1;32m    174\u001b[0m \u001b[39m\"\"\"\u001b[39;00m\n\u001b[1;32m    175\u001b[0m \u001b[39mself\u001b[39m\u001b[39m.\u001b[39m_validate_params()\n\u001b[0;32m--> 176\u001b[0m \u001b[39mreturn\u001b[39;00m \u001b[39mself\u001b[39;49m\u001b[39m.\u001b[39;49m_fit(X)\n",
      "File \u001b[0;32m/opt/homebrew/lib/python3.11/site-packages/sklearn/neighbors/_base.py:491\u001b[0m, in \u001b[0;36mNeighborsBase._fit\u001b[0;34m(self, X, y)\u001b[0m\n\u001b[1;32m    489\u001b[0m \u001b[39melse\u001b[39;00m:\n\u001b[1;32m    490\u001b[0m     \u001b[39mif\u001b[39;00m \u001b[39mnot\u001b[39;00m \u001b[39misinstance\u001b[39m(X, (KDTree, BallTree, NeighborsBase)):\n\u001b[0;32m--> 491\u001b[0m         X \u001b[39m=\u001b[39m \u001b[39mself\u001b[39;49m\u001b[39m.\u001b[39;49m_validate_data(X, accept_sparse\u001b[39m=\u001b[39;49m\u001b[39m\"\u001b[39;49m\u001b[39mcsr\u001b[39;49m\u001b[39m\"\u001b[39;49m, order\u001b[39m=\u001b[39;49m\u001b[39m\"\u001b[39;49m\u001b[39mC\u001b[39;49m\u001b[39m\"\u001b[39;49m)\n\u001b[1;32m    493\u001b[0m \u001b[39mself\u001b[39m\u001b[39m.\u001b[39m_check_algorithm_metric()\n\u001b[1;32m    494\u001b[0m \u001b[39mif\u001b[39;00m \u001b[39mself\u001b[39m\u001b[39m.\u001b[39mmetric_params \u001b[39mis\u001b[39;00m \u001b[39mNone\u001b[39;00m:\n",
      "File \u001b[0;32m/opt/homebrew/lib/python3.11/site-packages/sklearn/base.py:565\u001b[0m, in \u001b[0;36mBaseEstimator._validate_data\u001b[0;34m(self, X, y, reset, validate_separately, **check_params)\u001b[0m\n\u001b[1;32m    563\u001b[0m     \u001b[39mraise\u001b[39;00m \u001b[39mValueError\u001b[39;00m(\u001b[39m\"\u001b[39m\u001b[39mValidation should be done on X, y or both.\u001b[39m\u001b[39m\"\u001b[39m)\n\u001b[1;32m    564\u001b[0m \u001b[39melif\u001b[39;00m \u001b[39mnot\u001b[39;00m no_val_X \u001b[39mand\u001b[39;00m no_val_y:\n\u001b[0;32m--> 565\u001b[0m     X \u001b[39m=\u001b[39m check_array(X, input_name\u001b[39m=\u001b[39;49m\u001b[39m\"\u001b[39;49m\u001b[39mX\u001b[39;49m\u001b[39m\"\u001b[39;49m, \u001b[39m*\u001b[39;49m\u001b[39m*\u001b[39;49mcheck_params)\n\u001b[1;32m    566\u001b[0m     out \u001b[39m=\u001b[39m X\n\u001b[1;32m    567\u001b[0m \u001b[39melif\u001b[39;00m no_val_X \u001b[39mand\u001b[39;00m \u001b[39mnot\u001b[39;00m no_val_y:\n",
      "File \u001b[0;32m/opt/homebrew/lib/python3.11/site-packages/sklearn/utils/validation.py:879\u001b[0m, in \u001b[0;36mcheck_array\u001b[0;34m(array, accept_sparse, accept_large_sparse, dtype, order, copy, force_all_finite, ensure_2d, allow_nd, ensure_min_samples, ensure_min_features, estimator, input_name)\u001b[0m\n\u001b[1;32m    877\u001b[0m         array \u001b[39m=\u001b[39m xp\u001b[39m.\u001b[39mastype(array, dtype, copy\u001b[39m=\u001b[39m\u001b[39mFalse\u001b[39;00m)\n\u001b[1;32m    878\u001b[0m     \u001b[39melse\u001b[39;00m:\n\u001b[0;32m--> 879\u001b[0m         array \u001b[39m=\u001b[39m _asarray_with_order(array, order\u001b[39m=\u001b[39;49morder, dtype\u001b[39m=\u001b[39;49mdtype, xp\u001b[39m=\u001b[39;49mxp)\n\u001b[1;32m    880\u001b[0m \u001b[39mexcept\u001b[39;00m ComplexWarning \u001b[39mas\u001b[39;00m complex_warning:\n\u001b[1;32m    881\u001b[0m     \u001b[39mraise\u001b[39;00m \u001b[39mValueError\u001b[39;00m(\n\u001b[1;32m    882\u001b[0m         \u001b[39m\"\u001b[39m\u001b[39mComplex data not supported\u001b[39m\u001b[39m\\n\u001b[39;00m\u001b[39m{}\u001b[39;00m\u001b[39m\\n\u001b[39;00m\u001b[39m\"\u001b[39m\u001b[39m.\u001b[39mformat(array)\n\u001b[1;32m    883\u001b[0m     ) \u001b[39mfrom\u001b[39;00m \u001b[39mcomplex_warning\u001b[39;00m\n",
      "File \u001b[0;32m/opt/homebrew/lib/python3.11/site-packages/sklearn/utils/_array_api.py:185\u001b[0m, in \u001b[0;36m_asarray_with_order\u001b[0;34m(array, dtype, order, copy, xp)\u001b[0m\n\u001b[1;32m    182\u001b[0m     xp, _ \u001b[39m=\u001b[39m get_namespace(array)\n\u001b[1;32m    183\u001b[0m \u001b[39mif\u001b[39;00m xp\u001b[39m.\u001b[39m\u001b[39m__name__\u001b[39m \u001b[39min\u001b[39;00m {\u001b[39m\"\u001b[39m\u001b[39mnumpy\u001b[39m\u001b[39m\"\u001b[39m, \u001b[39m\"\u001b[39m\u001b[39mnumpy.array_api\u001b[39m\u001b[39m\"\u001b[39m}:\n\u001b[1;32m    184\u001b[0m     \u001b[39m# Use NumPy API to support order\u001b[39;00m\n\u001b[0;32m--> 185\u001b[0m     array \u001b[39m=\u001b[39m numpy\u001b[39m.\u001b[39;49masarray(array, order\u001b[39m=\u001b[39;49morder, dtype\u001b[39m=\u001b[39;49mdtype)\n\u001b[1;32m    186\u001b[0m     \u001b[39mreturn\u001b[39;00m xp\u001b[39m.\u001b[39masarray(array, copy\u001b[39m=\u001b[39mcopy)\n\u001b[1;32m    187\u001b[0m \u001b[39melse\u001b[39;00m:\n",
      "File \u001b[0;32m/opt/homebrew/lib/python3.11/site-packages/pandas/core/generic.py:2070\u001b[0m, in \u001b[0;36mNDFrame.__array__\u001b[0;34m(self, dtype)\u001b[0m\n\u001b[1;32m   2069\u001b[0m \u001b[39mdef\u001b[39;00m \u001b[39m__array__\u001b[39m(\u001b[39mself\u001b[39m, dtype: npt\u001b[39m.\u001b[39mDTypeLike \u001b[39m|\u001b[39m \u001b[39mNone\u001b[39;00m \u001b[39m=\u001b[39m \u001b[39mNone\u001b[39;00m) \u001b[39m-\u001b[39m\u001b[39m>\u001b[39m np\u001b[39m.\u001b[39mndarray:\n\u001b[0;32m-> 2070\u001b[0m     \u001b[39mreturn\u001b[39;00m np\u001b[39m.\u001b[39;49masarray(\u001b[39mself\u001b[39;49m\u001b[39m.\u001b[39;49m_values, dtype\u001b[39m=\u001b[39;49mdtype)\n",
      "\u001b[0;31mValueError\u001b[0m: could not convert string to float: 'AU'"
     ]
    }
   ],
   "source": [
    "# find k nearest neighbors of each sample in the minority class\n",
    "neigh = NearestNeighbors(n_neighbors=5)\n",
    "nbrs = neigh.fit(minority_class)\n",
    "distances, indices = nbrs.kneighbors(samples)\n",
    "\n",
    "# create synthetic samples\n",
    "synthetic_samples = []\n",
    "for i in range(len(samples)):\n",
    "    nn = indices[i]\n",
    "    nn_index = np.random.choice(nn)\n",
    "    diff = minority_class.iloc[nn_index] - samples.iloc[i]\n",
    "    r = np.random.rand()\n",
    "    synthetic_sample = samples.iloc[i] + r * diff\n",
    "    synthetic_samples.append(synthetic_sample)\n",
    "    \n",
    "# convert the synthetic samples to a dataframe\n",
    "synthetic_samples = pd.DataFrame(synthetic_samples, columns=df1.columns)\n",
    "\n",
    "# add the synthetic samples to the minority class\n",
    "oversampled = pd.concat([minority_class, synthetic_samples])"
   ]
  }
 ],
 "metadata": {
  "kernelspec": {
   "display_name": "Python 3",
   "language": "python",
   "name": "python3"
  },
  "language_info": {
   "codemirror_mode": {
    "name": "ipython",
    "version": 3
   },
   "file_extension": ".py",
   "mimetype": "text/x-python",
   "name": "python",
   "nbconvert_exporter": "python",
   "pygments_lexer": "ipython3",
   "version": "3.11.2"
  },
  "orig_nbformat": 4
 },
 "nbformat": 4,
 "nbformat_minor": 2
}
