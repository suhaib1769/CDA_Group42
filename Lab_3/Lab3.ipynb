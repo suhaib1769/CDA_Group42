{
 "cells": [
  {
   "attachments": {},
   "cell_type": "markdown",
   "metadata": {},
   "source": [
    "# CS4035 - Cyber Data Analytics\n",
    "## Lab 3 "
   ]
  },
  {
   "attachments": {},
   "cell_type": "markdown",
   "metadata": {},
   "source": [
    "### Submit on brightspace (zip file with the name Group_xx.zip)\n",
    "(i) This jupyter file completed with code, plots, figures and report for each question. Additional plots and figures can be created for explanation before the end of each main question. Lab 3 contains 4 main questions + 1 bonus. Write the code or explanation below each sub question. For the explantions, include what you would normally include in the report for this lab assignment, for example data pre-processing, hypothesis tested, approach, results, etc.\n",
    "(ii) A PDF or a Word report for the assignment. Create a report from the plots, figures, tables and the write-up that you provide in this jupyter file. The report will be used as a proof for page limit. \n",
    "(iii) The libraries needed to run this file. \n",
    "\n",
    "Your peers should be able to use the readme section for instructions and be able to run this file. "
   ]
  },
  {
   "attachments": {},
   "cell_type": "markdown",
   "metadata": {},
   "source": [
    "## Group Number : 42"
   ]
  },
  {
   "attachments": {},
   "cell_type": "markdown",
   "metadata": {},
   "source": [
    "## Student 1 \n",
    "### Name : Otte van Dam\n",
    "### ID : 5096790"
   ]
  },
  {
   "attachments": {},
   "cell_type": "markdown",
   "metadata": {},
   "source": [
    "## Student 2\n",
    "### Name : Suhaib Basir\n",
    "### ID : 5059151"
   ]
  },
  {
   "attachments": {},
   "cell_type": "markdown",
   "metadata": {},
   "source": [
    "## Readme - Provide instructions - libraries used, location of the data file, etc. Keep it short. Remember your peers will not debug your code and should be able to reproduce the exact output you provide."
   ]
  },
  {
   "cell_type": "code",
   "execution_count": null,
   "metadata": {
    "collapsed": false
   },
   "outputs": [],
   "source": [
    "import io\n",
    "import numpy as np\n",
    "import pandas as pd\n",
    "import matplotlib.pyplot as plt\n",
    "import nbformat\n",
    "from tqdm import tqdm\n",
    "from flexfringe import FlexFringe\n",
    "\n",
    "\n",
    "nb = nbformat.read(\"Lab3.ipynb\", nbformat.NO_CONVERT)\n",
    "word_count = 0\n",
    "for cell in nb.cells:\n",
    "    if cell.cell_type == \"markdown\":\n",
    "        word_count += len(cell['source'].replace('#', '').lstrip().split(' '))\n",
    "\n",
    "print(\"Word count:\", word_count)"
   ]
  },
  {
   "attachments": {},
   "cell_type": "markdown",
   "metadata": {},
   "source": [
    "## 1. Familiarization and discretization task – 1 A4 (5 Points)"
   ]
  },
  {
   "cell_type": "code",
   "execution_count": null,
   "metadata": {
    "collapsed": false
   },
   "outputs": [
    {
     "name": "stdout",
     "output_type": "stream",
     "text": [
      "[    4    15     3 ...   762 10581  1452]\n",
      "3190\n",
      "                    StartTime         Dur Proto         SrcAddr  Sport    Dir  \\\n",
      "0  2011/08/18 10:21:46.633335    1.060248   tcp    93.45.239.29   1611     ->   \n",
      "1  2011/08/18 10:19:49.027650  279.349152   tcp  62.240.166.118   1031    <?>   \n",
      "2  2011/08/18 10:22:07.160628  166.390015   tcp   147.32.86.148  58067     ->   \n",
      "3  2011/08/18 10:26:02.052163    1.187083   tcp     147.32.3.51   3130     ->   \n",
      "4  2011/08/18 10:26:52.226748    0.980571   tcp   88.212.37.169   3134     ->   \n",
      "\n",
      "          DstAddr  Dport    State sTos dTos  TotPkts  TotBytes  SrcBytes  \\\n",
      "0   147.32.84.118   6881     S_RA    0    0        4       252       132   \n",
      "1   147.32.84.229  13363  SRPA_PA    0    0       15      1318       955   \n",
      "2  66.235.132.232     80    SR_SA    0    0        3       212       134   \n",
      "3    147.32.84.46  10010     S_RA    0    0        4       244       124   \n",
      "4   147.32.84.118   6881     S_RA    0    0        4       244       124   \n",
      "\n",
      "                             Label  \n",
      "0      flow=Background-TCP-Attempt  \n",
      "1      flow=Background-TCP-Attempt  \n",
      "2  flow=Background-TCP-Established  \n",
      "3      flow=Background-TCP-Attempt  \n",
      "4      flow=Background-TCP-Attempt  \n"
     ]
    }
   ],
   "source": [
    "# Specify the columns you want to read as strings\n",
    "string_columns = ['sTos', 'dTos']\n",
    "\n",
    "data = \"dataset_lab3/dataset_10/capture20110818.binetflow\"\n",
    "df = pd.read_csv(data)\n",
    "df1 = pd.read_csv(data, dtype={col: str for col in string_columns})\n",
    "print(df1['TotPkts'].unique())\n",
    "print(len(df1['TotPkts'].unique()))\n",
    "print(df1.iloc[0:5])\n",
    "\n",
    "infected_hosts = ['147.32.84.165', '147.32.84.191', '147.32.84.193','147.32.84.204', '147.32.84.205', '147.32.84.206','147.32.84.207', '147.32.84.208', '147.32.84.209']"
   ]
  },
  {
   "cell_type": "code",
   "execution_count": null,
   "metadata": {
    "collapsed": false
   },
   "outputs": [
    {
     "name": "stdout",
     "output_type": "stream",
     "text": [
      "Most occurring value in 'SrcAddr': 147.32.84.138  with  211967  occurences, out of  1309791  occurences in total\n",
      "[    4    15     3 ...   762 10581  1452]\n",
      "3190\n",
      "95967 1213824 1309791\n"
     ]
    },
    {
     "name": "stderr",
     "output_type": "stream",
     "text": [
      "c:\\python39\\lib\\site-packages\\numpy\\lib\\function_base.py:4573: RuntimeWarning: invalid value encountered in subtract\n",
      "  diff_b_a = subtract(b, a)\n"
     ]
    },
    {
     "name": "stdout",
     "output_type": "stream",
     "text": [
      "Column 'Dur' has 10 unique values\n",
      "[7 8 9 0 5 1 6 4 2 3]\n",
      "Column 'TotPkts' has 5 unique values\n",
      "[1 3 2 0 4]\n",
      "Column 'TotBytes' has 9 unique values\n",
      "[3 6 1 2 4 0 7 5 8]\n",
      "Column 'SrcBytes' has 9 unique values\n",
      "[4 6 5 0 7 1 8 2 3]\n",
      "Column 'bytes_per_second' has 10 unique values\n",
      "[2 0 1 9 4 5 3 6 7 8]\n"
     ]
    }
   ],
   "source": [
    "df1 = pd.read_csv(data, dtype={col: str for col in string_columns})\n",
    "df1['bytes_per_second'] = df1['TotBytes'] / df1['Dur']\n",
    "\n",
    "# Use the value_counts() function to count the occurrences of each value in the 'SrcAddr' column\n",
    "srcaddr_counts = df1['SrcAddr'].value_counts()\n",
    "\n",
    "# Get the most occurring value by accessing the first element of the resulting series\n",
    "most_common_value = srcaddr_counts.index[0]\n",
    "\n",
    "# Print the most occurring value\n",
    "print(\"Most occurring value in 'SrcAddr':\", most_common_value, ' with ', srcaddr_counts[0], ' occurences, out of ', len(df1), ' occurences in total')\n",
    "\n",
    "print(df1['TotPkts'].unique())\n",
    "print(len(df1['TotPkts'].unique()))\n",
    "\n",
    "df1_infected = df1[df1['SrcAddr'].isin(infected_hosts)]\n",
    "df1_not_infected = df1[~df1['SrcAddr'].isin(infected_hosts)]\n",
    "\n",
    "print(len(df1_infected), len(df1_not_infected), len(df1))\n",
    "\n",
    "# Discretize numeric columns using percentiles\n",
    "for column in df1.columns:\n",
    "    if df1[column].dtype == np.float64 or df1[column].dtype == np.int64:\n",
    "        df1[column] = pd.qcut(df1[column], q=10, labels=False, duplicates='drop')\n",
    "\n",
    "# print lens of all the columns\n",
    "for column in df1.columns:\n",
    "    if df1[column].dtype == np.float64 or df1[column].dtype == np.int64:\n",
    "        print(\"Column '{}' has {} unique values\".format(column, len(df1[column].unique())))\n",
    "        print(df1[column].unique())\n"
   ]
  },
  {
   "attachments": {},
   "cell_type": "markdown",
   "metadata": {},
   "source": [
    "### 1a. Plot visualizations - Select and visualize two features for modeling the behavior of the infected host."
   ]
  },
  {
   "cell_type": "code",
   "execution_count": 4,
   "metadata": {},
   "outputs": [
    {
     "name": "stdout",
     "output_type": "stream",
     "text": [
      "calculated for 147\n",
      "calculated for other\n",
      "Column          Average (147)   Std Deviation (147)  Average (Other) Std Deviation (Other)\n",
      "------------------------------------------------------------------------------------------\n",
      "Dur             0.89            2.68                 4.52            2.86                \n",
      "TotPkts         0.17            0.74                 0.94            1.40                \n",
      "TotBytes        5.24            0.77                 3.59            2.62                \n",
      "SrcBytes        6.18            0.64                 3.66            2.53                \n",
      "bytes_per_second 8.16            2.53                 4.47            2.86                \n"
     ]
    }
   ],
   "source": [
    "# Filter columns that are either integers or floats\n",
    "numeric_cols_infected = df1[df1['SrcAddr'] == infected_hosts[0]].select_dtypes(include=['int', 'float'])\n",
    "numeric_cols_other = df1[df1['SrcAddr'] != infected_hosts[0]].select_dtypes(include=['int', 'float'])\n",
    "\n",
    "# Calculate the average and standard deviation for df_srcaddr_147\n",
    "avg_values_147 = numeric_cols_infected.mean()\n",
    "std_values_147 = numeric_cols_infected.std()\n",
    "print(f'calculated for 147')\n",
    "\n",
    "# Calculate the average and standard deviation for df_srcaddr_other\n",
    "avg_values_other = numeric_cols_other.mean()\n",
    "std_values_other = numeric_cols_other.std()\n",
    "print('calculated for other')\n",
    "\n",
    "# Print the average and standard deviation side by side\n",
    "print(f\"{'Column':<15} {'Average (147)':<15} {'Std Deviation (147)':<20} {'Average (Other)':<15} {'Std Deviation (Other)':<20}\")\n",
    "print(\"-\" * 90)\n",
    "for column in avg_values_147.index:\n",
    "    avg_147 = avg_values_147[column]\n",
    "    std_147 = std_values_147[column]\n",
    "    avg_other = avg_values_other[column]\n",
    "    std_other = std_values_other[column]\n",
    "    print(f\"{column:<15} {avg_147:<15.2f} {std_147:<20.2f} {avg_other:<15.2f} {std_other:<20.2f}\")"
   ]
  },
  {
   "cell_type": "code",
   "execution_count": 5,
   "metadata": {},
   "outputs": [
    {
     "data": {
      "text/plain": "<Figure size 1500x800 with 2 Axes>",
      "image/png": "[encoded data removed]"
     },
     "metadata": {},
     "output_type": "display_data"
    },
    {
     "data": {
      "text/plain": "<Figure size 1500x800 with 2 Axes>",
      "image/png": "[encoded data removed]"
     },
     "metadata": {},
     "output_type": "display_data"
    },
    {
     "data": {
      "text/plain": "<Figure size 1500x800 with 1 Axes>",
      "image/png": "[encoded data removed]"
     },
     "metadata": {},
     "output_type": "display_data"
    },
    {
     "data": {
      "text/plain": "<Figure size 1500x800 with 1 Axes>",
      "image/png": "[encoded data removed]"
     },
     "metadata": {},
     "output_type": "display_data"
    }
   ],
   "source": [
    "import matplotlib.pyplot as plt\n",
    "import pandas as pd\n",
    "\n",
    "# df1['bytes_per_second'] = df1['TotBytes'] / df1['Dur']\n",
    "\n",
    "# Let's start by visualizinwg the 'TotBytes' and 'TotPkts' features\n",
    "numeric_cols_infected[['TotBytes', 'Dur']].hist(bins=10, figsize=(15, 8))\n",
    "plt.show()\n",
    "\n",
    "numeric_cols_other[['TotBytes', 'Dur']].hist(bins=10, figsize=(15, 8))\n",
    "plt.show()\n",
    "\n",
    "numeric_cols_infected[['bytes_per_second']].hist(bins=10, figsize=(15, 8))\n",
    "numeric_cols_other[['bytes_per_second']].hist(bins=10, figsize=(15, 8))\n",
    "plt.show()\n"
   ]
  },
  {
   "attachments": {},
   "cell_type": "markdown",
   "metadata": {},
   "source": [
    "### 1b. Discretize selected features"
   ]
  },
  {
   "cell_type": "code",
   "execution_count": 5,
   "metadata": {},
   "outputs": [],
   "source": []
  },
  {
   "attachments": {},
   "cell_type": "markdown",
   "metadata": {},
   "source": [
    "### 1c. Answers and explanation"
   ]
  },
  {
   "cell_type": "code",
   "execution_count": 5,
   "metadata": {},
   "outputs": [],
   "source": []
  },
  {
   "attachments": {},
   "cell_type": "markdown",
   "metadata": {},
   "source": [
    "## 2. Sketching task – 1/2 A4 (Individual, 10 Points)"
   ]
  },
  {
   "attachments": {},
   "cell_type": "markdown",
   "metadata": {},
   "source": [
    "### 2a. COUNT-MIN sketch\n"
   ]
  },
  {
   "cell_type": "code",
   "execution_count": 5,
   "metadata": {},
   "outputs": [],
   "source": []
  },
  {
   "attachments": {},
   "cell_type": "markdown",
   "metadata": {},
   "source": [
    "### 2b. Analysis and answers to the questions"
   ]
  },
  {
   "cell_type": "code",
   "execution_count": 5,
   "metadata": {},
   "outputs": [],
   "source": []
  },
  {
   "attachments": {},
   "cell_type": "markdown",
   "metadata": {},
   "source": [
    "## 3. Min-wise locality sensitive hashing task – 1/2 A4 (Individual, 10 Points)"
   ]
  },
  {
   "attachments": {},
   "cell_type": "markdown",
   "metadata": {},
   "source": [
    "### 3a. Implementation"
   ]
  },
  {
   "cell_type": "code",
   "execution_count": 5,
   "metadata": {},
   "outputs": [],
   "source": []
  },
  {
   "attachments": {},
   "cell_type": "markdown",
   "metadata": {},
   "source": [
    "### 3b. Analysis and answers to the questions"
   ]
  },
  {
   "cell_type": "code",
   "execution_count": 5,
   "metadata": {},
   "outputs": [],
   "source": []
  },
  {
   "attachments": {},
   "cell_type": "markdown",
   "metadata": {},
   "source": [
    "## 4.Botnet profiling and fingerprinting task – 1 A4 (5 Points)"
   ]
  },
  {
   "attachments": {},
   "cell_type": "markdown",
   "metadata": {},
   "source": [
    "### 4a. Learn a sequential model, profiling and fingerprinting"
   ]
  },
  {
   "cell_type": "code",
   "execution_count": 13,
   "metadata": {},
   "outputs": [
    {
     "name": "stderr",
     "output_type": "stream",
     "text": [
      "C:\\Users\\ottev\\AppData\\Local\\Temp\\ipykernel_8100\\3065241543.py:2: SettingWithCopyWarning: \n",
      "A value is trying to be set on a copy of a slice from a DataFrame.\n",
      "Try using .loc[row_indexer,col_indexer] = value instead\n",
      "\n",
      "See the caveats in the documentation: https://pandas.pydata.org/pandas-docs/stable/user_guide/indexing.html#returning-a-view-versus-a-copy\n",
      "  df_tracefile['eval'] = df_tracefile['SrcAddr'].isin(infected_hosts).astype(int)\n"
     ]
    },
    {
     "name": "stdout",
     "output_type": "stream",
     "text": [
      "114146\n",
      "Loaded flexfringe\n",
      "fitted\n"
     ]
    },
    {
     "name": "stderr",
     "output_type": "stream",
     "text": [
      "c:\\python39\\lib\\site-packages\\PIL\\Image.py:3167: DecompressionBombWarning: Image size (116529190 pixels) exceeds limit of 89478485 pixels, could be decompression bomb DOS attack.\n",
      "  warnings.warn(\n"
     ]
    },
    {
     "name": "stdout",
     "output_type": "stream",
     "text": [
      "row nr\n",
      "10         [2, 17, 90, 368, 368, 368, 368, 368, 368, 368]\n",
      "17         [2, 17, 90, 368, 368, 368, 368, 368, 368, 368]\n",
      "30         [2, 17, 90, 368, 368, 368, 368, 368, 368, 368]\n",
      "43         [2, 17, 90, 368, 368, 368, 368, 368, 368, 368]\n",
      "48         [2, 17, 90, 368, 368, 368, 368, 368, 368, 368]\n",
      "                               ...                       \n",
      "114122      [4, 34, 159, 158, 34, 159, 497, 1280, 45, 33]\n",
      "114127         [6, 8, 45, 203, 33, 158, 497, 158, 33, 34]\n",
      "114133        [4, 8, 44, 44, 1280, 33, 158, 33, 158, 158]\n",
      "114139         [5, 4, 33, 158, 158, 497, 33, 34, 34, 159]\n",
      "114144    [8, 1280, 34, 34, 159, 159, 159, 159, 158, 497]\n",
      "Name: state sequence, Length: 22596, dtype: object\n"
     ]
    }
   ],
   "source": [
    "df_tracefile = df1[:200000]\n",
    "df_tracefile['eval'] = df_tracefile['SrcAddr'].isin(infected_hosts).astype(int)\n",
    "# Filter out rows where 'SrcAddr' appears less than 20 times\n",
    "df_tracefile = df_tracefile.groupby('SrcAddr').filter(lambda x: len(x) >= 30)\n",
    "df_tracefile = df_tracefile.groupby('DstAddr').filter(lambda x: len(x) >= 30)\n",
    "df_tracefile = df_tracefile.rename(columns={\"bytes_per_second\": \"symb\"}).rename(columns={\"SrcAddr\": \"id\"})[['id', 'symb', 'eval']]\n",
    "print(len(df_tracefile))\n",
    "flexfringe = FlexFringe(\n",
    "    flexfringe_path=\"flexfringe-x64-windows.exe\",\n",
    "    heuristic_name=\"alergia\",\n",
    "    data_name=\"alergia_data\",\n",
    "    slidingwindow=1,\n",
    "    swsize=10,\n",
    "    sinkson=1,\n",
    "    sinkcount=50,\n",
    "    printblue=1\n",
    ")\n",
    "print('Loaded flexfringe')\n",
    "# Learn a state machine\n",
    "flexfringe.fit(df_tracefile,\n",
    "               sinkson=1,\n",
    "               sinkcount=50)\n",
    "print('fitted')\n",
    "# Use state machine to predict likelihoods\n",
    "df = flexfringe.predict(df_tracefile)\n",
    "flexfringe.show()\n",
    "\n",
    "print(df['state sequence'])"
   ]
  },
  {
   "attachments": {},
   "cell_type": "markdown",
   "metadata": {},
   "source": [
    "### 4b. Analysis and answers to the questions."
   ]
  },
  {
   "cell_type": "code",
   "execution_count": 12,
   "metadata": {},
   "outputs": [
    {
     "name": "stdout",
     "output_type": "stream",
     "text": [
      "       abbadingo type abbadingo length  \\\n",
      "row nr                                   \n",
      "9                   0               10   \n",
      "14                  0               10   \n",
      "19                  0               10   \n",
      "24                  0               10   \n",
      "29                  0               10   \n",
      "\n",
      "                                          abbadingo trace  \\\n",
      "row nr                                                      \n",
      "9       [0/0, 2/0, 1/0, 1/0, 1/0, 1/0, 1/0, 1/0, 1/0, ...   \n",
      "14      [1/0, 1/0, 1/0, 1/0, 1/0, 1/0, 1/0, 1/0, 1/0, ...   \n",
      "19      [1/0, 1/0, 1/0, 1/0, 1/0, 1/0, 1/0, 1/0, 1/0, ...   \n",
      "24      [1/0, 1/0, 1/0, 1/0, 1/0, 2/0, 1/0, 1/0, 1/0, ...   \n",
      "29      [2/0, 1/0, 1/0, 1/0, 1/0, 1/0, 1/0, 2/0, 0/0, ...   \n",
      "\n",
      "                                        state sequence  \\\n",
      "row nr                                                   \n",
      "9          [1, 12, 3, 17, 36, 128, 743, 743, 743, 743]   \n",
      "14      [3, 17, 36, 128, 743, 743, 743, 743, 743, 743]   \n",
      "19      [3, 17, 36, 128, 743, 743, 743, 743, 743, 743]   \n",
      "24                     [3, 17, 36, 128, 743, 2626, -1]   \n",
      "29             [2, 3, 17, 36, 128, 743, 743, 2626, -1]   \n",
      "\n",
      "                                           score sequence  \\\n",
      "row nr                                                      \n",
      "9       [-2.58401, -1.88044, -2.32692, -1.34133, -0.75...   \n",
      "14      [-2.39629, -1.34133, -0.751274, -0.530102, -0....   \n",
      "19      [-2.39629, -1.34133, -0.751274, -0.530102, -0....   \n",
      "24      [-2.39629, -1.34133, -0.751274, -0.530102, -0....   \n",
      "29      [-2.23039, -2.28931, -1.34133, -0.751274, -0.5...   \n",
      "\n",
      "                                        score per sw tail  \\\n",
      "row nr                                                      \n",
      "9        [-2.58401,-1.88044,-2.32692,-1.34133,-0.75127...   \n",
      "14       [-2.92639,-1.76317,-1.02903,-0.807856,-0.6995...   \n",
      "19       [-2.67405,-1.61908,-1.02903,-0.807856,-0.6995...   \n",
      "24       [-2.67405,-1.61908,-1.02903,-0.807856,-0.6995...   \n",
      "29       [-4.96016,-3.48928,-1.34133,-0.751274,-0.5301...   \n",
      "\n",
      "        score first sw tail root cause sw tail score row nrs first sw tail  \\\n",
      "row nr                                                                       \n",
      "9                  -2.58401                    \"0/0\"                   [9]   \n",
      "14                 -2.92639                    \"1/0\"                [14,9]   \n",
      "19                 -2.67405                    \"1/0\"               [19,14]   \n",
      "24                 -2.67405                    \"1/0\"               [24,19]   \n",
      "29                 -4.96016                    \"2/0\"               [29,24]   \n",
      "\n",
      "        sum scores  mean scores  min score  \n",
      "row nr                                      \n",
      "9        -10.66920    -1.066920   -2.58401  \n",
      "14        -6.82961    -0.682961   -2.39629  \n",
      "19        -6.82961    -0.682961   -2.39629  \n",
      "24        -9.37058    -1.338650   -2.72977  \n",
      "29       -13.60430    -1.511590   -3.03255  \n"
     ]
    }
   ],
   "source": []
  },
  {
   "attachments": {},
   "cell_type": "markdown",
   "metadata": {},
   "source": [
    "## 5. Bonus Task 1/2 A4 (5 Points)"
   ]
  },
  {
   "attachments": {},
   "cell_type": "markdown",
   "metadata": {},
   "source": [
    "### 5a. Provide implementation and analysis."
   ]
  },
  {
   "cell_type": "code",
   "execution_count": null,
   "metadata": {},
   "outputs": [],
   "source": []
  }
 ],
 "metadata": {
  "kernelspec": {
   "display_name": "Python 3 (ipykernel)",
   "language": "python",
   "name": "python3"
  },
  "language_info": {
   "codemirror_mode": {
    "name": "ipython",
    "version": 3
   },
   "file_extension": ".py",
   "mimetype": "text/x-python",
   "name": "python",
   "nbconvert_exporter": "python",
   "pygments_lexer": "ipython3",
   "version": "3.11.3"
  }
 },
 "nbformat": 4,
 "nbformat_minor": 2
}
