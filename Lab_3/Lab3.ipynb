{
 "cells": [
  {
   "attachments": {},
   "cell_type": "markdown",
   "metadata": {},
   "source": [
    "# CS4035 - Cyber Data Analytics\n",
    "## Lab 3 "
   ]
  },
  {
   "attachments": {},
   "cell_type": "markdown",
   "metadata": {},
   "source": [
    "### Submit on brightspace (zip file with the name Group_xx.zip)\n",
    "(i) This jupyter file completed with code, plots, figures and report for each question. Additional plots and figures can be created for explanation before the end of each main question. Lab 3 contains 4 main questions + 1 bonus. Write the code or explanation below each sub question. For the explantions, include what you would normally include in the report for this lab assignment, for example data pre-processing, hypothesis tested, approach, results, etc.\n",
    "(ii) A PDF or a Word report for the assignment. Create a report from the plots, figures, tables and the write-up that you provide in this jupyter file. The report will be used as a proof for page limit. \n",
    "(iii) The libraries needed to run this file. \n",
    "\n",
    "Your peers should be able to use the readme section for instructions and be able to run this file. "
   ]
  },
  {
   "attachments": {},
   "cell_type": "markdown",
   "metadata": {},
   "source": [
    "## Group Number : 42"
   ]
  },
  {
   "attachments": {},
   "cell_type": "markdown",
   "metadata": {},
   "source": [
    "## Student 1 \n",
    "### Name : Otte van Dam\n",
    "### ID : 5096790"
   ]
  },
  {
   "attachments": {},
   "cell_type": "markdown",
   "metadata": {},
   "source": [
    "## Student 2\n",
    "### Name : Suhaib Basir\n",
    "### ID : 5059151"
   ]
  },
  {
   "attachments": {},
   "cell_type": "markdown",
   "metadata": {},
   "source": [
    "## Readme - Provide instructions - libraries used, location of the data file, etc. Keep it short. Remember your peers will not debug your code and should be able to reproduce the exact output you provide."
   ]
  },
  {
   "cell_type": "code",
   "execution_count": 1,
   "metadata": {
    "collapsed": false
   },
   "outputs": [
    {
     "name": "stdout",
     "output_type": "stream",
     "text": [
      "Word count: 328\n"
     ]
    }
   ],
   "source": [
    "import io\n",
    "import numpy as np\n",
    "import pandas as pd\n",
    "import matplotlib.pyplot as plt\n",
    "import nbformat\n",
    "from tqdm import tqdm\n",
    "from flexfringe import FlexFringe\n",
    "from sklearn.metrics.pairwise import cosine_similarity\n",
    "\n",
    "\n",
    "\n",
    "nb = nbformat.read(\"Lab3.ipynb\", nbformat.NO_CONVERT)\n",
    "word_count = 0\n",
    "for cell in nb.cells:\n",
    "    if cell.cell_type == \"markdown\":\n",
    "        word_count += len(cell['source'].replace('#', '').lstrip().split(' '))\n",
    "\n",
    "print(\"Word count:\", word_count)"
   ]
  },
  {
   "attachments": {},
   "cell_type": "markdown",
   "metadata": {},
   "source": [
    "## 1. Familiarization and discretization task – 1 A4 (5 Points)"
   ]
  },
  {
   "cell_type": "code",
   "execution_count": 13,
   "metadata": {
    "collapsed": false
   },
   "outputs": [],
   "source": [
    "# Specify the columns you want to read as strings\n",
    "string_columns = ['sTos', 'dTos']\n",
    "\n",
    "# Specify the columns you want to read as strings\n",
    "data9 = \"dataset_lab3/dataset_9/capture20110817.binetflow\"\n",
    "data10 = \"dataset_lab3/dataset_10/capture20110818.binetflow\"\n",
    "data11 = \"dataset_lab3/dataset_11/capture20110818-2.binetflow\"\n",
    "data12 = \"dataset_lab3/dataset_12/capture20110819.binetflow\"\n",
    "\n",
    "df9 = pd.read_csv(data9, dtype={col: str for col in string_columns})\n",
    "df10 = pd.read_csv(data10, dtype={col: str for col in string_columns})\n",
    "df11 = pd.read_csv(data11, dtype={col: str for col in string_columns})\n",
    "df12 = pd.read_csv(data12, dtype={col: str for col in string_columns})\n",
    "\n",
    "\n",
    "infected_hosts = ['147.32.84.165', '147.32.84.191', '147.32.84.192', '147.32.84.193','147.32.84.204', '147.32.84.205', '147.32.84.206','147.32.84.207', '147.32.84.208', '147.32.84.209']"
   ]
  },
  {
   "cell_type": "code",
   "execution_count": 3,
   "metadata": {
    "collapsed": false
   },
   "outputs": [],
   "source": [
    "def discretise_netflow(df1):\n",
    "    df1['bytes_per_second'] = df1['SrcBytes'] / (df1['Dur'] + 1e-10)\n",
    "\n",
    "    # Discretize numeric columns using percentiles\n",
    "    for column in df1.columns:\n",
    "        if df1[column].dtype == np.float64 or df1[column].dtype == np.int64:\n",
    "            df1[column] = pd.qcut(df1[column], q=20, labels=False, duplicates='drop')\n",
    "\n",
    "    return df1\n",
    "\n",
    "df9 = discretise_netflow(df9)\n",
    "df10 = discretise_netflow(df10)\n",
    "df11 = discretise_netflow(df11)\n",
    "df12 = discretise_netflow(df12)"
   ]
  },
  {
   "attachments": {},
   "cell_type": "markdown",
   "metadata": {},
   "source": [
    "### 1a. Plot visualizations - Select and visualize two features for modeling the behavior of the infected host."
   ]
  },
  {
   "cell_type": "code",
   "execution_count": 4,
   "metadata": {},
   "outputs": [
    {
     "name": "stdout",
     "output_type": "stream",
     "text": [
      "calculated for infected\n",
      "calculated for other\n",
      "Column          Average (infected) Std Deviation (infected) Average (Other) Std Deviation (Other)\n",
      "------------------------------------------------------------------------------------------\n",
      "Dur             1.68            5.06                 8.60            5.66                \n",
      "TotPkts         0.29            1.33                 1.74            2.63                \n",
      "TotBytes        11.31           1.07                 7.54            4.89                \n",
      "SrcBytes        13.32           1.14                 7.93            5.09                \n",
      "bytes_per_second 16.45           4.67                 9.39            5.66                \n"
     ]
    }
   ],
   "source": [
    "# Filter columns that are either integers or floats\n",
    "numeric_cols_infected = df10[df10['SrcAddr'] == infected_hosts[1]].select_dtypes(include=['int', 'float'])\n",
    "numeric_cols_other = df10[df10['SrcAddr'] != infected_hosts[1]].select_dtypes(include=['int', 'float'])\n",
    "\n",
    "# Calculate the average and standard deviation for df_srcaddr_147\n",
    "avg_values_infected = numeric_cols_infected.mean()\n",
    "std_values_infected = numeric_cols_infected.std()\n",
    "print(f'calculated for infected')\n",
    "\n",
    "# Calculate the average and standard deviation for df_srcaddr_other\n",
    "avg_values_other = numeric_cols_other.mean()\n",
    "std_values_other = numeric_cols_other.std()\n",
    "print('calculated for other')\n",
    "\n",
    "# Print the average and standard deviation side by side\n",
    "print(f\"{'Column':<15} {'Average (infected)':<15} {'Std Deviation (infected)':<20} {'Average (Other)':<15} {'Std Deviation (Other)':<20}\")\n",
    "print(\"-\" * 90)\n",
    "for column in avg_values_infected.index:\n",
    "    avg_infected = avg_values_infected[column]\n",
    "    std_infected = std_values_infected[column]\n",
    "    avg_other = avg_values_other[column]\n",
    "    std_other = std_values_other[column]\n",
    "    print(f\"{column:<15} {avg_infected:<15.2f} {std_infected:<20.2f} {avg_other:<15.2f} {std_other:<20.2f}\")"
   ]
  },
  {
   "cell_type": "code",
   "execution_count": 5,
   "metadata": {},
   "outputs": [
    {
     "name": "stdout",
     "output_type": "stream",
     "text": [
      "for infected: \n"
     ]
    },
    {
     "data": {
      "text/plain": "<Figure size 1500x800 with 2 Axes>",
      "image/png": "[encoded data removed]"
     },
     "metadata": {},
     "output_type": "display_data"
    },
    {
     "name": "stdout",
     "output_type": "stream",
     "text": [
      "for normal: \n"
     ]
    },
    {
     "data": {
      "text/plain": "<Figure size 1500x800 with 2 Axes>",
      "image/png": "[encoded data removed]"
     },
     "metadata": {},
     "output_type": "display_data"
    },
    {
     "data": {
      "text/plain": "<Figure size 1500x800 with 1 Axes>",
      "image/png": "[encoded data removed]"
     },
     "metadata": {},
     "output_type": "display_data"
    },
    {
     "data": {
      "text/plain": "<Figure size 1500x800 with 1 Axes>",
      "image/png": "[encoded data removed]"
     },
     "metadata": {},
     "output_type": "display_data"
    }
   ],
   "source": [
    "# Let's start by visualizing the 'SrcBytes' and 'duration' features\n",
    "print('for infected: ')\n",
    "numeric_cols_infected[['SrcBytes', 'Dur']].hist(bins=10, figsize=(15, 8))\n",
    "plt.show()\n",
    "print('for normal: ')\n",
    "numeric_cols_other[['SrcBytes', 'Dur']].hist(bins=10, figsize=(15, 8))\n",
    "plt.show()\n",
    "\n",
    "numeric_cols_infected[['bytes_per_second']].hist(bins=10, figsize=(15, 8))\n",
    "plt.title('SrcBytes for infected')\n",
    "numeric_cols_other[['bytes_per_second']].hist(bins=10, figsize=(15, 8))\n",
    "plt.title('SrcBytes for normal')\n",
    "\n",
    "plt.show()\n"
   ]
  },
  {
   "attachments": {},
   "cell_type": "markdown",
   "metadata": {},
   "source": [
    "### 1c. Answers and explanation"
   ]
  },
  {
   "cell_type": "code",
   "execution_count": 115,
   "metadata": {},
   "outputs": [],
   "source": []
  },
  {
   "attachments": {},
   "cell_type": "markdown",
   "metadata": {},
   "source": [
    "## 2. Sketching task – 1/2 A4 (Individual, 10 Points)"
   ]
  },
  {
   "attachments": {},
   "cell_type": "markdown",
   "metadata": {},
   "source": [
    "### 2a. COUNT-MIN sketch\n"
   ]
  },
  {
   "cell_type": "code",
   "execution_count": 115,
   "metadata": {},
   "outputs": [],
   "source": []
  },
  {
   "attachments": {},
   "cell_type": "markdown",
   "metadata": {},
   "source": [
    "### 2b. Analysis and answers to the questions"
   ]
  },
  {
   "cell_type": "code",
   "execution_count": 115,
   "metadata": {},
   "outputs": [],
   "source": []
  },
  {
   "attachments": {},
   "cell_type": "markdown",
   "metadata": {},
   "source": [
    "## 3. Min-wise locality sensitive hashing task – 1/2 A4 (Individual, 10 Points)"
   ]
  },
  {
   "attachments": {},
   "cell_type": "markdown",
   "metadata": {},
   "source": [
    "### 3a. Implementation"
   ]
  },
  {
   "cell_type": "code",
   "execution_count": 115,
   "metadata": {},
   "outputs": [],
   "source": []
  },
  {
   "attachments": {},
   "cell_type": "markdown",
   "metadata": {},
   "source": [
    "### 3b. Analysis and answers to the questions"
   ]
  },
  {
   "cell_type": "code",
   "execution_count": 115,
   "metadata": {},
   "outputs": [],
   "source": []
  },
  {
   "attachments": {},
   "cell_type": "markdown",
   "metadata": {},
   "source": [
    "## 4.Botnet profiling and fingerprinting task – 1 A4 (5 Points)"
   ]
  },
  {
   "attachments": {},
   "cell_type": "markdown",
   "metadata": {},
   "source": [
    "### 4a. Learn a sequential model, profiling and fingerprinting"
   ]
  },
  {
   "attachments": {},
   "cell_type": "markdown",
   "metadata": {
    "collapsed": false
   },
   "source": [
    "### Learn model on infected host"
   ]
  },
  {
   "cell_type": "code",
   "execution_count": 6,
   "metadata": {},
   "outputs": [],
   "source": [
    "def create_flexfringe(df1):\n",
    "    botnet_ip = infected_hosts[0]\n",
    "    df_tracefile = df1[df1['SrcAddr'] == botnet_ip]\n",
    "    df_tracefile = df_tracefile.rename(columns={\"bytes_per_second\": \"symb\"})[['symb']]\n",
    "    flexfringe = FlexFringe(\n",
    "        flexfringe_path=\"flexfringe-x64-windows.exe\",\n",
    "        heuristic_name=\"alergia\",\n",
    "        data_name=\"alergia_data\",\n",
    "        slidingwindow=1,\n",
    "        swsize=10,\n",
    "        sinkson=1,\n",
    "        sinkcount=50,\n",
    "        printblue=1,\n",
    "        printwhite=1,\n",
    "    )\n",
    "    # Learn a state machine\n",
    "    flexfringe.fit(df_tracefile,\n",
    "                   sinkson=1,\n",
    "                   sinkcount=50)\n",
    "    flexfringe.show()\n",
    "    return flexfringe"
   ]
  },
  {
   "attachments": {},
   "cell_type": "markdown",
   "metadata": {
    "collapsed": false
   },
   "source": [
    "### Profiling"
   ]
  },
  {
   "cell_type": "code",
   "execution_count": 7,
   "outputs": [
    {
     "name": "stderr",
     "output_type": "stream",
     "text": [
      "100%|██████████| 981/981 [06:28<00:00,  2.53it/s] \n"
     ]
    }
   ],
   "source": [
    "def make_profile(flex_fringe, trace_file):\n",
    "    # Use state machine to predict likelihoods\n",
    "    df = flex_fringe.predict(trace_file)\n",
    "    return df[['abbadingo trace', 'state sequence']]\n",
    "\n",
    "def create_profiles(df1, flexfringe):\n",
    "    df1_profiling = df1[['SrcAddr', 'bytes_per_second']]\n",
    "    df1_profiling = df1_profiling.rename(columns={\"bytes_per_second\": \"symb\"})\n",
    "    # Filter out src addresses that have less than 20 connections\n",
    "    df1_profiling = df1_profiling.groupby('SrcAddr').filter(lambda x: len(x) >= 20)\n",
    "    # Get the unique values in the 'SrcAddr' column\n",
    "    unique_src_addrs = df1_profiling['SrcAddr'].unique()\n",
    "    src_addr_with_state_trace = []\n",
    "    # Iterate over each unique 'SrcAddr' value\n",
    "    for src_addr in tqdm(unique_src_addrs, maxinterval=len(unique_src_addrs)):\n",
    "        # Filter the dataframe based on the current 'SrcAddr' value\n",
    "        filtered_df = df1_profiling[df1_profiling['SrcAddr'] == src_addr]\n",
    "        trace_state = make_profile(flexfringe, filtered_df)\n",
    "        src_addr_with_state_trace.append([src_addr, trace_state])\n",
    "    return src_addr_with_state_trace"
   ],
   "metadata": {
    "collapsed": false
   }
  },
  {
   "cell_type": "code",
   "execution_count": 9,
   "outputs": [
    {
     "name": "stderr",
     "output_type": "stream",
     "text": [
      "100%|██████████| 981/981 [00:15<00:00, 65.12it/s] \n"
     ]
    }
   ],
   "source": [
    "def create_counts(src_addr_with_state_trace):\n",
    "    # Create an empty dictionary to store the counts\n",
    "    counts = {}\n",
    "\n",
    "    # Iterate over each IP address and corresponding DataFrame\n",
    "    for item in tqdm(src_addr_with_state_trace, maxinterval=len(src_addr_with_state_trace)):\n",
    "        ip_address = item[0]\n",
    "        dataframe = item[1]\n",
    "\n",
    "        # Iterate over each row in the DataFrame\n",
    "        for _, row in dataframe.iterrows():\n",
    "            states = row['state sequence']\n",
    "            trace = row['abbadingo trace']\n",
    "\n",
    "            # Get the shorter length between state sequence and abbadingo trace\n",
    "            length = min(len(states), len(trace))\n",
    "\n",
    "            # Iterate over each state and symbol combination\n",
    "            for i in range(length):\n",
    "                state = states[i]\n",
    "                symbol = trace[i]\n",
    "\n",
    "                # Cut off the state if it reaches -1\n",
    "                if state == -1:\n",
    "                    break\n",
    "\n",
    "                # Create a tuple representing the state and symbol combination\n",
    "                combination = (state, symbol)\n",
    "\n",
    "                # Update the counts dictionary\n",
    "                if ip_address in counts:\n",
    "                    if combination in counts[ip_address]:\n",
    "                        counts[ip_address][combination] += 1\n",
    "                    else:\n",
    "                        counts[ip_address][combination] = 1\n",
    "                else:\n",
    "                    counts[ip_address] = {combination: 1}\n",
    "\n",
    "    # Create a DataFrame from the counts dictionary\n",
    "    df_counts = pd.DataFrame(counts).fillna(0).astype(int).transpose()\n",
    "\n",
    "    # Sort the columns in ascending order\n",
    "    df_counts = df_counts.reindex(sorted(df_counts.columns),axis=1)\n",
    "    return df_counts"
   ],
   "metadata": {
    "collapsed": false
   }
  },
  {
   "cell_type": "code",
   "execution_count": null,
   "outputs": [],
   "source": [
    "def print_false_postives(df_cos_sim, botnet_ip):\n",
    "    threshold = 0.999\n",
    "    print('false positives for threshold: ', threshold)\n",
    "    print()\n",
    "    for index in df_cos_sim[df_cos_sim[botnet_ip] > threshold][botnet_ip].index:\n",
    "        if index not in infected_hosts:\n",
    "            print(index)\n",
    "            print(df_cos_sim[df_cos_sim[botnet_ip] > threshold][botnet_ip][index])\n",
    "            print()"
   ],
   "metadata": {
    "collapsed": false
   }
  },
  {
   "cell_type": "code",
   "execution_count": 14,
   "metadata": {
    "collapsed": false
   },
   "outputs": [
    {
     "name": "stdout",
     "output_type": "stream",
     "text": [
      "similarity scores for infected hosts\n",
      "147.32.84.165\n",
      "1.0000000000000018\n",
      "\n",
      "147.32.84.191\n",
      "0.9999900043779933\n",
      "\n",
      "147.32.84.192\n",
      "0.9999956656280344\n",
      "\n",
      "147.32.84.193\n",
      "0.9999888096848317\n",
      "\n",
      "147.32.84.204\n",
      "0.9999871119510997\n",
      "\n",
      "147.32.84.205\n",
      "0.9999450616815674\n",
      "\n",
      "147.32.84.206\n",
      "0.999936303595828\n",
      "\n",
      "147.32.84.207\n",
      "0.9998822078009846\n",
      "\n",
      "147.32.84.208\n",
      "0.9999083125847313\n",
      "\n",
      "147.32.84.209\n",
      "0.9996175971408506\n",
      "\n"
     ]
    }
   ],
   "source": [
    "def create_cosine_matrix(df_counts, botnet_ip, printing):\n",
    "    cos_sim_matrix = cosine_similarity(df_counts)\n",
    "    # Convert the cosine similarity matrix to a DataFrame\n",
    "    df_cos_sim = pd.DataFrame(cos_sim_matrix, index=df_counts.index, columns=df_counts.index)\n",
    "    if printing:\n",
    "        print('similarity scores for infected hosts')\n",
    "        for ip_address in infected_hosts:\n",
    "            print(ip_address)\n",
    "            print(df_cos_sim.loc[botnet_ip, ip_address])\n",
    "            print()\n",
    "        print_false_postives(df_cos_sim, botnet_ip)"
   ]
  },
  {
   "cell_type": "code",
   "execution_count": null,
   "outputs": [],
   "source": [
    "# Define the three IP addresses for the y-axis\n",
    "ip_addresses = ['147.32.84.192', '147.32.96.45', '147.32.87.16']\n",
    "correctness = ['true positive', 'true negative', 'false positive']\n",
    "# Get the occurrences for the botnet_ip row\n",
    "botnet_occurrences = df_counts.loc[botnet_ip]\n",
    "\n",
    "# Get the occurrences for the given IP addresses\n",
    "ip_occurrences = df_counts.loc[ip_addresses]\n",
    "\n",
    "for ip_address in ip_addresses:\n",
    "    x = botnet_occurrences\n",
    "    y = ip_occurrences.loc[ip_address]\n",
    "    # Calculate the coefficients of the regression line (y = mx + c)\n",
    "    coefficients = np.polyfit(x, y, 1)\n",
    "    m = coefficients[0]  # Slope\n",
    "    c = coefficients[1]  # Intercept\n",
    "\n",
    "    # Generate points for the regression line\n",
    "    regression_x = np.linspace(min(x), max(x), 100)\n",
    "    regression_y = m * regression_x + c\n",
    "\n",
    "    # Plot the data points and the regression line\n",
    "    plt.scatter(x, y, label=correctness[ip_addresses.index(ip_address)])\n",
    "    plt.plot(regression_x, regression_y, label=ip_address)\n",
    "\n",
    "plt.plot(botnet_occurrences, botnet_occurrences, color='r', linestyle='--', label= 'botnet')\n",
    "plt.xlabel('Occurrences for Botnet IP')\n",
    "plt.ylabel('Occurrences for Other IP Addresses')\n",
    "plt.xlim(-50, 18000)\n",
    "plt.ylim(-50, 18000)\n",
    "plt.legend()\n",
    "# Show the plot\n",
    "plt.show()\n"
   ],
   "metadata": {
    "collapsed": false
   }
  },
  {
   "cell_type": "code",
   "execution_count": 16,
   "metadata": {
    "collapsed": false
   },
   "outputs": [
    {
     "name": "stdout",
     "output_type": "stream",
     "text": [
      "Significant state-symbol combinations:\n",
      "Combination: ('95', '18')\n",
      "Occurrence in infected IP addresses: 100.00%\n",
      "Occurrence in non-infected IP addresses: 0.62%\n",
      "\n"
     ]
    },
    {
     "name": "stderr",
     "output_type": "stream",
     "text": [
      "C:\\Users\\ottev\\AppData\\Local\\Temp\\ipykernel_18604\\4261104915.py:6: FutureWarning: Passing a set as an indexer is deprecated and will raise in a future version. Use a list instead.\n",
      "  occurrence_infected = (df_counts.loc[infected_ips] > 0).mean()\n",
      "C:\\Users\\ottev\\AppData\\Local\\Temp\\ipykernel_18604\\4261104915.py:7: FutureWarning: Passing a set as an indexer is deprecated and will raise in a future version. Use a list instead.\n",
      "  occurrence_non_infected = (df_counts.loc[non_infected_ips] > 0).mean()\n",
      "C:\\Users\\ottev\\AppData\\Local\\Temp\\ipykernel_18604\\4261104915.py:8: FutureWarning: Passing a set as an indexer is deprecated and will raise in a future version. Use a list instead.\n",
      "  total_count_infected = df_counts.loc[infected_ips].sum()\n",
      "C:\\Users\\ottev\\AppData\\Local\\Temp\\ipykernel_18604\\4261104915.py:9: FutureWarning: Passing a set as an indexer is deprecated and will raise in a future version. Use a list instead.\n",
      "  total_count_non_infected = df_counts.loc[non_infected_ips].sum()\n",
      "C:\\Users\\ottev\\AppData\\Local\\Temp\\ipykernel_18604\\4261104915.py:16: FutureWarning: iteritems is deprecated and will be removed in a future version. Use .items instead.\n",
      "  for combination, occurrence in significant_combinations.iteritems():\n"
     ]
    }
   ],
   "source": [
    "# Separate the infected and non-infected IP addresses\n",
    "infected_ips = set(infected_hosts)\n",
    "non_infected_ips = set(df_counts.index) - infected_ips\n",
    "\n",
    "# Calculate the occurrence percentages and counts for each state-symbol combination in infected and non-infected IP addresses\n",
    "occurrence_infected = (df_counts.loc[infected_ips] > 0).mean()\n",
    "occurrence_non_infected = (df_counts.loc[non_infected_ips] > 0).mean()\n",
    "total_count_infected = df_counts.loc[infected_ips].sum()\n",
    "total_count_non_infected = df_counts.loc[non_infected_ips].sum()\n",
    "\n",
    "# Filter state-symbol combinations that meet the conditions\n",
    "significant_combinations = occurrence_infected[(occurrence_infected >= 1) & (occurrence_non_infected < 0.01)]\n",
    "\n",
    "# Print the significant combinations along with their occurrence percentages and total counts\n",
    "print(\"Significant state-symbol combinations:\")\n",
    "for combination, occurrence in significant_combinations.iteritems():\n",
    "    count_infected = total_count_infected[combination]\n",
    "    count_non_infected = total_count_non_infected[combination]\n",
    "    print(\"Combination:\", combination)\n",
    "    print(\"Occurrence in infected IP addresses: {:.2f}%\".format(occurrence * 100))\n",
    "    print(\"Occurrence in non-infected IP addresses: {:.2f}%\".format(occurrence_non_infected[combination] * 100))\n",
    "    print()"
   ]
  },
  {
   "cell_type": "markdown",
   "source": [
    "### 4b. Analysis and answers to the questions."
   ],
   "metadata": {
    "collapsed": false
   }
  },
  {
   "attachments": {},
   "cell_type": "markdown",
   "metadata": {},
   "source": [
    "## 5. Bonus Task 1/2 A4 (5 Points)"
   ]
  },
  {
   "attachments": {},
   "cell_type": "markdown",
   "metadata": {},
   "source": [
    "### 5a. Provide implementation and analysis."
   ]
  },
  {
   "cell_type": "code",
   "execution_count": 123,
   "metadata": {},
   "outputs": [
    {
     "ename": "KeyError",
     "evalue": "'147.32.87.16'",
     "output_type": "error",
     "traceback": [
      "\u001B[1;31m---------------------------------------------------------------------------\u001B[0m",
      "\u001B[1;31mKeyError\u001B[0m                                  Traceback (most recent call last)",
      "File \u001B[1;32mc:\\python39\\lib\\site-packages\\pandas\\core\\indexes\\base.py:3802\u001B[0m, in \u001B[0;36mIndex.get_loc\u001B[1;34m(self, key, method, tolerance)\u001B[0m\n\u001B[0;32m   3801\u001B[0m \u001B[38;5;28;01mtry\u001B[39;00m:\n\u001B[1;32m-> 3802\u001B[0m     \u001B[38;5;28;01mreturn\u001B[39;00m \u001B[38;5;28;43mself\u001B[39;49m\u001B[38;5;241;43m.\u001B[39;49m\u001B[43m_engine\u001B[49m\u001B[38;5;241;43m.\u001B[39;49m\u001B[43mget_loc\u001B[49m\u001B[43m(\u001B[49m\u001B[43mcasted_key\u001B[49m\u001B[43m)\u001B[49m\n\u001B[0;32m   3803\u001B[0m \u001B[38;5;28;01mexcept\u001B[39;00m \u001B[38;5;167;01mKeyError\u001B[39;00m \u001B[38;5;28;01mas\u001B[39;00m err:\n",
      "File \u001B[1;32mc:\\python39\\lib\\site-packages\\pandas\\_libs\\index.pyx:138\u001B[0m, in \u001B[0;36mpandas._libs.index.IndexEngine.get_loc\u001B[1;34m()\u001B[0m\n",
      "File \u001B[1;32mc:\\python39\\lib\\site-packages\\pandas\\_libs\\index.pyx:165\u001B[0m, in \u001B[0;36mpandas._libs.index.IndexEngine.get_loc\u001B[1;34m()\u001B[0m\n",
      "File \u001B[1;32mpandas\\_libs\\hashtable_class_helper.pxi:5745\u001B[0m, in \u001B[0;36mpandas._libs.hashtable.PyObjectHashTable.get_item\u001B[1;34m()\u001B[0m\n",
      "File \u001B[1;32mpandas\\_libs\\hashtable_class_helper.pxi:5753\u001B[0m, in \u001B[0;36mpandas._libs.hashtable.PyObjectHashTable.get_item\u001B[1;34m()\u001B[0m\n",
      "\u001B[1;31mKeyError\u001B[0m: '147.32.87.16'",
      "\nThe above exception was the direct cause of the following exception:\n",
      "\u001B[1;31mKeyError\u001B[0m                                  Traceback (most recent call last)",
      "Cell \u001B[1;32mIn[123], line 1\u001B[0m\n\u001B[1;32m----> 1\u001B[0m \u001B[38;5;28mprint\u001B[39m(np\u001B[38;5;241m.\u001B[39mwhere(\u001B[43mip_occurrences\u001B[49m\u001B[38;5;241;43m.\u001B[39;49m\u001B[43mloc\u001B[49m\u001B[43m[\u001B[49m\u001B[38;5;124;43m'\u001B[39;49m\u001B[38;5;124;43m147.32.87.16\u001B[39;49m\u001B[38;5;124;43m'\u001B[39;49m\u001B[43m]\u001B[49m\u001B[38;5;241m.\u001B[39mto_numpy() \u001B[38;5;241m==\u001B[39m (\u001B[38;5;28mmax\u001B[39m(ip_occurrences\u001B[38;5;241m.\u001B[39mloc[\u001B[38;5;124m'\u001B[39m\u001B[38;5;124m147.32.87.16\u001B[39m\u001B[38;5;124m'\u001B[39m]))))\n\u001B[0;32m      2\u001B[0m \u001B[38;5;28mprint\u001B[39m(botnet_occurrences\u001B[38;5;241m.\u001B[39mto_numpy()[\u001B[38;5;241m20\u001B[39m])\n",
      "File \u001B[1;32mc:\\python39\\lib\\site-packages\\pandas\\core\\indexing.py:1073\u001B[0m, in \u001B[0;36m_LocationIndexer.__getitem__\u001B[1;34m(self, key)\u001B[0m\n\u001B[0;32m   1070\u001B[0m axis \u001B[38;5;241m=\u001B[39m \u001B[38;5;28mself\u001B[39m\u001B[38;5;241m.\u001B[39maxis \u001B[38;5;129;01mor\u001B[39;00m \u001B[38;5;241m0\u001B[39m\n\u001B[0;32m   1072\u001B[0m maybe_callable \u001B[38;5;241m=\u001B[39m com\u001B[38;5;241m.\u001B[39mapply_if_callable(key, \u001B[38;5;28mself\u001B[39m\u001B[38;5;241m.\u001B[39mobj)\n\u001B[1;32m-> 1073\u001B[0m \u001B[38;5;28;01mreturn\u001B[39;00m \u001B[38;5;28;43mself\u001B[39;49m\u001B[38;5;241;43m.\u001B[39;49m\u001B[43m_getitem_axis\u001B[49m\u001B[43m(\u001B[49m\u001B[43mmaybe_callable\u001B[49m\u001B[43m,\u001B[49m\u001B[43m \u001B[49m\u001B[43maxis\u001B[49m\u001B[38;5;241;43m=\u001B[39;49m\u001B[43maxis\u001B[49m\u001B[43m)\u001B[49m\n",
      "File \u001B[1;32mc:\\python39\\lib\\site-packages\\pandas\\core\\indexing.py:1312\u001B[0m, in \u001B[0;36m_LocIndexer._getitem_axis\u001B[1;34m(self, key, axis)\u001B[0m\n\u001B[0;32m   1310\u001B[0m \u001B[38;5;66;03m# fall thru to straight lookup\u001B[39;00m\n\u001B[0;32m   1311\u001B[0m \u001B[38;5;28mself\u001B[39m\u001B[38;5;241m.\u001B[39m_validate_key(key, axis)\n\u001B[1;32m-> 1312\u001B[0m \u001B[38;5;28;01mreturn\u001B[39;00m \u001B[38;5;28;43mself\u001B[39;49m\u001B[38;5;241;43m.\u001B[39;49m\u001B[43m_get_label\u001B[49m\u001B[43m(\u001B[49m\u001B[43mkey\u001B[49m\u001B[43m,\u001B[49m\u001B[43m \u001B[49m\u001B[43maxis\u001B[49m\u001B[38;5;241;43m=\u001B[39;49m\u001B[43maxis\u001B[49m\u001B[43m)\u001B[49m\n",
      "File \u001B[1;32mc:\\python39\\lib\\site-packages\\pandas\\core\\indexing.py:1260\u001B[0m, in \u001B[0;36m_LocIndexer._get_label\u001B[1;34m(self, label, axis)\u001B[0m\n\u001B[0;32m   1258\u001B[0m \u001B[38;5;28;01mdef\u001B[39;00m \u001B[38;5;21m_get_label\u001B[39m(\u001B[38;5;28mself\u001B[39m, label, axis: \u001B[38;5;28mint\u001B[39m):\n\u001B[0;32m   1259\u001B[0m     \u001B[38;5;66;03m# GH#5567 this will fail if the label is not present in the axis.\u001B[39;00m\n\u001B[1;32m-> 1260\u001B[0m     \u001B[38;5;28;01mreturn\u001B[39;00m \u001B[38;5;28;43mself\u001B[39;49m\u001B[38;5;241;43m.\u001B[39;49m\u001B[43mobj\u001B[49m\u001B[38;5;241;43m.\u001B[39;49m\u001B[43mxs\u001B[49m\u001B[43m(\u001B[49m\u001B[43mlabel\u001B[49m\u001B[43m,\u001B[49m\u001B[43m \u001B[49m\u001B[43maxis\u001B[49m\u001B[38;5;241;43m=\u001B[39;49m\u001B[43maxis\u001B[49m\u001B[43m)\u001B[49m\n",
      "File \u001B[1;32mc:\\python39\\lib\\site-packages\\pandas\\core\\generic.py:4056\u001B[0m, in \u001B[0;36mNDFrame.xs\u001B[1;34m(self, key, axis, level, drop_level)\u001B[0m\n\u001B[0;32m   4054\u001B[0m             new_index \u001B[38;5;241m=\u001B[39m index[loc]\n\u001B[0;32m   4055\u001B[0m \u001B[38;5;28;01melse\u001B[39;00m:\n\u001B[1;32m-> 4056\u001B[0m     loc \u001B[38;5;241m=\u001B[39m \u001B[43mindex\u001B[49m\u001B[38;5;241;43m.\u001B[39;49m\u001B[43mget_loc\u001B[49m\u001B[43m(\u001B[49m\u001B[43mkey\u001B[49m\u001B[43m)\u001B[49m\n\u001B[0;32m   4058\u001B[0m     \u001B[38;5;28;01mif\u001B[39;00m \u001B[38;5;28misinstance\u001B[39m(loc, np\u001B[38;5;241m.\u001B[39mndarray):\n\u001B[0;32m   4059\u001B[0m         \u001B[38;5;28;01mif\u001B[39;00m loc\u001B[38;5;241m.\u001B[39mdtype \u001B[38;5;241m==\u001B[39m np\u001B[38;5;241m.\u001B[39mbool_:\n",
      "File \u001B[1;32mc:\\python39\\lib\\site-packages\\pandas\\core\\indexes\\base.py:3804\u001B[0m, in \u001B[0;36mIndex.get_loc\u001B[1;34m(self, key, method, tolerance)\u001B[0m\n\u001B[0;32m   3802\u001B[0m     \u001B[38;5;28;01mreturn\u001B[39;00m \u001B[38;5;28mself\u001B[39m\u001B[38;5;241m.\u001B[39m_engine\u001B[38;5;241m.\u001B[39mget_loc(casted_key)\n\u001B[0;32m   3803\u001B[0m \u001B[38;5;28;01mexcept\u001B[39;00m \u001B[38;5;167;01mKeyError\u001B[39;00m \u001B[38;5;28;01mas\u001B[39;00m err:\n\u001B[1;32m-> 3804\u001B[0m     \u001B[38;5;28;01mraise\u001B[39;00m \u001B[38;5;167;01mKeyError\u001B[39;00m(key) \u001B[38;5;28;01mfrom\u001B[39;00m \u001B[38;5;21;01merr\u001B[39;00m\n\u001B[0;32m   3805\u001B[0m \u001B[38;5;28;01mexcept\u001B[39;00m \u001B[38;5;167;01mTypeError\u001B[39;00m:\n\u001B[0;32m   3806\u001B[0m     \u001B[38;5;66;03m# If we have a listlike key, _check_indexing_error will raise\u001B[39;00m\n\u001B[0;32m   3807\u001B[0m     \u001B[38;5;66;03m#  InvalidIndexError. Otherwise we fall through and re-raise\u001B[39;00m\n\u001B[0;32m   3808\u001B[0m     \u001B[38;5;66;03m#  the TypeError.\u001B[39;00m\n\u001B[0;32m   3809\u001B[0m     \u001B[38;5;28mself\u001B[39m\u001B[38;5;241m.\u001B[39m_check_indexing_error(key)\n",
      "\u001B[1;31mKeyError\u001B[0m: '147.32.87.16'"
     ]
    }
   ],
   "source": []
  },
  {
   "cell_type": "code",
   "execution_count": null,
   "metadata": {
    "collapsed": false
   },
   "outputs": [],
   "source": []
  }
 ],
 "metadata": {
  "kernelspec": {
   "display_name": "Python 3 (ipykernel)",
   "language": "python",
   "name": "python3"
  },
  "language_info": {
   "codemirror_mode": {
    "name": "ipython",
    "version": 3
   },
   "file_extension": ".py",
   "mimetype": "text/x-python",
   "name": "python",
   "nbconvert_exporter": "python",
   "pygments_lexer": "ipython3",
   "version": "3.11.3"
  }
 },
 "nbformat": 4,
 "nbformat_minor": 2
}
