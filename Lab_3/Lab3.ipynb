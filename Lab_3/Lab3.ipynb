{
 "cells": [
  {
   "cell_type": "markdown",
   "metadata": {},
   "source": [
    "# CS4035 - Cyber Data Analytics\n",
    "## Lab 3 "
   ]
  },
  {
   "cell_type": "markdown",
   "metadata": {},
   "source": [
    "### Submit on brightspace (zip file with the name Group_xx.zip)\n",
    "(i) This jupyter file completed with code, plots, figures and report for each question. Additional plots and figures can be created for explanation before the end of each main question. Lab 3 contains 4 main questions + 1 bonus. Write the code or explanation below each sub question. For the explantions, include what you would normally include in the report for this lab assignment, for example data pre-processing, hypothesis tested, approach, results, etc.\n",
    "(ii) A PDF or a Word report for the assignment. Create a report from the plots, figures, tables and the write-up that you provide in this jupyter file. The report will be used as a proof for page limit. \n",
    "(iii) The libraries needed to run this file. \n",
    "\n",
    "Your peers should be able to use the readme section for instructions and be able to run this file. "
   ]
  },
  {
   "cell_type": "markdown",
   "metadata": {},
   "source": [
    "## Group Number : 42"
   ]
  },
  {
   "cell_type": "markdown",
   "metadata": {},
   "source": [
    "## Student 1 \n",
    "### Name : Otte van Dam\n",
    "### ID : 5096790"
   ]
  },
  {
   "cell_type": "markdown",
   "metadata": {},
   "source": [
    "## Student 2\n",
    "### Name : Suhaib Basir\n",
    "### ID : 5059151"
   ]
  },
  {
   "cell_type": "markdown",
   "metadata": {},
   "source": [
    "## Readme - Provide instructions - libraries used, location of the data file, etc. Keep it short. Remember your peers will not debug your code and should be able to reproduce the exact output you provide."
   ]
  },
  {
   "cell_type": "code",
   "execution_count": 3,
   "metadata": {
    "collapsed": false
   },
   "outputs": [
    {
     "name": "stdout",
     "output_type": "stream",
     "text": [
      "Word count: 326\n"
     ]
    }
   ],
   "source": [
    "import io\n",
    "import numpy as np\n",
    "import pandas as pd\n",
    "import matplotlib.pyplot as plt\n",
    "import nbformat\n",
    "from tqdm import tqdm\n",
    "\n",
    "nb = nbformat.read(\"Lab3.ipynb\", nbformat.NO_CONVERT)\n",
    "word_count = 0\n",
    "for cell in nb.cells:\n",
    "    if cell.cell_type == \"markdown\":\n",
    "        word_count += len(cell['source'].replace('#', '').lstrip().split(' '))\n",
    "\n",
    "print(\"Word count:\", word_count)"
   ]
  },
  {
   "cell_type": "markdown",
   "metadata": {},
   "source": [
    "## 1. Familiarization and discretization task – 1 A4 (5 Points)"
   ]
  },
  {
   "cell_type": "code",
   "execution_count": 4,
   "metadata": {
    "collapsed": false
   },
   "outputs": [
    {
     "name": "stdout",
     "output_type": "stream",
     "text": [
      "['0' '192' nan '3' '2' '1']\n",
      "                    StartTime         Dur Proto         SrcAddr  Sport    Dir  \\\n",
      "0  2011/08/18 10:21:46.633335    1.060248   tcp    93.45.239.29   1611     ->   \n",
      "1  2011/08/18 10:19:49.027650  279.349152   tcp  62.240.166.118   1031    <?>   \n",
      "2  2011/08/18 10:22:07.160628  166.390015   tcp   147.32.86.148  58067     ->   \n",
      "3  2011/08/18 10:26:02.052163    1.187083   tcp     147.32.3.51   3130     ->   \n",
      "4  2011/08/18 10:26:52.226748    0.980571   tcp   88.212.37.169   3134     ->   \n",
      "\n",
      "          DstAddr  Dport    State sTos dTos  TotPkts  TotBytes  SrcBytes  \\\n",
      "0   147.32.84.118   6881     S_RA    0    0        4       252       132   \n",
      "1   147.32.84.229  13363  SRPA_PA    0    0       15      1318       955   \n",
      "2  66.235.132.232     80    SR_SA    0    0        3       212       134   \n",
      "3    147.32.84.46  10010     S_RA    0    0        4       244       124   \n",
      "4   147.32.84.118   6881     S_RA    0    0        4       244       124   \n",
      "\n",
      "                             Label  \n",
      "0      flow=Background-TCP-Attempt  \n",
      "1      flow=Background-TCP-Attempt  \n",
      "2  flow=Background-TCP-Established  \n",
      "3      flow=Background-TCP-Attempt  \n",
      "4      flow=Background-TCP-Attempt  \n"
     ]
    }
   ],
   "source": [
    "# Specify the columns you want to read as strings\n",
    "string_columns = ['sTos', 'dTos']\n",
    "\n",
    "data = \"dataset_lab3/dataset_10/capture20110818.binetflow\"\n",
    "df = pd.read_csv(data)\n",
    "df1 = pd.read_csv(data, dtype={col: str for col in string_columns})\n",
    "print(df1['sTos'].unique())\n",
    "print(df1.iloc[0:5])\n",
    "# display(type(df1['sTos'][0]))"
   ]
  },
  {
   "cell_type": "code",
   "execution_count": 9,
   "metadata": {
    "collapsed": false
   },
   "outputs": [
    {
     "name": "stdout",
     "output_type": "stream",
     "text": [
      "Most occurring value in 'SrcAddr': 147.32.84.138  with  211967  occurences, out of  1309791  occurences in total\n"
     ]
    }
   ],
   "source": [
    "# Use the value_counts() function to count the occurrences of each value in the 'SrcAddr' column\n",
    "srcaddr_counts = df1['SrcAddr'].value_counts()\n",
    "\n",
    "# Get the most occurring value by accessing the first element of the resulting series\n",
    "most_common_value = srcaddr_counts.index[0]\n",
    "\n",
    "# Print the most occurring value\n",
    "print(\"Most occurring value in 'SrcAddr':\", most_common_value, ' with ', srcaddr_counts[0], ' occurences, out of ', len(df1), ' occurences in total')\n",
    "\n",
    "# Discretize numeric columns using percentiles\n",
    "for column in df1.columns:\n",
    "    if df1[column].dtype == np.float64 or df1[column].dtype == np.int64:\n",
    "        df1[column] = pd.qcut(df1[column], q=10, labels=False, duplicates='drop')"
   ]
  },
  {
   "cell_type": "markdown",
   "metadata": {},
   "source": [
    "### 1a. Plot visualizations - Select and visualize two features for modeling the behavior of the infected host."
   ]
  },
  {
   "cell_type": "code",
   "execution_count": 10,
   "metadata": {
    "pycharm": {
     "is_executing": true
    }
   },
   "outputs": [
    {
     "name": "stdout",
     "output_type": "stream",
     "text": [
      "calculated for 147\n",
      "calculated for other\n",
      "Column          Average (147)   Std Deviation (147)  Average (Other) Std Deviation (Other)\n",
      "------------------------------------------------------------------------------------------\n",
      "Dur             0.95            0.90                 4.11            2.67                \n",
      "TotPkts         0.00            0.05                 0.68            1.06                \n",
      "TotBytes        0.01            0.17                 3.22            2.39                \n",
      "SrcBytes        1.00            0.11                 3.13            2.46                \n"
     ]
    }
   ],
   "source": [
    "# Filter columns that are either integers or floats\n",
    "numeric_cols_147 = df1[df1['SrcAddr'] == '147.32.84.138'].select_dtypes(include=['int', 'float'])\n",
    "numeric_cols_other = df1[df1['SrcAddr'] != '147.32.84.138'].select_dtypes(include=['int', 'float'])\n",
    "\n",
    "# Calculate the average and standard deviation for df_srcaddr_147\n",
    "avg_values_147 = numeric_cols_147.mean()\n",
    "std_values_147 = numeric_cols_147.std()\n",
    "print(f'calculated for 147')\n",
    "\n",
    "# Calculate the average and standard deviation for df_srcaddr_other\n",
    "avg_values_other = numeric_cols_other.mean()\n",
    "std_values_other = numeric_cols_other.std()\n",
    "print('calculated for other')\n",
    "\n",
    "# Print the average and standard deviation side by side\n",
    "print(f\"{'Column':<15} {'Average (147)':<15} {'Std Deviation (147)':<20} {'Average (Other)':<15} {'Std Deviation (Other)':<20}\")\n",
    "print(\"-\" * 90)\n",
    "for column in avg_values_147.index:\n",
    "    avg_147 = avg_values_147[column]\n",
    "    std_147 = std_values_147[column]\n",
    "    avg_other = avg_values_other[column]\n",
    "    std_other = std_values_other[column]\n",
    "    print(f\"{column:<15} {avg_147:<15.2f} {std_147:<20.2f} {avg_other:<15.2f} {std_other:<20.2f}\")"
   ]
  },
  {
   "cell_type": "code",
   "execution_count": 17,
   "metadata": {},
   "outputs": [
    {
     "data": {
      "image/png": "[encoded data removed]",
      "text/plain": [
       "<Figure size 1500x800 with 2 Axes>"
      ]
     },
     "metadata": {},
     "output_type": "display_data"
    }
   ],
   "source": [
    "import matplotlib.pyplot as plt\n",
    "import pandas as pd\n",
    "\n",
    "# Let's start by visualizing the 'TotBytes' and 'TotPkts' features\n",
    "df1[['TotBytes', 'TotPkts']].hist(bins=10, figsize=(15, 8))\n",
    "plt.show()\n",
    "\n",
    "# Combine the two discretized features into a single feature\n",
    "df1['combined_feature'] = df1['TotBytes'].astype(str) + '_' + df1['TotPkts'].astype(str)"
   ]
  },
  {
   "cell_type": "markdown",
   "metadata": {},
   "source": [
    "### 1b. Discretize selected features"
   ]
  },
  {
   "cell_type": "code",
   "execution_count": null,
   "metadata": {
    "pycharm": {
     "is_executing": true
    }
   },
   "outputs": [],
   "source": []
  },
  {
   "cell_type": "markdown",
   "metadata": {},
   "source": [
    "### 1c. Answers and explanation"
   ]
  },
  {
   "cell_type": "code",
   "execution_count": null,
   "metadata": {
    "pycharm": {
     "is_executing": true
    }
   },
   "outputs": [],
   "source": []
  },
  {
   "cell_type": "markdown",
   "metadata": {},
   "source": [
    "## 2. Sketching task – 1/2 A4 (Individual, 10 Points)"
   ]
  },
  {
   "cell_type": "markdown",
   "metadata": {},
   "source": [
    "### 2a. COUNT-MIN sketch\n"
   ]
  },
  {
   "cell_type": "code",
   "execution_count": null,
   "metadata": {
    "pycharm": {
     "is_executing": true
    }
   },
   "outputs": [],
   "source": []
  },
  {
   "cell_type": "markdown",
   "metadata": {},
   "source": [
    "### 2b. Analysis and answers to the questions"
   ]
  },
  {
   "cell_type": "code",
   "execution_count": null,
   "metadata": {
    "pycharm": {
     "is_executing": true
    }
   },
   "outputs": [],
   "source": []
  },
  {
   "cell_type": "markdown",
   "metadata": {},
   "source": [
    "## 3. Min-wise locality sensitive hashing task – 1/2 A4 (Individual, 10 Points)"
   ]
  },
  {
   "cell_type": "markdown",
   "metadata": {},
   "source": [
    "### 3a. Implementation"
   ]
  },
  {
   "cell_type": "code",
   "execution_count": null,
   "metadata": {
    "pycharm": {
     "is_executing": true
    }
   },
   "outputs": [],
   "source": []
  },
  {
   "cell_type": "markdown",
   "metadata": {},
   "source": [
    "### 3b. Analysis and answers to the questions"
   ]
  },
  {
   "cell_type": "code",
   "execution_count": null,
   "metadata": {
    "pycharm": {
     "is_executing": true
    }
   },
   "outputs": [],
   "source": []
  },
  {
   "cell_type": "markdown",
   "metadata": {},
   "source": [
    "## 4.Botnet profiling and fingerprinting task – 1 A4 (5 Points)"
   ]
  },
  {
   "cell_type": "markdown",
   "metadata": {},
   "source": [
    "### 4a. Learn a sequential model, profiling and fingerprinting"
   ]
  },
  {
   "cell_type": "code",
   "execution_count": null,
   "metadata": {
    "pycharm": {
     "is_executing": true
    }
   },
   "outputs": [],
   "source": []
  },
  {
   "cell_type": "markdown",
   "metadata": {},
   "source": [
    "### 4b. Analysis and answers to the questions."
   ]
  },
  {
   "cell_type": "code",
   "execution_count": null,
   "metadata": {
    "pycharm": {
     "is_executing": true
    }
   },
   "outputs": [],
   "source": []
  },
  {
   "cell_type": "markdown",
   "metadata": {},
   "source": [
    "## 5. Bonus Task 1/2 A4 (5 Points)"
   ]
  },
  {
   "cell_type": "markdown",
   "metadata": {},
   "source": [
    "### 5a. Provide implementation and analysis."
   ]
  },
  {
   "cell_type": "code",
   "execution_count": null,
   "metadata": {
    "pycharm": {
     "is_executing": true
    }
   },
   "outputs": [],
   "source": []
  }
 ],
 "metadata": {
  "kernelspec": {
   "display_name": "Python 3 (ipykernel)",
   "language": "python",
   "name": "python3"
  },
  "language_info": {
   "codemirror_mode": {
    "name": "ipython",
    "version": 3
   },
   "file_extension": ".py",
   "mimetype": "text/x-python",
   "name": "python",
   "nbconvert_exporter": "python",
   "pygments_lexer": "ipython3",
   "version": "3.11.3"
  }
 },
 "nbformat": 4,
 "nbformat_minor": 2
}
