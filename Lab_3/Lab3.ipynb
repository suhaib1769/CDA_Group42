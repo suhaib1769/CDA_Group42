{
 "cells": [
  {
   "attachments": {},
   "cell_type": "markdown",
   "metadata": {},
   "source": [
    "# CS4035 - Cyber Data Analytics\n",
    "## Lab 3 "
   ]
  },
  {
   "attachments": {},
   "cell_type": "markdown",
   "metadata": {},
   "source": [
    "### Submit on brightspace (zip file with the name Group_xx.zip)\n",
    "(i) This jupyter file completed with code, plots, figures and report for each question. Additional plots and figures can be created for explanation before the end of each main question. Lab 3 contains 4 main questions + 1 bonus. Write the code or explanation below each sub question. For the explantions, include what you would normally include in the report for this lab assignment, for example data pre-processing, hypothesis tested, approach, results, etc.\n",
    "(ii) A PDF or a Word report for the assignment. Create a report from the plots, figures, tables and the write-up that you provide in this jupyter file. The report will be used as a proof for page limit. \n",
    "(iii) The libraries needed to run this file. \n",
    "\n",
    "Your peers should be able to use the readme section for instructions and be able to run this file. "
   ]
  },
  {
   "attachments": {},
   "cell_type": "markdown",
   "metadata": {},
   "source": [
    "## Group Number : 42"
   ]
  },
  {
   "attachments": {},
   "cell_type": "markdown",
   "metadata": {},
   "source": [
    "## Student 1 \n",
    "### Name : Otte van Dam\n",
    "### ID : 5096790"
   ]
  },
  {
   "attachments": {},
   "cell_type": "markdown",
   "metadata": {},
   "source": [
    "## Student 2\n",
    "### Name : Suhaib Basir\n",
    "### ID : 5059151"
   ]
  },
  {
   "attachments": {},
   "cell_type": "markdown",
   "metadata": {},
   "source": [
    "## Readme - Provide instructions - libraries used, location of the data file, etc. Keep it short. Remember your peers will not debug your code and should be able to reproduce the exact output you provide."
   ]
  },
  {
   "cell_type": "code",
   "execution_count": 123,
   "metadata": {
    "collapsed": false
   },
   "outputs": [
    {
     "name": "stdout",
     "output_type": "stream",
     "text": [
      "Word count: 332\n"
     ]
    }
   ],
   "source": [
    "import io\n",
    "import numpy as np\n",
    "import pandas as pd\n",
    "import matplotlib.pyplot as plt\n",
    "import nbformat\n",
    "from tqdm import tqdm\n",
    "from flexfringe import FlexFringe\n",
    "from sklearn.metrics.pairwise import cosine_similarity\n",
    "\n",
    "\n",
    "\n",
    "nb = nbformat.read(\"Lab3.ipynb\", nbformat.NO_CONVERT)\n",
    "word_count = 0\n",
    "for cell in nb.cells:\n",
    "    if cell.cell_type == \"markdown\":\n",
    "        word_count += len(cell['source'].replace('#', '').lstrip().split(' '))\n",
    "\n",
    "print(\"Word count:\", word_count)"
   ]
  },
  {
   "attachments": {},
   "cell_type": "markdown",
   "metadata": {},
   "source": [
    "## 1. Familiarization and discretization task – 1 A4 (5 Points)"
   ]
  },
  {
   "cell_type": "code",
   "execution_count": 124,
   "metadata": {
    "collapsed": false
   },
   "outputs": [
    {
     "name": "stdout",
     "output_type": "stream",
     "text": [
      "[    4    15     3 ...   762 10581  1452]\n",
      "3190\n",
      "                    StartTime         Dur Proto         SrcAddr  Sport    Dir  \\\n",
      "0  2011/08/18 10:21:46.633335    1.060248   tcp    93.45.239.29   1611     ->   \n",
      "1  2011/08/18 10:19:49.027650  279.349152   tcp  62.240.166.118   1031    <?>   \n",
      "2  2011/08/18 10:22:07.160628  166.390015   tcp   147.32.86.148  58067     ->   \n",
      "3  2011/08/18 10:26:02.052163    1.187083   tcp     147.32.3.51   3130     ->   \n",
      "4  2011/08/18 10:26:52.226748    0.980571   tcp   88.212.37.169   3134     ->   \n",
      "\n",
      "          DstAddr  Dport    State sTos dTos  TotPkts  TotBytes  SrcBytes  \\\n",
      "0   147.32.84.118   6881     S_RA    0    0        4       252       132   \n",
      "1   147.32.84.229  13363  SRPA_PA    0    0       15      1318       955   \n",
      "2  66.235.132.232     80    SR_SA    0    0        3       212       134   \n",
      "3    147.32.84.46  10010     S_RA    0    0        4       244       124   \n",
      "4   147.32.84.118   6881     S_RA    0    0        4       244       124   \n",
      "\n",
      "                             Label  \n",
      "0      flow=Background-TCP-Attempt  \n",
      "1      flow=Background-TCP-Attempt  \n",
      "2  flow=Background-TCP-Established  \n",
      "3      flow=Background-TCP-Attempt  \n",
      "4      flow=Background-TCP-Attempt  \n"
     ]
    }
   ],
   "source": [
    "# Specify the columns you want to read as strings\n",
    "string_columns = ['sTos', 'dTos']\n",
    "\n",
    "data = \"dataset_lab3/dataset_10/capture20110818.binetflow\"\n",
    "df = pd.read_csv(data)\n",
    "df1 = pd.read_csv(data, dtype={col: str for col in string_columns})\n",
    "print(df1['TotPkts'].unique())\n",
    "print(len(df1['TotPkts'].unique()))\n",
    "print(df1.iloc[0:5])\n",
    "\n",
    "infected_hosts = ['147.32.84.165', '147.32.84.191', '147.32.84.193','147.32.84.204', '147.32.84.205', '147.32.84.206','147.32.84.207', '147.32.84.208', '147.32.84.209']"
   ]
  },
  {
   "cell_type": "code",
   "execution_count": 125,
   "metadata": {
    "collapsed": false
   },
   "outputs": [
    {
     "name": "stdout",
     "output_type": "stream",
     "text": [
      "Most occurring value in 'SrcAddr': 147.32.84.138  with  211967  occurences, out of  1309791  occurences in total\n",
      "[    4    15     3 ...   762 10581  1452]\n",
      "3190\n",
      "95967 1213824 1309791\n"
     ]
    },
    {
     "name": "stderr",
     "output_type": "stream",
     "text": [
      "c:\\python39\\lib\\site-packages\\numpy\\lib\\function_base.py:4573: RuntimeWarning: invalid value encountered in subtract\n",
      "  diff_b_a = subtract(b, a)\n"
     ]
    },
    {
     "name": "stdout",
     "output_type": "stream",
     "text": [
      "Column 'Dur' has 19 unique values\n",
      "[13 16 15 14 17  0 18  9  1 11  8  3  2 12  7  4 10  5  6]\n",
      "Column 'TotPkts' has 9 unique values\n",
      "[2 6 1 4 0 3 7 8 5]\n",
      "Column 'TotBytes' has 17 unique values\n",
      "[ 6 12  3  5  9  2  0  7 13  8 11 14 16  1 15 10  4]\n",
      "Column 'SrcBytes' has 18 unique values\n",
      "[ 8 13  9 10  0 15  3 12 14 16 17 11  2  4  5  1  7  6]\n",
      "Column 'bytes_per_second' has 19 unique values\n",
      "[ 4  1  3  2  0 18  9 10  6 13  7  8  5 11 12 14 16 15 17]\n"
     ]
    }
   ],
   "source": [
    "df1 = pd.read_csv(data, dtype={col: str for col in string_columns})\n",
    "df1['bytes_per_second'] = df1['TotBytes'] / df1['Dur']\n",
    "\n",
    "# Use the value_counts() function to count the occurrences of each value in the 'SrcAddr' column\n",
    "srcaddr_counts = df1['SrcAddr'].value_counts()\n",
    "\n",
    "# Get the most occurring value by accessing the first element of the resulting series\n",
    "most_common_value = srcaddr_counts.index[0]\n",
    "\n",
    "# Print the most occurring value\n",
    "print(\"Most occurring value in 'SrcAddr':\", most_common_value, ' with ', srcaddr_counts[0], ' occurences, out of ', len(df1), ' occurences in total')\n",
    "\n",
    "print(df1['TotPkts'].unique())\n",
    "print(len(df1['TotPkts'].unique()))\n",
    "\n",
    "df1_infected = df1[df1['SrcAddr'].isin(infected_hosts)]\n",
    "df1_not_infected = df1[~df1['SrcAddr'].isin(infected_hosts)]\n",
    "\n",
    "print(len(df1_infected), len(df1_not_infected), len(df1))\n",
    "\n",
    "# Discretize numeric columns using percentiles\n",
    "for column in df1.columns:\n",
    "    if df1[column].dtype == np.float64 or df1[column].dtype == np.int64:\n",
    "        df1[column] = pd.qcut(df1[column], q=20, labels=False, duplicates='drop')\n",
    "\n",
    "# print lens of all the columns\n",
    "for column in df1.columns:\n",
    "    if df1[column].dtype == np.float64 or df1[column].dtype == np.int64:\n",
    "        print(\"Column '{}' has {} unique values\".format(column, len(df1[column].unique())))\n",
    "        print(df1[column].unique())\n"
   ]
  },
  {
   "attachments": {},
   "cell_type": "markdown",
   "metadata": {},
   "source": [
    "### 1a. Plot visualizations - Select and visualize two features for modeling the behavior of the infected host."
   ]
  },
  {
   "cell_type": "code",
   "execution_count": 126,
   "metadata": {},
   "outputs": [
    {
     "name": "stdout",
     "output_type": "stream",
     "text": [
      "calculated for 147\n",
      "calculated for other\n",
      "Column          Average (147)   Std Deviation (147)  Average (Other) Std Deviation (Other)\n",
      "------------------------------------------------------------------------------------------\n",
      "Dur             1.68            5.06                 8.60            5.66                \n",
      "TotPkts         0.29            1.33                 1.74            2.63                \n",
      "TotBytes        11.31           1.07                 7.54            4.89                \n",
      "SrcBytes        13.32           1.14                 7.93            5.09                \n",
      "bytes_per_second 16.39           4.86                 9.39            5.66                \n"
     ]
    }
   ],
   "source": [
    "# Filter columns that are either integers or floats\n",
    "numeric_cols_infected = df1[df1['SrcAddr'] == infected_hosts[1]].select_dtypes(include=['int', 'float'])\n",
    "numeric_cols_other = df1[df1['SrcAddr'] != infected_hosts[1]].select_dtypes(include=['int', 'float'])\n",
    "\n",
    "# Calculate the average and standard deviation for df_srcaddr_147\n",
    "avg_values_147 = numeric_cols_infected.mean()\n",
    "std_values_147 = numeric_cols_infected.std()\n",
    "print(f'calculated for 147')\n",
    "\n",
    "# Calculate the average and standard deviation for df_srcaddr_other\n",
    "avg_values_other = numeric_cols_other.mean()\n",
    "std_values_other = numeric_cols_other.std()\n",
    "print('calculated for other')\n",
    "\n",
    "# Print the average and standard deviation side by side\n",
    "print(f\"{'Column':<15} {'Average (147)':<15} {'Std Deviation (147)':<20} {'Average (Other)':<15} {'Std Deviation (Other)':<20}\")\n",
    "print(\"-\" * 90)\n",
    "for column in avg_values_147.index:\n",
    "    avg_147 = avg_values_147[column]\n",
    "    std_147 = std_values_147[column]\n",
    "    avg_other = avg_values_other[column]\n",
    "    std_other = std_values_other[column]\n",
    "    print(f\"{column:<15} {avg_147:<15.2f} {std_147:<20.2f} {avg_other:<15.2f} {std_other:<20.2f}\")"
   ]
  },
  {
   "cell_type": "code",
   "execution_count": 127,
   "metadata": {},
   "outputs": [
    {
     "data": {
      "text/plain": "<Figure size 1500x800 with 2 Axes>",
      "image/png": "[encoded data removed]"
     },
     "metadata": {},
     "output_type": "display_data"
    },
    {
     "data": {
      "text/plain": "<Figure size 1500x800 with 2 Axes>",
      "image/png": "[encoded data removed]"
     },
     "metadata": {},
     "output_type": "display_data"
    },
    {
     "data": {
      "text/plain": "<Figure size 1500x800 with 1 Axes>",
      "image/png": "[encoded data removed]"
     },
     "metadata": {},
     "output_type": "display_data"
    },
    {
     "data": {
      "text/plain": "<Figure size 1500x800 with 1 Axes>",
      "image/png": "[encoded data removed]"
     },
     "metadata": {},
     "output_type": "display_data"
    }
   ],
   "source": [
    "import matplotlib.pyplot as plt\n",
    "import pandas as pd\n",
    "\n",
    "# df1['bytes_per_second'] = df1['TotBytes'] / df1['Dur']\n",
    "\n",
    "# Let's start by visualizinwg the 'TotBytes' and 'TotPkts' features\n",
    "numeric_cols_infected[['TotBytes', 'Dur']].hist(bins=10, figsize=(15, 8))\n",
    "plt.show()\n",
    "\n",
    "numeric_cols_other[['TotBytes', 'Dur']].hist(bins=10, figsize=(15, 8))\n",
    "plt.show()\n",
    "\n",
    "numeric_cols_infected[['bytes_per_second']].hist(bins=10, figsize=(15, 8))\n",
    "numeric_cols_other[['bytes_per_second']].hist(bins=10, figsize=(15, 8))\n",
    "plt.show()\n"
   ]
  },
  {
   "attachments": {},
   "cell_type": "markdown",
   "metadata": {},
   "source": [
    "### 1b. Discretize selected features"
   ]
  },
  {
   "cell_type": "code",
   "execution_count": 127,
   "metadata": {},
   "outputs": [],
   "source": []
  },
  {
   "attachments": {},
   "cell_type": "markdown",
   "metadata": {},
   "source": [
    "### 1c. Answers and explanation"
   ]
  },
  {
   "cell_type": "code",
   "execution_count": 127,
   "metadata": {},
   "outputs": [],
   "source": []
  },
  {
   "attachments": {},
   "cell_type": "markdown",
   "metadata": {},
   "source": [
    "## 2. Sketching task – 1/2 A4 (Individual, 10 Points)"
   ]
  },
  {
   "attachments": {},
   "cell_type": "markdown",
   "metadata": {},
   "source": [
    "### 2a. COUNT-MIN sketch\n"
   ]
  },
  {
   "cell_type": "code",
   "execution_count": 127,
   "metadata": {},
   "outputs": [],
   "source": []
  },
  {
   "attachments": {},
   "cell_type": "markdown",
   "metadata": {},
   "source": [
    "### 2b. Analysis and answers to the questions"
   ]
  },
  {
   "cell_type": "code",
   "execution_count": 127,
   "metadata": {},
   "outputs": [],
   "source": []
  },
  {
   "attachments": {},
   "cell_type": "markdown",
   "metadata": {},
   "source": [
    "## 3. Min-wise locality sensitive hashing task – 1/2 A4 (Individual, 10 Points)"
   ]
  },
  {
   "attachments": {},
   "cell_type": "markdown",
   "metadata": {},
   "source": [
    "### 3a. Implementation"
   ]
  },
  {
   "cell_type": "code",
   "execution_count": 127,
   "metadata": {},
   "outputs": [],
   "source": []
  },
  {
   "attachments": {},
   "cell_type": "markdown",
   "metadata": {},
   "source": [
    "### 3b. Analysis and answers to the questions"
   ]
  },
  {
   "cell_type": "code",
   "execution_count": 127,
   "metadata": {},
   "outputs": [],
   "source": []
  },
  {
   "attachments": {},
   "cell_type": "markdown",
   "metadata": {},
   "source": [
    "## 4.Botnet profiling and fingerprinting task – 1 A4 (5 Points)"
   ]
  },
  {
   "attachments": {},
   "cell_type": "markdown",
   "metadata": {},
   "source": [
    "### 4a. Learn a sequential model, profiling and fingerprinting"
   ]
  },
  {
   "cell_type": "markdown",
   "source": [
    "### Learn model on infected host"
   ],
   "metadata": {
    "collapsed": false
   }
  },
  {
   "cell_type": "code",
   "execution_count": 128,
   "metadata": {},
   "outputs": [
    {
     "name": "stdout",
     "output_type": "stream",
     "text": [
      "9580\n",
      "Loaded flexfringe\n"
     ]
    }
   ],
   "source": [
    "botnet_ip = infected_hosts[0]\n",
    "df_tracefile = df1[df1['SrcAddr'] == botnet_ip]\n",
    "df_tracefile = df_tracefile.rename(columns={\"bytes_per_second\": \"symb\"})[['symb']]\n",
    "print(len(df_tracefile))\n",
    "flexfringe = FlexFringe(\n",
    "    flexfringe_path=\"flexfringe-x64-windows.exe\",\n",
    "    heuristic_name=\"alergia\",\n",
    "    data_name=\"alergia_data\",\n",
    "    slidingwindow=1,\n",
    "    swsize=10,\n",
    "    sinkson=1,\n",
    "    sinkcount=50,\n",
    "    printblue=1,\n",
    "    printwhite=1,\n",
    ")\n",
    "\n",
    "print('Loaded flexfringe')\n",
    "# Learn a state machine\n",
    "flexfringe.fit(df_tracefile,\n",
    "               sinkson=1,\n",
    "               sinkcount=50)\n",
    "flexfringe.show()"
   ]
  },
  {
   "cell_type": "markdown",
   "source": [
    "### Profiling"
   ],
   "metadata": {
    "collapsed": false
   }
  },
  {
   "cell_type": "code",
   "execution_count": 129,
   "outputs": [
    {
     "name": "stderr",
     "output_type": "stream",
     "text": [
      "100%|██████████| 981/981 [08:14<00:00,  1.99it/s] \n"
     ]
    }
   ],
   "source": [
    "def make_profile(flex_fringe, trace_file):\n",
    "    # Use state machine to predict likelihoods\n",
    "    df = flex_fringe.predict(trace_file)\n",
    "    return df[['abbadingo trace', 'state sequence']]\n",
    "\n",
    "df1_profiling = df1[['SrcAddr', 'bytes_per_second']]\n",
    "df1_profiling = df1_profiling.rename(columns={\"bytes_per_second\": \"symb\"})\n",
    "df1_profiling = df1_profiling.groupby('SrcAddr').filter(lambda x: len(x) >= 20)\n",
    "# Get the unique values in the 'SrcAddr' column\n",
    "unique_src_addrs = df1_profiling['SrcAddr'].unique()\n",
    "src_addr_with_state_trace = []\n",
    "# Iterate over each unique 'SrcAddr' value\n",
    "for src_addr in tqdm(unique_src_addrs, maxinterval=len(unique_src_addrs)):\n",
    "    # Filter the dataframe based on the current 'SrcAddr' value\n",
    "    filtered_df = df1_profiling[df1_profiling['SrcAddr'] == src_addr]\n",
    "    trace_state = make_profile(flexfringe, filtered_df)\n",
    "    src_addr_with_state_trace.append([src_addr, trace_state])"
   ],
   "metadata": {
    "collapsed": false
   }
  },
  {
   "cell_type": "code",
   "execution_count": 177,
   "outputs": [
    {
     "name": "stderr",
     "output_type": "stream",
     "text": [
      "100%|██████████| 981/981 [00:15<00:00, 62.38it/s] \n"
     ]
    }
   ],
   "source": [
    "\n",
    "# Create an empty dictionary to store the counts\n",
    "counts = {}\n",
    "\n",
    "# Iterate over each IP address and corresponding DataFrame\n",
    "for item in tqdm(src_addr_with_state_trace, maxinterval=len(src_addr_with_state_trace)):\n",
    "    ip_address = item[0]\n",
    "    dataframe = item[1]\n",
    "\n",
    "    # Iterate over each row in the DataFrame\n",
    "    for _, row in dataframe.iterrows():\n",
    "        states = row['state sequence']\n",
    "        trace = row['abbadingo trace']\n",
    "\n",
    "        # Get the shorter length between state sequence and abbadingo trace\n",
    "        length = min(len(states), len(trace))\n",
    "\n",
    "        # Iterate over each state and symbol combination\n",
    "        for i in range(length):\n",
    "            state = states[i]\n",
    "            symbol = trace[i]\n",
    "\n",
    "            # Cut off the state if it reaches -1\n",
    "            if state == -1:\n",
    "                break\n",
    "\n",
    "            # Create a tuple representing the state and symbol combination\n",
    "            combination = (state, symbol)\n",
    "\n",
    "            # Update the counts dictionary\n",
    "            if ip_address in counts:\n",
    "                if combination in counts[ip_address]:\n",
    "                    counts[ip_address][combination] += 1\n",
    "                else:\n",
    "                    counts[ip_address][combination] = 1\n",
    "            else:\n",
    "                counts[ip_address] = {combination: 1}\n",
    "\n",
    "# Create a DataFrame from the counts dictionary\n",
    "df_counts = pd.DataFrame(counts).fillna(0).astype(int).transpose()\n",
    "\n",
    "# Sort the columns in ascending order\n",
    "df_counts = df_counts.reindex(sorted(df_counts.columns), axis=1)"
   ],
   "metadata": {
    "collapsed": false
   }
  },
  {
   "cell_type": "code",
   "execution_count": 185,
   "outputs": [
    {
     "name": "stdout",
     "output_type": "stream",
     "text": [
      "147.32.84.165\n",
      "1.000000000000001\n",
      "147.32.84.191\n",
      "0.9999626468691651\n",
      "147.32.84.193\n",
      "0.9999681931143327\n",
      "147.32.84.204\n",
      "0.9999810164655452\n",
      "147.32.84.205\n",
      "0.9999760846165274\n",
      "147.32.84.206\n",
      "0.9999367963593534\n",
      "147.32.84.207\n",
      "0.9999640031372209\n",
      "147.32.84.208\n",
      "0.999971919913593\n",
      "147.32.84.209\n",
      "0.9998723824573195\n"
     ]
    }
   ],
   "source": [
    "cos_sim_matrix = cosine_similarity(df_counts)\n",
    "# Convert the cosine similarity matrix to a DataFrame\n",
    "df_cos_sim = pd.DataFrame(cos_sim_matrix, index=df_counts.index, columns=df_counts.index)\n",
    "\n",
    "for ip_address in infected_hosts:\n",
    "    print(ip_address)\n",
    "    print(df_cos_sim.loc[botnet_ip, ip_address])\n"
   ],
   "metadata": {
    "collapsed": false
   }
  },
  {
   "attachments": {},
   "cell_type": "markdown",
   "metadata": {},
   "source": [
    "### 4b. Analysis and answers to the questions."
   ]
  },
  {
   "cell_type": "code",
   "execution_count": 184,
   "metadata": {},
   "outputs": [
    {
     "name": "stdout",
     "output_type": "stream",
     "text": [
      "0.9990570646360494\n",
      "0.9990775541642922\n",
      "0.9990775541642922\n",
      "0.9999963688620829\n",
      "0.9992452517245556\n",
      "147.32.86.148      0.004999\n",
      "147.32.3.51        0.000000\n",
      "173.242.220.227    0.000000\n",
      "147.32.96.45       0.009505\n",
      "89.223.179.146     0.000000\n",
      "                     ...   \n",
      "41.215.255.20      0.006986\n",
      "194.114.62.71      0.000234\n",
      "201.229.14.165     0.000461\n",
      "147.32.185.120     0.000347\n",
      "211.101.37.85      0.000000\n",
      "Name: 147.32.84.165, Length: 422, dtype: float64\n"
     ]
    }
   ],
   "source": [
    "for index in df_cos_sim[df_cos_sim[botnet_ip] > 0.999][botnet_ip].index:\n",
    "    if index not in infected_hosts:\n",
    "        print(df_cos_sim[df_cos_sim[botnet_ip] > 0.999][botnet_ip][index])\n",
    "\n",
    "print(df_cos_sim[df_cos_sim[botnet_ip] < 0.00999][botnet_ip])"
   ]
  },
  {
   "cell_type": "code",
   "execution_count": 166,
   "outputs": [
    {
     "name": "stdout",
     "output_type": "stream",
     "text": [
      "Significant state-symbol combinations:\n",
      "Combination: ('63', '18')\n",
      "Occurrence in infected IP addresses: 100.00%\n",
      "Occurrence in non-infected IP addresses: 0.82%\n",
      "\n",
      "Combination: ('79', '18')\n",
      "Occurrence in infected IP addresses: 88.89%\n",
      "Occurrence in non-infected IP addresses: 0.72%\n",
      "\n"
     ]
    },
    {
     "name": "stderr",
     "output_type": "stream",
     "text": [
      "C:\\Users\\ottev\\AppData\\Local\\Temp\\ipykernel_1892\\2396258940.py:6: FutureWarning: Passing a set as an indexer is deprecated and will raise in a future version. Use a list instead.\n",
      "  occurrence_infected = (df_counts.loc[infected_ips] > 0).mean()\n",
      "C:\\Users\\ottev\\AppData\\Local\\Temp\\ipykernel_1892\\2396258940.py:7: FutureWarning: Passing a set as an indexer is deprecated and will raise in a future version. Use a list instead.\n",
      "  occurrence_non_infected = (df_counts.loc[non_infected_ips] > 0).mean()\n",
      "C:\\Users\\ottev\\AppData\\Local\\Temp\\ipykernel_1892\\2396258940.py:8: FutureWarning: Passing a set as an indexer is deprecated and will raise in a future version. Use a list instead.\n",
      "  total_count_infected = df_counts.loc[infected_ips].sum()\n",
      "C:\\Users\\ottev\\AppData\\Local\\Temp\\ipykernel_1892\\2396258940.py:9: FutureWarning: Passing a set as an indexer is deprecated and will raise in a future version. Use a list instead.\n",
      "  total_count_non_infected = df_counts.loc[non_infected_ips].sum()\n",
      "C:\\Users\\ottev\\AppData\\Local\\Temp\\ipykernel_1892\\2396258940.py:16: FutureWarning: iteritems is deprecated and will be removed in a future version. Use .items instead.\n",
      "  for combination, occurrence in significant_combinations.iteritems():\n"
     ]
    }
   ],
   "source": [
    "# Separate the infected and non-infected IP addresses\n",
    "infected_ips = set(infected_hosts)\n",
    "non_infected_ips = set(df_counts.index) - infected_ips\n",
    "\n",
    "# Calculate the occurrence percentages and counts for each state-symbol combination in infected and non-infected IP addresses\n",
    "occurrence_infected = (df_counts.loc[infected_ips] > 0).mean()\n",
    "occurrence_non_infected = (df_counts.loc[non_infected_ips] > 0).mean()\n",
    "total_count_infected = df_counts.loc[infected_ips].sum()\n",
    "total_count_non_infected = df_counts.loc[non_infected_ips].sum()\n",
    "\n",
    "# Filter state-symbol combinations that meet the conditions\n",
    "significant_combinations = occurrence_infected[(occurrence_infected >= 0.85) & (occurrence_non_infected < 0.01)]\n",
    "\n",
    "# Print the significant combinations along with their occurrence percentages and total counts\n",
    "print(\"Significant state-symbol combinations:\")\n",
    "for combination, occurrence in significant_combinations.iteritems():\n",
    "    count_infected = total_count_infected[combination]\n",
    "    count_non_infected = total_count_non_infected[combination]\n",
    "    print(\"Combination:\", combination)\n",
    "    print(\"Occurrence in infected IP addresses: {:.2f}%\".format(occurrence * 100))\n",
    "    print(\"Occurrence in non-infected IP addresses: {:.2f}%\".format(occurrence_non_infected[combination] * 100))\n",
    "    print()"
   ],
   "metadata": {
    "collapsed": false
   }
  },
  {
   "cell_type": "code",
   "execution_count": 193,
   "outputs": [
    {
     "ename": "KeyError",
     "evalue": "'147.32.84.192'",
     "output_type": "error",
     "traceback": [
      "\u001B[1;31m---------------------------------------------------------------------------\u001B[0m",
      "\u001B[1;31mKeyError\u001B[0m                                  Traceback (most recent call last)",
      "File \u001B[1;32mc:\\python39\\lib\\site-packages\\pandas\\core\\indexes\\base.py:3802\u001B[0m, in \u001B[0;36mIndex.get_loc\u001B[1;34m(self, key, method, tolerance)\u001B[0m\n\u001B[0;32m   3801\u001B[0m \u001B[38;5;28;01mtry\u001B[39;00m:\n\u001B[1;32m-> 3802\u001B[0m     \u001B[38;5;28;01mreturn\u001B[39;00m \u001B[38;5;28;43mself\u001B[39;49m\u001B[38;5;241;43m.\u001B[39;49m\u001B[43m_engine\u001B[49m\u001B[38;5;241;43m.\u001B[39;49m\u001B[43mget_loc\u001B[49m\u001B[43m(\u001B[49m\u001B[43mcasted_key\u001B[49m\u001B[43m)\u001B[49m\n\u001B[0;32m   3803\u001B[0m \u001B[38;5;28;01mexcept\u001B[39;00m \u001B[38;5;167;01mKeyError\u001B[39;00m \u001B[38;5;28;01mas\u001B[39;00m err:\n",
      "File \u001B[1;32mc:\\python39\\lib\\site-packages\\pandas\\_libs\\index.pyx:138\u001B[0m, in \u001B[0;36mpandas._libs.index.IndexEngine.get_loc\u001B[1;34m()\u001B[0m\n",
      "File \u001B[1;32mc:\\python39\\lib\\site-packages\\pandas\\_libs\\index.pyx:165\u001B[0m, in \u001B[0;36mpandas._libs.index.IndexEngine.get_loc\u001B[1;34m()\u001B[0m\n",
      "File \u001B[1;32mpandas\\_libs\\hashtable_class_helper.pxi:5745\u001B[0m, in \u001B[0;36mpandas._libs.hashtable.PyObjectHashTable.get_item\u001B[1;34m()\u001B[0m\n",
      "File \u001B[1;32mpandas\\_libs\\hashtable_class_helper.pxi:5753\u001B[0m, in \u001B[0;36mpandas._libs.hashtable.PyObjectHashTable.get_item\u001B[1;34m()\u001B[0m\n",
      "\u001B[1;31mKeyError\u001B[0m: '147.32.84.192'",
      "\nThe above exception was the direct cause of the following exception:\n",
      "\u001B[1;31mKeyError\u001B[0m                                  Traceback (most recent call last)",
      "Cell \u001B[1;32mIn[193], line 13\u001B[0m\n\u001B[0;32m     11\u001B[0m similarity_scores \u001B[38;5;241m=\u001B[39m [\u001B[38;5;241m0.8\u001B[39m, \u001B[38;5;241m0.6\u001B[39m, \u001B[38;5;241m1.0\u001B[39m]  \u001B[38;5;66;03m# Example similarity scores for the three IP addresses\u001B[39;00m\n\u001B[0;32m     12\u001B[0m \u001B[38;5;66;03m# Create the scatter plot\u001B[39;00m\n\u001B[1;32m---> 13\u001B[0m plt\u001B[38;5;241m.\u001B[39mscatter(botnet_occurrences, \u001B[43mip_occurrences\u001B[49m\u001B[43m[\u001B[49m\u001B[43mip_addresses\u001B[49m\u001B[43m[\u001B[49m\u001B[38;5;241;43m0\u001B[39;49m\u001B[43m]\u001B[49m\u001B[43m]\u001B[49m)\n\u001B[0;32m     14\u001B[0m plt\u001B[38;5;241m.\u001B[39mscatter(botnet_occurrences, ip_occurrences[ip_addresses[\u001B[38;5;241m1\u001B[39m]])\n\u001B[0;32m     15\u001B[0m plt\u001B[38;5;241m.\u001B[39mscatter(botnet_occurrences, ip_occurrences[ip_addresses[\u001B[38;5;241m2\u001B[39m]])\n",
      "File \u001B[1;32mc:\\python39\\lib\\site-packages\\pandas\\core\\frame.py:3806\u001B[0m, in \u001B[0;36mDataFrame.__getitem__\u001B[1;34m(self, key)\u001B[0m\n\u001B[0;32m   3804\u001B[0m \u001B[38;5;28;01mif\u001B[39;00m is_single_key:\n\u001B[0;32m   3805\u001B[0m     \u001B[38;5;28;01mif\u001B[39;00m \u001B[38;5;28mself\u001B[39m\u001B[38;5;241m.\u001B[39mcolumns\u001B[38;5;241m.\u001B[39mnlevels \u001B[38;5;241m>\u001B[39m \u001B[38;5;241m1\u001B[39m:\n\u001B[1;32m-> 3806\u001B[0m         \u001B[38;5;28;01mreturn\u001B[39;00m \u001B[38;5;28;43mself\u001B[39;49m\u001B[38;5;241;43m.\u001B[39;49m\u001B[43m_getitem_multilevel\u001B[49m\u001B[43m(\u001B[49m\u001B[43mkey\u001B[49m\u001B[43m)\u001B[49m\n\u001B[0;32m   3807\u001B[0m     indexer \u001B[38;5;241m=\u001B[39m \u001B[38;5;28mself\u001B[39m\u001B[38;5;241m.\u001B[39mcolumns\u001B[38;5;241m.\u001B[39mget_loc(key)\n\u001B[0;32m   3808\u001B[0m     \u001B[38;5;28;01mif\u001B[39;00m is_integer(indexer):\n",
      "File \u001B[1;32mc:\\python39\\lib\\site-packages\\pandas\\core\\frame.py:3857\u001B[0m, in \u001B[0;36mDataFrame._getitem_multilevel\u001B[1;34m(self, key)\u001B[0m\n\u001B[0;32m   3855\u001B[0m \u001B[38;5;28;01mdef\u001B[39;00m \u001B[38;5;21m_getitem_multilevel\u001B[39m(\u001B[38;5;28mself\u001B[39m, key):\n\u001B[0;32m   3856\u001B[0m     \u001B[38;5;66;03m# self.columns is a MultiIndex\u001B[39;00m\n\u001B[1;32m-> 3857\u001B[0m     loc \u001B[38;5;241m=\u001B[39m \u001B[38;5;28;43mself\u001B[39;49m\u001B[38;5;241;43m.\u001B[39;49m\u001B[43mcolumns\u001B[49m\u001B[38;5;241;43m.\u001B[39;49m\u001B[43mget_loc\u001B[49m\u001B[43m(\u001B[49m\u001B[43mkey\u001B[49m\u001B[43m)\u001B[49m\n\u001B[0;32m   3858\u001B[0m     \u001B[38;5;28;01mif\u001B[39;00m \u001B[38;5;28misinstance\u001B[39m(loc, (\u001B[38;5;28mslice\u001B[39m, np\u001B[38;5;241m.\u001B[39mndarray)):\n\u001B[0;32m   3859\u001B[0m         new_columns \u001B[38;5;241m=\u001B[39m \u001B[38;5;28mself\u001B[39m\u001B[38;5;241m.\u001B[39mcolumns[loc]\n",
      "File \u001B[1;32mc:\\python39\\lib\\site-packages\\pandas\\core\\indexes\\multi.py:2916\u001B[0m, in \u001B[0;36mMultiIndex.get_loc\u001B[1;34m(self, key, method)\u001B[0m\n\u001B[0;32m   2913\u001B[0m     \u001B[38;5;28;01mreturn\u001B[39;00m mask\n\u001B[0;32m   2915\u001B[0m \u001B[38;5;28;01mif\u001B[39;00m \u001B[38;5;129;01mnot\u001B[39;00m \u001B[38;5;28misinstance\u001B[39m(key, \u001B[38;5;28mtuple\u001B[39m):\n\u001B[1;32m-> 2916\u001B[0m     loc \u001B[38;5;241m=\u001B[39m \u001B[38;5;28;43mself\u001B[39;49m\u001B[38;5;241;43m.\u001B[39;49m\u001B[43m_get_level_indexer\u001B[49m\u001B[43m(\u001B[49m\u001B[43mkey\u001B[49m\u001B[43m,\u001B[49m\u001B[43m \u001B[49m\u001B[43mlevel\u001B[49m\u001B[38;5;241;43m=\u001B[39;49m\u001B[38;5;241;43m0\u001B[39;49m\u001B[43m)\u001B[49m\n\u001B[0;32m   2917\u001B[0m     \u001B[38;5;28;01mreturn\u001B[39;00m _maybe_to_slice(loc)\n\u001B[0;32m   2919\u001B[0m keylen \u001B[38;5;241m=\u001B[39m \u001B[38;5;28mlen\u001B[39m(key)\n",
      "File \u001B[1;32mc:\\python39\\lib\\site-packages\\pandas\\core\\indexes\\multi.py:3263\u001B[0m, in \u001B[0;36mMultiIndex._get_level_indexer\u001B[1;34m(self, key, level, indexer)\u001B[0m\n\u001B[0;32m   3259\u001B[0m         \u001B[38;5;28;01mreturn\u001B[39;00m \u001B[38;5;28mslice\u001B[39m(i, j, step)\n\u001B[0;32m   3261\u001B[0m \u001B[38;5;28;01melse\u001B[39;00m:\n\u001B[1;32m-> 3263\u001B[0m     idx \u001B[38;5;241m=\u001B[39m \u001B[38;5;28;43mself\u001B[39;49m\u001B[38;5;241;43m.\u001B[39;49m\u001B[43m_get_loc_single_level_index\u001B[49m\u001B[43m(\u001B[49m\u001B[43mlevel_index\u001B[49m\u001B[43m,\u001B[49m\u001B[43m \u001B[49m\u001B[43mkey\u001B[49m\u001B[43m)\u001B[49m\n\u001B[0;32m   3265\u001B[0m     \u001B[38;5;28;01mif\u001B[39;00m level \u001B[38;5;241m>\u001B[39m \u001B[38;5;241m0\u001B[39m \u001B[38;5;129;01mor\u001B[39;00m \u001B[38;5;28mself\u001B[39m\u001B[38;5;241m.\u001B[39m_lexsort_depth \u001B[38;5;241m==\u001B[39m \u001B[38;5;241m0\u001B[39m:\n\u001B[0;32m   3266\u001B[0m         \u001B[38;5;66;03m# Desired level is not sorted\u001B[39;00m\n\u001B[0;32m   3267\u001B[0m         \u001B[38;5;28;01mif\u001B[39;00m \u001B[38;5;28misinstance\u001B[39m(idx, \u001B[38;5;28mslice\u001B[39m):\n\u001B[0;32m   3268\u001B[0m             \u001B[38;5;66;03m# test_get_loc_partial_timestamp_multiindex\u001B[39;00m\n",
      "File \u001B[1;32mc:\\python39\\lib\\site-packages\\pandas\\core\\indexes\\multi.py:2849\u001B[0m, in \u001B[0;36mMultiIndex._get_loc_single_level_index\u001B[1;34m(self, level_index, key)\u001B[0m\n\u001B[0;32m   2847\u001B[0m     \u001B[38;5;28;01mreturn\u001B[39;00m \u001B[38;5;241m-\u001B[39m\u001B[38;5;241m1\u001B[39m\n\u001B[0;32m   2848\u001B[0m \u001B[38;5;28;01melse\u001B[39;00m:\n\u001B[1;32m-> 2849\u001B[0m     \u001B[38;5;28;01mreturn\u001B[39;00m \u001B[43mlevel_index\u001B[49m\u001B[38;5;241;43m.\u001B[39;49m\u001B[43mget_loc\u001B[49m\u001B[43m(\u001B[49m\u001B[43mkey\u001B[49m\u001B[43m)\u001B[49m\n",
      "File \u001B[1;32mc:\\python39\\lib\\site-packages\\pandas\\core\\indexes\\base.py:3804\u001B[0m, in \u001B[0;36mIndex.get_loc\u001B[1;34m(self, key, method, tolerance)\u001B[0m\n\u001B[0;32m   3802\u001B[0m     \u001B[38;5;28;01mreturn\u001B[39;00m \u001B[38;5;28mself\u001B[39m\u001B[38;5;241m.\u001B[39m_engine\u001B[38;5;241m.\u001B[39mget_loc(casted_key)\n\u001B[0;32m   3803\u001B[0m \u001B[38;5;28;01mexcept\u001B[39;00m \u001B[38;5;167;01mKeyError\u001B[39;00m \u001B[38;5;28;01mas\u001B[39;00m err:\n\u001B[1;32m-> 3804\u001B[0m     \u001B[38;5;28;01mraise\u001B[39;00m \u001B[38;5;167;01mKeyError\u001B[39;00m(key) \u001B[38;5;28;01mfrom\u001B[39;00m \u001B[38;5;21;01merr\u001B[39;00m\n\u001B[0;32m   3805\u001B[0m \u001B[38;5;28;01mexcept\u001B[39;00m \u001B[38;5;167;01mTypeError\u001B[39;00m:\n\u001B[0;32m   3806\u001B[0m     \u001B[38;5;66;03m# If we have a listlike key, _check_indexing_error will raise\u001B[39;00m\n\u001B[0;32m   3807\u001B[0m     \u001B[38;5;66;03m#  InvalidIndexError. Otherwise we fall through and re-raise\u001B[39;00m\n\u001B[0;32m   3808\u001B[0m     \u001B[38;5;66;03m#  the TypeError.\u001B[39;00m\n\u001B[0;32m   3809\u001B[0m     \u001B[38;5;28mself\u001B[39m\u001B[38;5;241m.\u001B[39m_check_indexing_error(key)\n",
      "\u001B[1;31mKeyError\u001B[0m: '147.32.84.192'"
     ]
    }
   ],
   "source": [
    "# Define the three IP addresses for the y-axis\n",
    "ip_addresses = ['147.32.84.192', '147.32.96.45', '147.32.84.204']\n",
    "\n",
    "# Get the occurrences for the botnet_ip row\n",
    "botnet_occurrences = df_counts.loc[botnet_ip]\n",
    "\n",
    "# Get the occurrences for the three given IP addresses\n",
    "ip_occurrences = df_counts.loc[ip_addresses]\n",
    "# Calculate the similarity scores for the three IP addresses\n",
    "# (Replace this with your own similarity calculation based on your requirements)\n",
    "similarity_scores = [0.8, 0.6, 1.0]  # Example similarity scores for the three IP addresses\n",
    "# Create the scatter plot\n",
    "plt.scatter(botnet_occurrences, ip_occurrences[ip_addresses[0]])\n",
    "plt.scatter(botnet_occurrences, ip_occurrences[ip_addresses[1]])\n",
    "plt.scatter(botnet_occurrences, ip_occurrences[ip_addresses[2]])\n",
    "plt.xlabel('Occurrences for Botnet IP')\n",
    "plt.ylabel('Occurrences for Other IP Addresses')\n",
    "\n",
    "# Add a line with x=y when similarity is 1 and y=0 when similarity is 0\n",
    "for similarity, ip_occurrence in zip(similarity_scores, ip_occurrences.index):\n",
    "    if similarity == 1:\n",
    "        plt.plot(botnet_occurrences, ip_occurrences.loc[ip_occurrence], color='r', linestyle='--')\n",
    "    elif similarity == 0:\n",
    "        plt.plot(botnet_occurrences, [0] * len(botnet_occurrences), color='r', linestyle='--')\n",
    "\n",
    "# Show the plot\n",
    "plt.show()\n"
   ],
   "metadata": {
    "collapsed": false
   }
  },
  {
   "attachments": {},
   "cell_type": "markdown",
   "metadata": {},
   "source": [
    "## 5. Bonus Task 1/2 A4 (5 Points)"
   ]
  },
  {
   "attachments": {},
   "cell_type": "markdown",
   "metadata": {},
   "source": [
    "### 5a. Provide implementation and analysis."
   ]
  },
  {
   "cell_type": "code",
   "execution_count": 174,
   "metadata": {},
   "outputs": [
    {
     "name": "stdout",
     "output_type": "stream",
     "text": [
      "MultiIndex([('-1',  '0'),\n",
      "            ('-1',  '1'),\n",
      "            ('-1', '10'),\n",
      "            ('-1', '11'),\n",
      "            ('-1', '12'),\n",
      "            ('-1', '13'),\n",
      "            ('-1', '14'),\n",
      "            ('-1', '15'),\n",
      "            ('-1', '16'),\n",
      "            ('-1', '17'),\n",
      "            ...\n",
      "            ('90',  '3'),\n",
      "            ('91',  '2'),\n",
      "            ('92',  '8'),\n",
      "            ('93', '18'),\n",
      "            ('94', '18'),\n",
      "            ('95', '18'),\n",
      "            ('96', '18'),\n",
      "            ('97', '18'),\n",
      "            ('98', '18'),\n",
      "            ('99',  '7')],\n",
      "           length=156)\n"
     ]
    }
   ],
   "source": []
  },
  {
   "cell_type": "code",
   "execution_count": 134,
   "outputs": [],
   "source": [],
   "metadata": {
    "collapsed": false
   }
  }
 ],
 "metadata": {
  "kernelspec": {
   "display_name": "Python 3 (ipykernel)",
   "language": "python",
   "name": "python3"
  },
  "language_info": {
   "codemirror_mode": {
    "name": "ipython",
    "version": 3
   },
   "file_extension": ".py",
   "mimetype": "text/x-python",
   "name": "python",
   "nbconvert_exporter": "python",
   "pygments_lexer": "ipython3",
   "version": "3.11.3"
  }
 },
 "nbformat": 4,
 "nbformat_minor": 2
}
