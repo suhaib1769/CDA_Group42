{
 "cells": [
  {
   "attachments": {},
   "cell_type": "markdown",
   "metadata": {},
   "source": [
    "# CS4035 - Cyber Data Analytics\n",
    "## Lab 4"
   ]
  },
  {
   "attachments": {},
   "cell_type": "markdown",
   "metadata": {},
   "source": [
    "### Submit on brightspace (zip file with the name Group_xx.zip)\n",
    "This jupyter file completed with code, plots, figures and report for each question. Write the code or explanation below each sub question. For the explanations, include what you would normally include in the report for this lab assignment, for example data pre-processing, hypothesis tested, approach, results, etc.\n",
    "\n",
    "(if you used hard-to-get libraries) The libraries needed to run this file. \n",
    "\n",
    "Your peers should be able to use the readme section for instructions and be able to run this file. "
   ]
  },
  {
   "attachments": {},
   "cell_type": "markdown",
   "metadata": {},
   "source": [
    "## Group Number : 42"
   ]
  },
  {
   "attachments": {},
   "cell_type": "markdown",
   "metadata": {},
   "source": [
    "## Student 1 \n",
    "### Name : Otte Van Dam\n",
    "### ID : 5096790"
   ]
  },
  {
   "attachments": {},
   "cell_type": "markdown",
   "metadata": {},
   "source": [
    "## Student 2\n",
    "### Name : Suhaib Basir\n",
    "### ID : 5059151"
   ]
  },
  {
   "attachments": {},
   "cell_type": "markdown",
   "metadata": {},
   "source": [
    "## README\n",
    "\n",
    "Provide instructions - libraries used, location of the data file, etc. Keep it short. Remember your peers will not debug your code and should be able to reproduce the exact output you provide."
   ]
  },
  {
   "cell_type": "markdown",
   "source": [],
   "metadata": {
    "collapsed": false
   }
  },
  {
   "attachments": {},
   "cell_type": "markdown",
   "metadata": {},
   "source": [
    "## 1. Preparation (0 points)\n",
    "### Load imports"
   ]
  },
  {
   "cell_type": "code",
   "execution_count": 2,
   "outputs": [],
   "source": [
    "import numpy as np\n",
    "\n",
    "from sklearn.model_selection import train_test_split\n",
    "from sklearn.linear_model import SGDClassifier\n",
    "from sklearn.metrics import accuracy_score\n",
    "\n",
    "import matplotlib.pyplot as plt\n",
    "\n",
    "from tqdm import tqdm"
   ],
   "metadata": {
    "collapsed": false
   }
  },
  {
   "attachments": {},
   "cell_type": "markdown",
   "metadata": {},
   "source": [
    "### 1a. Load the dataset and split it into a train and test set"
   ]
  },
  {
   "cell_type": "code",
   "execution_count": 3,
   "metadata": {},
   "outputs": [],
   "source": [
    "X = np.load('X.npy')\n",
    "y = np.load('y.npy')\n",
    "\n",
    "# Split the data into training set and test set\n",
    "X_train, X_test, y_train, y_test = train_test_split(X, y, test_size=0.2, random_state=42)"
   ]
  },
  {
   "cell_type": "code",
   "execution_count": 4,
   "outputs": [
    {
     "name": "stdout",
     "output_type": "stream",
     "text": [
      "Accuracy before attack: 0.9179276315789474\n"
     ]
    }
   ],
   "source": [
    "model = SGDClassifier(loss='log_loss', max_iter=1000, tol=1e-3)\n",
    "\n",
    "# Fit the model to the training set\n",
    "model.fit(X_train, y_train)\n",
    "\n",
    "# Predict on the test set\n",
    "y_pred = model.predict(X_test)\n",
    "\n",
    "# Calculate the accuracy\n",
    "accuracy = accuracy_score(y_test, y_pred)\n",
    "print(\"Accuracy before attack:\", accuracy)"
   ],
   "metadata": {
    "collapsed": false
   }
  },
  {
   "attachments": {},
   "cell_type": "markdown",
   "metadata": {},
   "source": [
    "## 2. Attacking linear models (5 Points)"
   ]
  },
  {
   "attachments": {},
   "cell_type": "markdown",
   "metadata": {},
   "source": [
    "### 2a. Implementing useless import attacks\n"
   ]
  },
  {
   "cell_type": "code",
   "execution_count": 5,
   "metadata": {},
   "outputs": [
    {
     "name": "stdout",
     "output_type": "stream",
     "text": [
      "Accuracy after attack: 0.5024671052631579\n"
     ]
    }
   ],
   "source": [
    "def evade(sample, coef):\n",
    "    for i, c in enumerate(coef):\n",
    "        if c < 0:\n",
    "            sample[i] = 1\n",
    "    return sample\n",
    "\n",
    "# Get the coefficients\n",
    "coefficients = model.coef_\n",
    "\n",
    "# Create new X which will be for the attack\n",
    "X_test_attack = []\n",
    "for sample in X_test:\n",
    "    X_test_attack.append(evade(sample, coefficients[0]))\n",
    "\n",
    "# Predict on the test set\n",
    "y_pred_attack = model.predict(X_test_attack)\n",
    "\n",
    "# Calculate the accuracy\n",
    "accuracy = accuracy_score(y_test, y_pred_attack)\n",
    "print(\"Accuracy after attack:\", accuracy)"
   ]
  },
  {
   "attachments": {},
   "cell_type": "markdown",
   "metadata": {},
   "source": [
    "### 2b. Analysis and answers to the questions\n",
    "The accuracy drops from 92% to 50%. This shows that the model is not robust at all. At this point a random classifier is just as good."
   ]
  },
  {
   "cell_type": "code",
   "execution_count": 11,
   "metadata": {},
   "outputs": [
    {
     "name": "stderr",
     "output_type": "stream",
     "text": [
      "100%|██████████| 244/244 [01:04<00:00,  3.81it/s]\n"
     ]
    },
    {
     "name": "stdout",
     "output_type": "stream",
     "text": [
      "Accuracy after attack with hardening: 0.4975328947368421\n"
     ]
    }
   ],
   "source": [
    "# Define batch size and calculate the number of batches\n",
    "batch_size = 100\n",
    "num_batches = int(np.ceil(len(X_train) / batch_size))\n",
    "\n",
    "# Create an instance of the SGDClassifier model\n",
    "model_hardened = SGDClassifier(loss='log_loss')\n",
    "\n",
    "coefficients_temporary = None\n",
    "\n",
    "# Train the model on the training set in batches\n",
    "for batch in tqdm(range(num_batches)):\n",
    "    start_idx = batch * batch_size\n",
    "    end_idx = (batch + 1) * batch_size\n",
    "    X_batch = X_train[start_idx:end_idx]\n",
    "    X_batch_attack = []\n",
    "    if coefficients_temporary is not None:\n",
    "        # Create new X which will be for the attack\n",
    "        for sample in X_batch:\n",
    "            X_batch_attack.append(evade(sample, coefficients_temporary[0]))\n",
    "    else:\n",
    "        X_batch_attack = X_batch\n",
    "    y_batch = y_train[start_idx:end_idx]\n",
    "\n",
    "    model_hardened.partial_fit(X_batch_attack, y_batch, classes=np.unique(y_train))\n",
    "    coefficients_temporary = model_hardened.coef_\n",
    "\n",
    "coefficients_hardened = model_hardened.coef_\n",
    "# Create new X which will be for the attack\n",
    "X_test_attack_hardened = []\n",
    "for sample in X_test:\n",
    "    X_test_attack_hardened.append(evade(sample, coefficients_hardened[0]))\n",
    "\n",
    "\n",
    "# Predict on the test set\n",
    "y_pred_attack_hardened = model_hardened.predict(X_test_attack_hardened)\n",
    "\n",
    "# Calculate the accuracy\n",
    "accuracy = accuracy_score(y_test, y_pred_attack_hardened)\n",
    "print(\"Accuracy after attack with hardening:\", accuracy)"
   ]
  },
  {
   "attachments": {},
   "cell_type": "markdown",
   "metadata": {},
   "source": [
    "## 3. Improving robustness by hardening (5 Points)"
   ]
  },
  {
   "attachments": {},
   "cell_type": "markdown",
   "metadata": {},
   "source": [
    "### 3a. Implementing hardening"
   ]
  },
  {
   "cell_type": "code",
   "execution_count": 7,
   "metadata": {},
   "outputs": [
    {
     "name": "stderr",
     "output_type": "stream",
     "text": [
      " 33%|███▎      | 1/3 [01:52<03:44, 112.41s/it]\n"
     ]
    },
    {
     "ename": "KeyboardInterrupt",
     "evalue": "",
     "output_type": "error",
     "traceback": [
      "\u001B[1;31m---------------------------------------------------------------------------\u001B[0m",
      "\u001B[1;31mKeyboardInterrupt\u001B[0m                         Traceback (most recent call last)",
      "Cell \u001B[1;32mIn[7], line 20\u001B[0m\n\u001B[0;32m     18\u001B[0m \u001B[38;5;66;03m# Create new X which will be for the attack\u001B[39;00m\n\u001B[0;32m     19\u001B[0m \u001B[38;5;28;01mfor\u001B[39;00m sample \u001B[38;5;129;01min\u001B[39;00m X_batch:\n\u001B[1;32m---> 20\u001B[0m     X_batch_attack\u001B[38;5;241m.\u001B[39mappend(\u001B[43mevade\u001B[49m\u001B[43m(\u001B[49m\u001B[43msample\u001B[49m\u001B[43m,\u001B[49m\u001B[43m \u001B[49m\u001B[43mcoefficients_temporary\u001B[49m\u001B[43m[\u001B[49m\u001B[38;5;241;43m0\u001B[39;49m\u001B[43m]\u001B[49m\u001B[43m)\u001B[49m)\n\u001B[0;32m     21\u001B[0m y_batch \u001B[38;5;241m=\u001B[39m y_train[start_idx:end_idx]\n\u001B[0;32m     23\u001B[0m model_hardened\u001B[38;5;241m.\u001B[39mpartial_fit(X_batch_attack, y_batch, classes\u001B[38;5;241m=\u001B[39mnp\u001B[38;5;241m.\u001B[39munique(y_train))\n",
      "Cell \u001B[1;32mIn[5], line 3\u001B[0m, in \u001B[0;36mevade\u001B[1;34m(sample, coef)\u001B[0m\n\u001B[0;32m      1\u001B[0m \u001B[38;5;28;01mdef\u001B[39;00m \u001B[38;5;21mevade\u001B[39m(sample, coef):\n\u001B[0;32m      2\u001B[0m     \u001B[38;5;28;01mfor\u001B[39;00m i, c \u001B[38;5;129;01min\u001B[39;00m \u001B[38;5;28menumerate\u001B[39m(coef):\n\u001B[1;32m----> 3\u001B[0m         \u001B[38;5;28;01mif\u001B[39;00m \u001B[43mc\u001B[49m\u001B[43m \u001B[49m\u001B[38;5;241;43m<\u001B[39;49m\u001B[43m \u001B[49m\u001B[38;5;241;43m0\u001B[39;49m:\n\u001B[0;32m      4\u001B[0m             sample[i] \u001B[38;5;241m=\u001B[39m \u001B[38;5;241m1\u001B[39m\n\u001B[0;32m      5\u001B[0m     \u001B[38;5;28;01mreturn\u001B[39;00m sample\n",
      "\u001B[1;31mKeyboardInterrupt\u001B[0m: "
     ]
    }
   ],
   "source": [
    "accuracy_list_hardened = []\n",
    "batch_sizes = [50, 64, 75]\n",
    "# Define batch size and calculate the number of batches\n",
    "for batch_size in tqdm(batch_sizes):\n",
    "    num_batches = int(np.ceil(len(X_train) / batch_size))\n",
    "\n",
    "    # Create an instance of the SGDClassifier model\n",
    "    model_hardened = SGDClassifier(loss='log_loss', max_iter=1000, tol=1e-3)\n",
    "\n",
    "    coefficients_temporary = coefficients\n",
    "\n",
    "    # Train the model on the training set in batches\n",
    "    for batch in range(num_batches):\n",
    "        start_idx = batch * batch_size\n",
    "        end_idx = (batch + 1) * batch_size\n",
    "        X_batch = X_train[start_idx:end_idx]\n",
    "        X_batch_attack = []\n",
    "        # Create new X which will be for the attack\n",
    "        for sample in X_batch:\n",
    "            X_batch_attack.append(evade(sample, coefficients_temporary[0]))\n",
    "        y_batch = y_train[start_idx:end_idx]\n",
    "\n",
    "        model_hardened.partial_fit(X_batch_attack, y_batch, classes=np.unique(y_train))\n",
    "        coefficients_temporary = model_hardened.coef_\n",
    "\n",
    "    coefficients_hardened = model_hardened.coef_\n",
    "    # Create new X which will be for the attack\n",
    "    X_test_attack_hardened = []\n",
    "    for sample in X_test:\n",
    "        X_test_attack_hardened.append(evade(sample, coefficients_hardened[0]))\n",
    "\n",
    "\n",
    "    # Predict on the test set\n",
    "    y_pred_attack_hardened = model_hardened.predict(X_test_attack_hardened)\n",
    "\n",
    "    # Calculate the accuracy\n",
    "    accuracy = accuracy_score(y_test, y_pred_attack_hardened)\n",
    "    accuracy_list_hardened.append(accuracy)"
   ]
  },
  {
   "attachments": {},
   "cell_type": "markdown",
   "metadata": {},
   "source": [
    "### 3b. Analysis and answers to the questions"
   ]
  },
  {
   "cell_type": "code",
   "execution_count": null,
   "metadata": {},
   "outputs": [],
   "source": [
    "print(accuracy_list_hardened)"
   ]
  },
  {
   "attachments": {},
   "cell_type": "markdown",
   "metadata": {},
   "source": [
    "## 4. Training non-negative linear models (5 Points)"
   ]
  },
  {
   "attachments": {},
   "cell_type": "markdown",
   "metadata": {},
   "source": [
    "### 4a. Implement non-negative logistic regression using SGD"
   ]
  },
  {
   "cell_type": "code",
   "execution_count": null,
   "metadata": {},
   "outputs": [],
   "source": [
    "batch_sizes = [4, 8, 20, 35, 50, 60, 70]\n",
    "accuracy_list_non_negative = []\n",
    "for batch_size in tqdm(batch_sizes):\n",
    "    # Define batch size and calculate the number of batches\n",
    "    num_batches = int(np.ceil(len(X_train) / batch_size))\n",
    "\n",
    "    # Create an instance of the SGDClassifier model\n",
    "    model_non_negative = SGDClassifier(loss='log_loss', max_iter=1000, tol=1e-3)\n",
    "\n",
    "    # Train the model on the training set in batches\n",
    "    for batch in range(num_batches):\n",
    "        start_idx = batch * batch_size\n",
    "        end_idx = (batch + 1) * batch_size\n",
    "        X_batch = X_train[start_idx:end_idx]\n",
    "        y_batch = y_train[start_idx:end_idx]\n",
    "\n",
    "        model_non_negative.partial_fit(X_batch, y_batch, classes=np.unique(y_train))\n",
    "\n",
    "        # Retrieve the coefficients\n",
    "        coefficients = model_non_negative.coef_\n",
    "\n",
    "        # Set any negative coefficients to 0\n",
    "        coefficients[coefficients < 0] = 0\n",
    "\n",
    "        # Set the modified coefficients back to the model\n",
    "        model_non_negative.coef_ = coefficients\n",
    "\n",
    "    coefficients_non_negative = model_non_negative.coef_\n",
    "    # Create new X which will be for the attack\n",
    "    X_test_attack_non_negative = []\n",
    "    for sample in X_test:\n",
    "        X_test_attack_non_negative.append(evade(sample, coefficients_non_negative[0]))\n",
    "\n",
    "\n",
    "    # Predict on the test set\n",
    "    y_pred_attack_non_negative = model_non_negative.predict(X_test_attack_non_negative)\n",
    "\n",
    "    # Calculate the accuracy\n",
    "    accuracy = accuracy_score(y_test, y_pred_attack_non_negative)\n",
    "    accuracy_list_non_negative.append(accuracy)"
   ]
  },
  {
   "cell_type": "code",
   "execution_count": null,
   "outputs": [],
   "source": [
    "print(model_non_negative.t_)"
   ],
   "metadata": {
    "collapsed": false
   }
  },
  {
   "attachments": {},
   "cell_type": "markdown",
   "metadata": {},
   "source": [
    "### 4b. Analysis and answers to the questions."
   ]
  },
  {
   "cell_type": "code",
   "execution_count": null,
   "metadata": {},
   "outputs": [],
   "source": [
    "# Plot the accuracies for each batch size\n",
    "plt.plot(batch_sizes, accuracy_list_hardened, marker='o', label='Hardened Model')\n",
    "plt.plot(batch_sizes, accuracy_list_non_negative, marker='o', label='Non-Negative Model')\n",
    "\n",
    "# Add labels and title to the plot\n",
    "plt.xlabel('Batch Size')\n",
    "plt.ylabel('Accuracy')\n",
    "plt.title('Accuracy vs. Batch Size')\n",
    "\n",
    "# Add legend\n",
    "plt.legend()\n",
    "\n",
    "# Show the plot\n",
    "plt.show()"
   ]
  },
  {
   "cell_type": "code",
   "execution_count": null,
   "outputs": [],
   "source": [
    "print(accuracy_list_non_negative)\n",
    "print(accuracy_list_hardened)\n",
    "print(batch_sizes)"
   ],
   "metadata": {
    "collapsed": false
   }
  },
  {
   "attachments": {},
   "cell_type": "markdown",
   "metadata": {},
   "source": [
    "## 5. Bonus: robust decision trees for fraud detection (5 Points)"
   ]
  },
  {
   "attachments": {},
   "cell_type": "markdown",
   "metadata": {},
   "source": [
    "### 5a. Train and analyze a regular decision tree for fraud detection"
   ]
  },
  {
   "cell_type": "code",
   "execution_count": null,
   "metadata": {},
   "outputs": [],
   "source": []
  },
  {
   "attachments": {},
   "cell_type": "markdown",
   "metadata": {},
   "source": []
  },
  {
   "attachments": {},
   "cell_type": "markdown",
   "metadata": {},
   "source": [
    "### 5b. Train and analyze a robust decision tree (GROOT) for fraud detection"
   ]
  },
  {
   "cell_type": "code",
   "execution_count": null,
   "metadata": {},
   "outputs": [],
   "source": []
  },
  {
   "attachments": {},
   "cell_type": "markdown",
   "metadata": {},
   "source": []
  },
  {
   "attachments": {},
   "cell_type": "markdown",
   "metadata": {},
   "source": [
    "### 5c. Evaluate the robustness of the two models"
   ]
  },
  {
   "cell_type": "code",
   "execution_count": null,
   "outputs": [],
   "source": [
    "# Define batch size and calculate the number of batches\n",
    "batch_size = 64\n",
    "num_batches = int(np.ceil(len(X_train) / batch_size))\n",
    "\n",
    "# Create an instance of the SGDClassifier model\n",
    "model_hardened = SGDClassifier(loss='log_loss', max_iter=1000, tol=1e-3)\n",
    "\n",
    "coefficients_temporary = [[0] * len(X_train[0])]\n",
    "\n",
    "# Train the model on the training set in batches\n",
    "for batch in tqdm(range(num_batches)):\n",
    "    start_idx = batch * batch_size\n",
    "    end_idx = (batch + 1) * batch_size\n",
    "    X_batch = X_train[start_idx:end_idx]\n",
    "    X_batch_attack = []\n",
    "    # Create new X which will be for the attack\n",
    "    for sample in X_batch:\n",
    "        X_batch_attack.append(evade(sample, coefficients_temporary[0]))\n",
    "    y_batch = y_train[start_idx:end_idx]\n",
    "\n",
    "    model_hardened.partial_fit(X_batch_attack, y_batch, classes=np.unique(y_train))\n",
    "    coefficients_temporary = model_hardened.coef_\n",
    "\n",
    "coefficients_hardened = model_hardened.coef_\n",
    "# Create new X which will be for the attack\n",
    "X_test_attack_hardened = []\n",
    "for sample in X_test:\n",
    "    X_test_attack_hardened.append(evade(sample, coefficients_hardened[0]))\n",
    "\n",
    "\n",
    "# Predict on the test set\n",
    "y_pred_attack_hardened = model_hardened.predict(X_test_attack_hardened)\n",
    "\n",
    "# Calculate the accuracy\n",
    "accuracy = accuracy_score(y_test, y_pred_attack_hardened)\n",
    "print(\"Accuracy after attack with hardening:\", accuracy)"
   ],
   "metadata": {
    "collapsed": false
   }
  },
  {
   "cell_type": "code",
   "execution_count": null,
   "metadata": {},
   "outputs": [],
   "source": [
    "batch_size = 4\n",
    "# Define batch size and calculate the number of batches\n",
    "num_batches = int(np.ceil(len(X_train) / batch_size))\n",
    "\n",
    "# Create an instance of the SGDClassifier model\n",
    "model_non_negative = SGDClassifier(loss='log_loss', max_iter=1000, tol=1e-3, shuffle=False)\n",
    "\n",
    "# Train the model on the training set in batches\n",
    "for batch in range(num_batches):\n",
    "    start_idx = batch * batch_size\n",
    "    end_idx = (batch + 1) * batch_size\n",
    "    X_batch = X_train[start_idx:end_idx]\n",
    "    y_batch = y_train[start_idx:end_idx]\n",
    "\n",
    "    model_non_negative.partial_fit(X_batch, y_batch, classes=np.unique(y_train))\n",
    "\n",
    "    # Retrieve the coefficients\n",
    "    coefficients = model_non_negative.coef_\n",
    "\n",
    "    # Set any negative coefficients to 0\n",
    "    coefficients[coefficients < 0] = 0\n",
    "\n",
    "    # Set the modified coefficients back to the model\n",
    "    model_non_negative.coef_ = coefficients\n",
    "\n",
    "coefficients_non_negative = model_non_negative.coef_\n",
    "# Create new X which will be for the attack\n",
    "X_test_attack_non_negative = []\n",
    "for sample in X_test:\n",
    "    X_test_attack_non_negative.append(evade(sample, coefficients_non_negative[0]))\n",
    "\n",
    "\n",
    "# Predict on the test set\n",
    "y_pred_attack_non_negative = model_non_negative.predict(X_test_attack_non_negative)\n",
    "\n",
    "# Calculate the accuracy\n",
    "accuracy = accuracy_score(y_test, y_pred_attack_non_negative)\n",
    "print(accuracy)"
   ]
  },
  {
   "cell_type": "code",
   "execution_count": null,
   "outputs": [],
   "source": [],
   "metadata": {
    "collapsed": false
   }
  },
  {
   "attachments": {},
   "cell_type": "markdown",
   "metadata": {},
   "source": []
  }
 ],
 "metadata": {
  "kernelspec": {
   "display_name": "Python 3 (ipykernel)",
   "language": "python",
   "name": "python3"
  },
  "language_info": {
   "codemirror_mode": {
    "name": "ipython",
    "version": 3
   },
   "file_extension": ".py",
   "mimetype": "text/x-python",
   "name": "python",
   "nbconvert_exporter": "python",
   "pygments_lexer": "ipython3",
   "version": "3.9.7"
  }
 },
 "nbformat": 4,
 "nbformat_minor": 2
}
