{
 "cells": [
  {
   "attachments": {},
   "cell_type": "markdown",
   "metadata": {},
   "source": [
    "# CS4035 - Cyber Data Analytics\n",
    "## Lab 4"
   ]
  },
  {
   "attachments": {},
   "cell_type": "markdown",
   "metadata": {},
   "source": [
    "### Submit on brightspace (zip file with the name Group_xx.zip)\n",
    "This jupyter file completed with code, plots, figures and report for each question. Write the code or explanation below each sub question. For the explanations, include what you would normally include in the report for this lab assignment, for example data pre-processing, hypothesis tested, approach, results, etc.\n",
    "\n",
    "(if you used hard-to-get libraries) The libraries needed to run this file. \n",
    "\n",
    "Your peers should be able to use the readme section for instructions and be able to run this file. "
   ]
  },
  {
   "attachments": {},
   "cell_type": "markdown",
   "metadata": {},
   "source": [
    "## Group Number : 42"
   ]
  },
  {
   "attachments": {},
   "cell_type": "markdown",
   "metadata": {},
   "source": [
    "## Student 1 \n",
    "### Name : Otte Van Dam\n",
    "### ID : 5096790"
   ]
  },
  {
   "attachments": {},
   "cell_type": "markdown",
   "metadata": {},
   "source": [
    "## Student 2\n",
    "### Name : Suhaib Basir\n",
    "### ID : 5059151"
   ]
  },
  {
   "attachments": {},
   "cell_type": "markdown",
   "metadata": {},
   "source": [
    "## README\n",
    "\n",
    "Provide instructions - libraries used, location of the data file, etc. Keep it short. Remember your peers will not debug your code and should be able to reproduce the exact output you provide."
   ]
  },
  {
   "cell_type": "markdown",
   "source": [],
   "metadata": {
    "collapsed": false
   }
  },
  {
   "attachments": {},
   "cell_type": "markdown",
   "metadata": {},
   "source": [
    "## 1. Preparation (0 points)\n",
    "### Load imports"
   ]
  },
  {
   "cell_type": "code",
   "execution_count": 28,
   "outputs": [],
   "source": [
    "import numpy as np\n",
    "\n",
    "from sklearn.model_selection import train_test_split\n",
    "from sklearn.linear_model import SGDClassifier\n",
    "from sklearn.metrics import accuracy_score\n",
    "\n",
    "import matplotlib.pyplot as plt\n",
    "\n",
    "from tqdm import tqdm"
   ],
   "metadata": {
    "collapsed": false
   }
  },
  {
   "attachments": {},
   "cell_type": "markdown",
   "metadata": {},
   "source": [
    "### 1a. Load the dataset and split it into a train and test set"
   ]
  },
  {
   "cell_type": "code",
   "execution_count": 29,
   "metadata": {},
   "outputs": [],
   "source": [
    "X = np.load('X.npy')\n",
    "y = np.load('y.npy')\n",
    "\n",
    "# Split the data into training set and test set\n",
    "X_train, X_test, y_train, y_test = train_test_split(X, y, test_size=0.2, random_state=42)"
   ]
  },
  {
   "cell_type": "code",
   "execution_count": 30,
   "outputs": [
    {
     "name": "stdout",
     "output_type": "stream",
     "text": [
      "Accuracy before attack: 0.9039473684210526\n"
     ]
    }
   ],
   "source": [
    "model = SGDClassifier(loss='log_loss')\n",
    "\n",
    "# Fit the model to the training set\n",
    "model.fit(X_train, y_train)\n",
    "\n",
    "# Predict on the test set\n",
    "y_pred = model.predict(X_test)\n",
    "\n",
    "# Calculate the accuracy\n",
    "accuracy = accuracy_score(y_test, y_pred)\n",
    "print(\"Accuracy before attack:\", accuracy)"
   ],
   "metadata": {
    "collapsed": false
   }
  },
  {
   "attachments": {},
   "cell_type": "markdown",
   "metadata": {},
   "source": [
    "## 2. Attacking linear models (5 Points)"
   ]
  },
  {
   "attachments": {},
   "cell_type": "markdown",
   "metadata": {},
   "source": [
    "### 2a. Implementing useless import attacks\n"
   ]
  },
  {
   "cell_type": "code",
   "execution_count": 31,
   "metadata": {},
   "outputs": [],
   "source": [
    "def evade(sample, coef):\n",
    "    for i, c in enumerate(coef):\n",
    "        if c < 0:\n",
    "            sample[i] = 1\n",
    "    return sample\n",
    "\n",
    "def create_attack(X, y, coef):\n",
    "    X_attack = []\n",
    "    for i, sample in enumerate(X):\n",
    "        if y[i]:\n",
    "            X_attack.append(evade(sample, coef[0]))\n",
    "        else:\n",
    "            X_attack.append(sample)\n",
    "    return X_attack"
   ]
  },
  {
   "cell_type": "code",
   "execution_count": 32,
   "outputs": [
    {
     "name": "stdout",
     "output_type": "stream",
     "text": [
      "Accuracy after attack: 0.4261513157894737\n"
     ]
    }
   ],
   "source": [
    "X_test_attack = create_attack(X_test, y_test, model.coef_)\n",
    "# Predict on the test set\n",
    "y_pred_attack = model.predict(X_test_attack)\n",
    "\n",
    "# Calculate the accuracy\n",
    "accuracy = accuracy_score(y_test, y_pred_attack)\n",
    "print(\"Accuracy after attack:\", accuracy)"
   ],
   "metadata": {
    "collapsed": false
   }
  },
  {
   "attachments": {},
   "cell_type": "markdown",
   "metadata": {},
   "source": [
    "### 2b. Analysis and answers to the questions\n",
    "The accuracy drops from 92% to 50%. This shows that the model is not robust at all. At this point a random classifier is just as good."
   ]
  },
  {
   "cell_type": "code",
   "execution_count": 32,
   "metadata": {},
   "outputs": [],
   "source": []
  },
  {
   "attachments": {},
   "cell_type": "markdown",
   "metadata": {},
   "source": [
    "## 3. Improving robustness by hardening (5 Points)"
   ]
  },
  {
   "attachments": {},
   "cell_type": "markdown",
   "metadata": {},
   "source": [
    "### 3a. Implementing hardening"
   ]
  },
  {
   "cell_type": "code",
   "execution_count": 33,
   "metadata": {},
   "outputs": [],
   "source": [
    "def hardening(batch_size):\n",
    "    model_hardening = SGDClassifier(loss='log_loss')\n",
    "\n",
    "    # batch_size = 24\n",
    "    num_batches = len(X_train) // batch_size\n",
    "\n",
    "    coef_hardened = [[0] * len(X_train[0])]\n",
    "\n",
    "    for batch in (range(num_batches)):\n",
    "        start_idx = batch * batch_size\n",
    "        end_idx = (batch + 1) * batch_size\n",
    "\n",
    "        X_batch = X_train[start_idx:end_idx]\n",
    "        y_batch = y_train[start_idx:end_idx]\n",
    "\n",
    "        X_batch_attack = create_attack(X_batch, y_batch, coef_hardened)\n",
    "        model_hardening.partial_fit(X_batch_attack, y_batch, classes=np.unique(y_train))\n",
    "\n",
    "        coef_hardened = model_hardening.coef_\n",
    "\n",
    "    X_test_attack_hardened = create_attack(X_test, y_test, coef_hardened)\n",
    "    y_pred_hardened = model_hardening.predict(X_test_attack_hardened)\n",
    "    accuracy_hardened = accuracy_score(y_test, y_pred_hardened)\n",
    "    return accuracy_hardened"
   ]
  },
  {
   "cell_type": "code",
   "execution_count": 34,
   "outputs": [
    {
     "name": "stderr",
     "output_type": "stream",
     "text": [
      "100%|██████████| 16/16 [09:31<00:00, 35.70s/it]\n"
     ]
    }
   ],
   "source": [
    "batch_sizes = [2, 4, 8, 16, 32, 64, 128, 256, 512, 1000, 2000, 2225, 2500, 2750, 3000, 3250]\n",
    "accuracy_list_hardening = []\n",
    "for batch_size in tqdm(batch_sizes):\n",
    "    accuracy_list_hardening.append(hardening(batch_size))"
   ],
   "metadata": {
    "collapsed": false
   }
  },
  {
   "attachments": {},
   "cell_type": "markdown",
   "metadata": {},
   "source": [
    "### 3b. Analysis and answers to the questions"
   ]
  },
  {
   "cell_type": "code",
   "execution_count": 34,
   "metadata": {},
   "outputs": [],
   "source": []
  },
  {
   "attachments": {},
   "cell_type": "markdown",
   "metadata": {},
   "source": [
    "## 4. Training non-negative linear models (5 Points)"
   ]
  },
  {
   "attachments": {},
   "cell_type": "markdown",
   "metadata": {},
   "source": [
    "### 4a. Implement non-negative logistic regression using SGD"
   ]
  },
  {
   "cell_type": "code",
   "execution_count": 35,
   "metadata": {},
   "outputs": [],
   "source": [
    "def non_negative(batch_size):\n",
    "    model_non_negative = SGDClassifier(loss='log_loss')\n",
    "\n",
    "    # batch_size = 24\n",
    "    num_batches = len(X_train) // batch_size\n",
    "\n",
    "    coef_non_negative = [[0] * len(X_train[0])]\n",
    "\n",
    "    for batch in (range(num_batches)):\n",
    "        start_idx = batch * batch_size\n",
    "        end_idx = (batch + 1) * batch_size\n",
    "\n",
    "        X_batch = X_train[start_idx:end_idx]\n",
    "        y_batch = y_train[start_idx:end_idx]\n",
    "\n",
    "        model_non_negative.partial_fit(X_batch, y_batch, classes=np.unique(y_train))\n",
    "        coef_non_negative = model_non_negative.coef_\n",
    "\n",
    "        for i in range(len(coef_non_negative[0])):\n",
    "            if coef_non_negative[0][i] < 0:\n",
    "                coef_non_negative[0][i] = 0\n",
    "\n",
    "        model_non_negative.coef_ = coef_non_negative\n",
    "\n",
    "\n",
    "    X_test_attack_non_negative = create_attack(X_test, y_test, coef_non_negative)\n",
    "    y_pred_non_negative = model_non_negative.predict(X_test_attack_non_negative)\n",
    "    accuracy_non_negative = accuracy_score(y_test, y_pred_non_negative)\n",
    "    return accuracy_non_negative"
   ]
  },
  {
   "cell_type": "code",
   "execution_count": 36,
   "outputs": [
    {
     "name": "stderr",
     "output_type": "stream",
     "text": [
      "100%|██████████| 16/16 [05:00<00:00, 18.75s/it]\n"
     ]
    }
   ],
   "source": [
    "batch_sizes = [2, 4, 8, 16, 32, 64, 128, 256, 512, 1000, 2000, 2225, 2500, 2750, 3000, 3250]\n",
    "accuracy_list_non_negative = []\n",
    "for batch_size in tqdm(batch_sizes):\n",
    "    accuracy_list_non_negative.append(non_negative(batch_size))"
   ],
   "metadata": {
    "collapsed": false
   }
  },
  {
   "attachments": {},
   "cell_type": "markdown",
   "metadata": {},
   "source": [
    "### 4b. Analysis and answers to the questions."
   ]
  },
  {
   "cell_type": "code",
   "execution_count": 37,
   "metadata": {},
   "outputs": [
    {
     "data": {
      "text/plain": "<Figure size 640x480 with 1 Axes>",
      "image/png": "[encoded data removed]"
     },
     "metadata": {},
     "output_type": "display_data"
    }
   ],
   "source": [
    "# Plot the accuracies for each batch size\n",
    "plt.plot(batch_sizes, accuracy_list_hardening, marker='o', label='Hardened Model')\n",
    "plt.plot(batch_sizes, accuracy_list_non_negative, marker='o', label='Non-Negative Model')\n",
    "\n",
    "# Add labels and title to the plot\n",
    "plt.xlabel('Batch Size')\n",
    "plt.ylabel('Accuracy')\n",
    "plt.title('Accuracy vs. Batch Size')\n",
    "\n",
    "# Add legend\n",
    "plt.legend()\n",
    "\n",
    "# Show the plot\n",
    "plt.show()"
   ]
  },
  {
   "cell_type": "code",
   "execution_count": 38,
   "outputs": [
    {
     "name": "stdout",
     "output_type": "stream",
     "text": [
      "[0.9417763157894737, 0.940625, 0.9473684210526315, 0.9421052631578948, 0.9552631578947368, 0.9800986842105263, 0.990953947368421, 0.9894736842105263, 0.9995065789473684, 0.999671052631579, 0.9993421052631579, 0.9991776315789473, 0.9978618421052632, 0.9991776315789473, 0.9973684210526316, 0.9898026315789473]\n",
      "[0.959375, 0.952796052631579, 0.9384868421052631, 0.9519736842105263, 0.9743421052631579, 0.9702302631578947, 0.9748355263157895, 0.984046052631579, 0.9911184210526316, 0.9952302631578948, 0.9991776315789473, 0.9998355263157894, 0.999671052631579, 0.9998355263157894, 0.9991776315789473, 0.9998355263157894]\n"
     ]
    }
   ],
   "source": [
    "print(accuracy_list_non_negative)\n",
    "print(accuracy_list_hardening)"
   ],
   "metadata": {
    "collapsed": false
   }
  },
  {
   "attachments": {},
   "cell_type": "markdown",
   "metadata": {},
   "source": [
    "## 5. Bonus: robust decision trees for fraud detection (5 Points)"
   ]
  },
  {
   "attachments": {},
   "cell_type": "markdown",
   "metadata": {},
   "source": [
    "### 5a. Train and analyze a regular decision tree for fraud detection"
   ]
  },
  {
   "cell_type": "code",
   "execution_count": 38,
   "metadata": {},
   "outputs": [],
   "source": []
  },
  {
   "attachments": {},
   "cell_type": "markdown",
   "metadata": {},
   "source": []
  },
  {
   "attachments": {},
   "cell_type": "markdown",
   "metadata": {},
   "source": [
    "### 5b. Train and analyze a robust decision tree (GROOT) for fraud detection"
   ]
  },
  {
   "cell_type": "code",
   "execution_count": 38,
   "metadata": {},
   "outputs": [],
   "source": []
  },
  {
   "attachments": {},
   "cell_type": "markdown",
   "metadata": {},
   "source": []
  },
  {
   "attachments": {},
   "cell_type": "markdown",
   "metadata": {},
   "source": [
    "### 5c. Evaluate the robustness of the two models"
   ]
  },
  {
   "cell_type": "code",
   "execution_count": 38,
   "metadata": {},
   "outputs": [],
   "source": []
  },
  {
   "attachments": {},
   "cell_type": "markdown",
   "metadata": {},
   "source": []
  }
 ],
 "metadata": {
  "kernelspec": {
   "display_name": "Python 3 (ipykernel)",
   "language": "python",
   "name": "python3"
  },
  "language_info": {
   "codemirror_mode": {
    "name": "ipython",
    "version": 3
   },
   "file_extension": ".py",
   "mimetype": "text/x-python",
   "name": "python",
   "nbconvert_exporter": "python",
   "pygments_lexer": "ipython3",
   "version": "3.9.7"
  }
 },
 "nbformat": 4,
 "nbformat_minor": 2
}
